{
 "cells": [
  {
   "attachments": {},
   "cell_type": "markdown",
   "metadata": {
    "id": "LQQrfyimA8-j"
   },
   "source": [
    "### IDs:\n",
    "Insert yours IDs to the cell below"
   ]
  },
  {
   "attachments": {},
   "cell_type": "markdown",
   "metadata": {
    "id": "unU9f2hNA8-o"
   },
   "source": [
    "## Read the following instructions carefully:\n",
    "\n",
    "1. This jupyter notebook contains all the step by step instructions needed for this exercise.\n",
    "1. You are free to add cells.\n",
    "1. Write your functions and your answers in this jupyter notebook only.\n",
    "1. Answers to theoretical questions should be written in **markdown cells (with $\\LaTeX$ support)**.\n",
    "1. Submit this jupyter notebook only using your ID as a filename. Not to use ZIP or RAR. For example, your Moodle submission file name should look like this (two id numbers): `123456789_987654321.ipynb`."
   ]
  },
  {
   "cell_type": "code",
   "execution_count": 12,
   "metadata": {
    "id": "FDyqaVER4hT5"
   },
   "outputs": [],
   "source": [
    "import scipy.stats\n",
    "import numpy as np\n",
    "import matplotlib.pyplot as plt\n",
    "import pandas as pd\n",
    "import warnings\n",
    "warnings.filterwarnings('ignore')\n"
   ]
  },
  {
   "attachments": {},
   "cell_type": "markdown",
   "metadata": {
    "id": "dGV3vTLhA8-p"
   },
   "source": [
    "### Question 1 - Defective products"
   ]
  },
  {
   "attachments": {},
   "cell_type": "markdown",
   "metadata": {
    "id": "5io2sh9GA8-p"
   },
   "source": [
    "In a manufacturing pipeline products are 3% defective. We are interested in examining a defective product to see what goes wrong on the belt. We need to ask the facility manager to send us a set of independent samples for examination."
   ]
  },
  {
   "attachments": {},
   "cell_type": "markdown",
   "metadata": {
    "id": "3MCQL6IGA8-p"
   },
   "source": [
    "#### 1.A\n",
    "\n",
    "How many independent samples should we ask for in order to have a 85% probability of having at least one defective product in the batch sent? You should write a function."
   ]
  },
  {
   "cell_type": "code",
   "execution_count": null,
   "metadata": {
    "id": "HthSllBsA8-q"
   },
   "outputs": [],
   "source": [
    "# Solution 1\n",
    "from scipy.stats import binom\n",
    "\n",
    "def get_defective_from_sample(wanted_prob_defective,prob_sample, num_of_defectives):\n",
    "    number_of_samples = num_of_defectives\n",
    "    x=binom(number_of_samples,prob_sample)\n",
    "    exceed = False\n",
    "    while exceed == False:\n",
    "        if wanted_prob_defective < 1 - x.cdf(num_of_defectives-1):\n",
    "            exceed = True\n",
    "        else:\n",
    "            number_of_samples += 1\n",
    "            x=binom(number_of_samples,prob_sample)\n",
    "    return number_of_samples"
   ]
  },
  {
   "attachments": {},
   "cell_type": "markdown",
   "metadata": {
    "id": "zDpmY31ADvaX"
   },
   "source": [
    "In this solution we iterated over different binomial distributions increasing the number of trials (independent samples) until we got $P(X>=No. \\ of \\ Defectives)=1-CDF(No. \\ of \\ Defectives-1)$ to be larger than the wanted probability. This indicates that we achieved a number of trials that will give us at least the probability asked."
   ]
  },
  {
   "cell_type": "code",
   "execution_count": null,
   "metadata": {
    "id": "J4RrRuZzFvGU"
   },
   "outputs": [],
   "source": [
    "# solution 2\n",
    "from scipy.stats import nbinom\n",
    "\n",
    "def get_defective_from_sample_2(wanted_prob_defective,prob_sample, num_of_defectives):\n",
    "    return nbinom.ppf(q=wanted_prob_defective, n=num_of_defectives, p=prob_sample, loc=num_of_defectives)"
   ]
  },
  {
   "attachments": {},
   "cell_type": "markdown",
   "metadata": {
    "id": "y1JNVhL1Gyjr"
   },
   "source": [
    "In this solution we used the Percent Point Function (the inverse of CDF) on the a Negative Binomial Distribution. This gives us the number of trials we need in order to achieve at least the number of defectives asked."
   ]
  },
  {
   "cell_type": "code",
   "execution_count": null,
   "metadata": {
    "colab": {
     "base_uri": "https://localhost:8080/"
    },
    "id": "u_NNQpbdGXLx",
    "outputId": "36ce070f-9f32-429e-e2f0-24c9f36a14f3"
   },
   "outputs": [
    {
     "name": "stdout",
     "output_type": "stream",
     "text": [
      "63\n",
      "63.0\n"
     ]
    }
   ],
   "source": [
    "print(get_defective_from_sample(0.85, 0.03, 1))\n",
    "print(get_defective_from_sample_2(0.85, 0.03, 1))"
   ]
  },
  {
   "attachments": {},
   "cell_type": "markdown",
   "metadata": {
    "id": "rx1elryfA8-r"
   },
   "source": [
    "#### 1.B\n",
    "Answer this part again with the following changes: products are 4% defective and we want a 95% probability of at least one defective product in the batch."
   ]
  },
  {
   "cell_type": "code",
   "execution_count": null,
   "metadata": {
    "colab": {
     "base_uri": "https://localhost:8080/"
    },
    "id": "Dh0zR2CGA8-r",
    "outputId": "01c99a66-4bf3-46ec-c1e1-4efeeb8fa2bf"
   },
   "outputs": [
    {
     "name": "stdout",
     "output_type": "stream",
     "text": [
      "74\n",
      "74.0\n"
     ]
    }
   ],
   "source": [
    "print(get_defective_from_sample(0.95,0.04,1))\n",
    "print(get_defective_from_sample_2(0.95,0.04,1))"
   ]
  },
  {
   "attachments": {},
   "cell_type": "markdown",
   "metadata": {
    "id": "G3stKtAbA8-s"
   },
   "source": [
    "#### 1.C \n",
    "\n",
    "Consider the following cases and calculate how many independent samples are required: \n",
    "\n",
    "1. Products are 10% defective and we want a 90% probability of at least 5 defective products in the batch.\n",
    "1. Products are 30% defective and we want a 90% probability of at least 15 defective products in the batch.\n",
    "\n",
    "Explain the difference between the two results. You should use mathematical reasoning based on the properties of distributions you saw in class and visualizations in your answer."
   ]
  },
  {
   "cell_type": "code",
   "execution_count": null,
   "metadata": {
    "colab": {
     "base_uri": "https://localhost:8080/"
    },
    "id": "1FMjgBdOA8-t",
    "outputId": "c8b3e889-adbb-499b-b37d-c0e7d021b0d1"
   },
   "outputs": [
    {
     "name": "stdout",
     "output_type": "stream",
     "text": [
      "78\n",
      "64\n"
     ]
    }
   ],
   "source": [
    "print(get_defective_from_sample(0.90,0.1,5))\n",
    "\n",
    "print(get_defective_from_sample(0.90,0.3,15))"
   ]
  },
  {
   "cell_type": "code",
   "execution_count": 15,
   "metadata": {
    "colab": {
     "base_uri": "https://localhost:8080/",
     "height": 426
    },
    "id": "ThxiP1jHIhKN",
    "outputId": "013adc3f-afba-4bf9-ce57-1f0eba890e8e"
   },
   "outputs": [
    {
     "name": "stdout",
     "output_type": "stream",
     "text": [
      "x1 Mean:50.00, x1 Var:450.00\n",
      "x2 Mean:50.00, x1 Var:116.67\n"
     ]
    },
    {
     "data": {
      "image/png": "[encoded data removed]",
      "text/plain": [
       "<Figure size 1008x432 with 2 Axes>"
      ]
     },
     "metadata": {
      "needs_background": "light"
     },
     "output_type": "display_data"
    }
   ],
   "source": [
    "from scipy.stats import nbinom\n",
    "x1 = nbinom(5, 0.1, loc=5)\n",
    "x2 = nbinom(15, 0.3, loc =15)\n",
    "#i =  range(0, 40)\n",
    "i = range(0,int(round(2*5/0.1,0)))\n",
    "p_x1 = x1.pmf([xx for xx in i])\n",
    "p_x2 = x2.pmf([xx for xx in i])\n",
    "cdf_x1 = x1.cdf([xx for xx in i])\n",
    "cdf_x2 = x2.cdf([xx for xx in i])\n",
    "\n",
    "plt.figure(figsize=(14,6))\n",
    "plt.subplot(1,2,1)\n",
    "plt.plot(i, p_x1,'v',label='0.1')\n",
    "plt.plot(i,p_x2,'x',label='0.3')\n",
    "plt.xlabel(\"Defectives\", fontsize = 16)\n",
    "plt.ylabel(\"Prob(Defectives)\", fontsize = 16)\n",
    "plt.legend(fontsize=16);\n",
    "plt.subplot(1,2,2)\n",
    "plt.plot(i, cdf_x1,'v',label='0.1')\n",
    "plt.plot(i,cdf_x2,'x',label='0.3')\n",
    "plt.xlabel(\"Defectives\", fontsize = 16)\n",
    "plt.ylabel(\"DCF(Defectives)\", fontsize = 16)\n",
    "plt.axhline(y= 0.9, color='k')\n",
    "plt.axvline(x= 64, linewidth=2, color='r')\n",
    "plt.axvline(x= 78, linewidth=2, color='g')\n",
    "\n",
    "plt.legend(fontsize=16);\n",
    "\n",
    "print(\"x1 Mean:{:.2f}, x1 Var:{:.2f}\".format(x1.mean(),x1.var()))\n",
    "print(\"x2 Mean:{:.2f}, x1 Var:{:.2f}\".format(x2.mean(),x2.var()))"
   ]
  },
  {
   "attachments": {},
   "cell_type": "markdown",
   "metadata": {
    "id": "o1pow9Mdr4L1"
   },
   "source": [
    "Let try to visualize which one of the distributions is 'quicker', in terms of samples, to reach its number of defectives"
   ]
  },
  {
   "cell_type": "code",
   "execution_count": 16,
   "metadata": {
    "id": "e2r302wbpduF"
   },
   "outputs": [],
   "source": [
    "\n",
    "upper = []\n",
    "for i in range(0, 80):\n",
    "    sum=0\n",
    "    for j in range(5, i):\n",
    "        sum+=x1.pmf(j)*(1-x2.cdf(j-1))\n",
    "    upper.append(1-sum)\n",
    "lower = []\n",
    "for i in range(0, 80):\n",
    "    sum=0\n",
    "    for j in range(15, i):\n",
    "        sum += x2.pmf(j)*(1-x1.cdf(j))\n",
    "    lower.append(sum)"
   ]
  },
  {
   "cell_type": "code",
   "execution_count": 17,
   "metadata": {
    "colab": {
     "base_uri": "https://localhost:8080/",
     "height": 410
    },
    "id": "PX2q4An2pexf",
    "outputId": "28871960-83bc-4343-a415-60cd4bb22093"
   },
   "outputs": [
    {
     "name": "stdout",
     "output_type": "stream",
     "text": [
      "P(x1>x2) [0.45134620397558717,0.4524644697261766]\n"
     ]
    },
    {
     "data": {
      "image/png": "[encoded data removed]",
      "text/plain": [
       "<Figure size 1008x432 with 1 Axes>"
      ]
     },
     "metadata": {
      "needs_background": "light"
     },
     "output_type": "display_data"
    }
   ],
   "source": [
    "plt.figure(figsize=(14,6))\n",
    "plt.subplot(1,2,1)\n",
    "plt.plot(range(0, 80), upper,'v',label='0.1')\n",
    "plt.plot(range(0, 80),lower,'x',label='0.3')\n",
    "plt.xlabel(\"Samples\", fontsize = 16)\n",
    "plt.ylabel(\"Prob(X1/X2)\", fontsize = 16)\n",
    "plt.legend(fontsize=16);\n",
    "print(\"P(x1>x2) [{},{}]\".format(lower[-1],upper[-1]))"
   ]
  },
  {
   "attachments": {},
   "cell_type": "markdown",
   "metadata": {
    "id": "W9yqJgdhpyzv"
   },
   "source": [
    "The probability that $X1>X2$ is lower than 0.5, Thus $X2$ is likely to reach 15 defectives 'quicker' then $X1$ reach 5 defectives, corresponding to our initial results"
   ]
  },
  {
   "attachments": {},
   "cell_type": "markdown",
   "metadata": {
    "id": "8P1836beA8-t"
   },
   "source": [
    "### Question 2 - Rent distributions in Randomistan"
   ]
  },
  {
   "attachments": {},
   "cell_type": "markdown",
   "metadata": {
    "id": "1SaPmJ9eA8-u"
   },
   "source": [
    "The state of Randomistan conducted a survey to study the distribution of rent paid in two neighboring towns, Stochastic Heights and Random Grove, to be denoted SH and RG.<br> \n",
    "\n",
    "Here are some findings of the survey:\n",
    "* The population of SH and RG is 16,000 and 22,000 respectively. <br>\n",
    "* The mean rent in SH and RG is 6300RCU and 4200RCU respectively.\n",
    "* The median rent is 4600RCU in both towns.\n",
    "* The IQR of the rent is smaller in SH than in RG.\n",
    "\n",
    "All data generated in this question needs to be consistent with these findings."
   ]
  },
  {
   "attachments": {},
   "cell_type": "markdown",
   "metadata": {
    "id": "nu7-8zT3A8-u"
   },
   "source": [
    "#### 2.A\n",
    "Draw histograms that describe 2 different scenarii of possible distributions of rent in the two towns.\u000b\n",
    "Your histograms should:<br>\n",
    "* Use bins of 100RCU each.\n",
    "* Have at least 10 non zero bins."
   ]
  },
  {
   "cell_type": "code",
   "execution_count": 3,
   "metadata": {
    "colab": {
     "base_uri": "https://localhost:8080/",
     "height": 533
    },
    "id": "lmXt3RPOA8-v",
    "outputId": "4d6e5345-1238-49d5-a219-292590cea277"
   },
   "outputs": [
    {
     "name": "stdout",
     "output_type": "stream",
     "text": [
      "RG Median:4600.0, RG Mean:4200.0, RG IQR:3200.0\n",
      "SH Median:4600.0, SH Mean:6300.0, SH IQR:3100.0\n"
     ]
    },
    {
     "data": {
      "image/png": "[encoded data removed]",
      "text/plain": [
       "<Figure size 576x576 with 1 Axes>"
      ]
     },
     "metadata": {
      "needs_background": "light"
     },
     "output_type": "display_data"
    }
   ],
   "source": [
    "rg_size = 22000\n",
    "rg = np.array([2000,2400,2500,2600,4100,4600,4900,5200,5700,6000,6200] * int(rg_size/11))\n",
    "rg_median = np.median(rg)\n",
    "rg_mean = np.mean(rg)\n",
    "rg_iqr = np.percentile(rg,75) - np.percentile(rg,25)\n",
    "print(\"RG Median:{}, RG Mean:{}, RG IQR:{}\".format(rg_median,rg_mean, rg_iqr))\n",
    "\n",
    "sh_size = 16000\n",
    "sh = np.array([4100,4200,4300,4400,4500,4600,7200,7300,7400,10500,10800] * int(sh_size/11))\n",
    "sh_median = np.median(sh)\n",
    "sh_mean = np.mean(sh)\n",
    "sh_iqr = np.percentile(sh,75) - np.percentile(sh,25)\n",
    "print(\"SH Median:{}, SH Mean:{}, SH IQR:{}\".format(sh_median,sh_mean, sh_iqr))\n",
    "\n",
    "pd.DataFrame(rg).hist(bins=100, figsize=(8,8))\n",
    "plt.title('RG Histogram, Scenario 1');"
   ]
  },
  {
   "cell_type": "code",
   "execution_count": null,
   "metadata": {
    "colab": {
     "base_uri": "https://localhost:8080/",
     "height": 499
    },
    "id": "W5SgeX42d-WA",
    "outputId": "55a9a4fe-dc66-48fe-d274-1367d8ddb9f9"
   },
   "outputs": [
    {
     "data": {
      "image/png": "[encoded data removed]",
      "text/plain": [
       "<Figure size 576x576 with 1 Axes>"
      ]
     },
     "metadata": {
      "needs_background": "light"
     },
     "output_type": "display_data"
    }
   ],
   "source": [
    "pd.DataFrame(sh).hist(bins=100, figsize=(8,8))\n",
    "plt.title('SH Histogram, Scenario 1');"
   ]
  },
  {
   "cell_type": "code",
   "execution_count": 18,
   "metadata": {
    "colab": {
     "base_uri": "https://localhost:8080/",
     "height": 241
    },
    "id": "aEMTSKIDvtHD",
    "outputId": "676c81ab-e505-4486-a34b-47f4737a1744"
   },
   "outputs": [
    {
     "data": {
      "image/png": "[encoded data removed]",
      "text/plain": [
       "<Figure size 720x216 with 1 Axes>"
      ]
     },
     "metadata": {
      "needs_background": "light"
     },
     "output_type": "display_data"
    }
   ],
   "source": [
    "fig = plt.figure()\n",
    "fig.set_size_inches(10, 3)\n",
    "ax = plt.axes()\n",
    "ax.boxplot([sh,rg], labels =['SH','RG'], vert=False, showmeans=True, showcaps=True, meanline = True, showfliers = True, widths=0.5)\n",
    "ax.set_title('BoxPlot - Scenario 1')\n",
    "ax.set_xlabel('Rent')\n",
    "plt.show();\n"
   ]
  },
  {
   "cell_type": "code",
   "execution_count": 7,
   "metadata": {
    "colab": {
     "base_uri": "https://localhost:8080/",
     "height": 533
    },
    "id": "kTDTbQeyeDZM",
    "outputId": "1e9568cd-0607-46fb-9ccc-04598352b3cd"
   },
   "outputs": [
    {
     "name": "stdout",
     "output_type": "stream",
     "text": [
      "RG2 Median:4600.0, RG2 Mean:4200.0, RG2 IQR:8200.0\n",
      "SH2 Median:4600.0, SH2 Mean:6300.0, SH2 IQR:3500.0\n"
     ]
    },
    {
     "data": {
      "image/png": "[encoded data removed]",
      "text/plain": [
       "<Figure size 576x576 with 1 Axes>"
      ]
     },
     "metadata": {
      "needs_background": "light"
     },
     "output_type": "display_data"
    }
   ],
   "source": [
    "rg_size = 22000\n",
    "rg2 = np.array([300,500,700,1000,1100,4600,4700,6300,8900,9000,9100] * int(rg_size/11))\n",
    "rg_median = np.median(rg2)\n",
    "rg_mean = np.mean(rg2)\n",
    "rg_iqr = np.percentile(rg2,75) - np.percentile(rg2,25)\n",
    "print(\"RG2 Median:{}, RG2 Mean:{}, RG2 IQR:{}\".format(rg_median,rg_mean, rg_iqr))\n",
    "\n",
    "sh_size = 16000\n",
    "sh2 = np.array([3600,3800,3900,4400,4500,4600,7200,7300,7400,11000,11600] * int(sh_size/11))\n",
    "sh_median = np.median(sh2)\n",
    "sh_mean = np.mean(sh2)\n",
    "sh_iqr = np.percentile(sh2,75) - np.percentile(sh2,25)\n",
    "print(\"SH2 Median:{}, SH2 Mean:{}, SH2 IQR:{}\".format(sh_median,sh_mean, sh_iqr))\n",
    "\n",
    "pd.DataFrame(rg2).hist(bins=100, figsize=(8,8))\n",
    "plt.title('RG2 Histogram, Scenario 2');"
   ]
  },
  {
   "cell_type": "code",
   "execution_count": null,
   "metadata": {
    "colab": {
     "base_uri": "https://localhost:8080/",
     "height": 499
    },
    "id": "JJoc_tBjeENT",
    "outputId": "2b8a1b57-aaca-4f39-e95a-dbc796040bfe"
   },
   "outputs": [
    {
     "data": {
      "image/png": "[encoded data removed]",
      "text/plain": [
       "<Figure size 576x576 with 1 Axes>"
      ]
     },
     "metadata": {
      "needs_background": "light"
     },
     "output_type": "display_data"
    }
   ],
   "source": [
    "pd.DataFrame(sh2).hist(bins=100, figsize=(8,8))\n",
    "plt.title('SH2 Histogram, Scenario 2');"
   ]
  },
  {
   "cell_type": "code",
   "execution_count": 19,
   "metadata": {
    "colab": {
     "base_uri": "https://localhost:8080/",
     "height": 241
    },
    "id": "StUR1-GgwW_B",
    "outputId": "df533270-5ea8-4233-e6f6-785f021f5ea6"
   },
   "outputs": [
    {
     "data": {
      "image/png": "[encoded data removed]",
      "text/plain": [
       "<Figure size 720x216 with 1 Axes>"
      ]
     },
     "metadata": {
      "needs_background": "light"
     },
     "output_type": "display_data"
    }
   ],
   "source": [
    "fig = plt.figure()\n",
    "fig.set_size_inches(10, 3)\n",
    "ax = plt.axes()\n",
    "ax.boxplot([sh2,rg2], labels =['SH2','RG2'], vert=False, showmeans=True, showcaps=True, meanline = True, showfliers = True, widths=0.5)\n",
    "ax.set_title('BoxPlot - Scenario 2')\n",
    "ax.set_xlabel('Rent')\n",
    "plt.show();\n"
   ]
  },
  {
   "attachments": {},
   "cell_type": "markdown",
   "metadata": {
    "id": "swlCuj5mA8-v"
   },
   "source": [
    "#### 2.B\n",
    "Draw a histogram of a third scenario with the same properties. <br>\n",
    "In addition, in this scenario the rent in SH should have a higher variance than the rent in RG."
   ]
  },
  {
   "cell_type": "code",
   "execution_count": 9,
   "metadata": {
    "colab": {
     "base_uri": "https://localhost:8080/"
    },
    "id": "oPWhtbnQA8-w",
    "outputId": "db35f3b3-dad1-4735-9d3a-dbf61ff62685"
   },
   "outputs": [
    {
     "name": "stdout",
     "output_type": "stream",
     "text": [
      "RG3 Median:4600.0, RG3 Mean:4200.0, RG3 IQR:3200.0\n",
      "SH3 Median:4600.0, SH3 Mean:6300.0, SH3 IQR:3100.0\n",
      "RG3 VAR:2290909.090909091, SH3 VAR:5927272.7272727275\n"
     ]
    }
   ],
   "source": [
    "rg_size = 22000\n",
    "rg3 = np.array([2000,2300,2500,2600,4100,4600,5000,5200,5700,6000,6200] * int(rg_size/11))\n",
    "rg_median = np.median(rg3)\n",
    "rg_mean = np.mean(rg3)\n",
    "rg_iqr = np.percentile(rg3,75) - np.percentile(rg3,25)\n",
    "print(\"RG3 Median:{}, RG3 Mean:{}, RG3 IQR:{}\".format(rg_median,rg_mean, rg_iqr))\n",
    "\n",
    "sh_size = 16000\n",
    "sh3 = np.array([4000,4200,4300,4400,4500,4600,7200,7300,7400,10600,10800] * int(sh_size/11))\n",
    "sh_median = np.median(sh3)\n",
    "sh_mean = np.mean(sh3)\n",
    "sh_iqr = np.percentile(sh3,75) - np.percentile(sh3,25)\n",
    "print(\"SH3 Median:{}, SH3 Mean:{}, SH3 IQR:{}\".format(sh_median,sh_mean, sh_iqr))\n",
    "\n",
    "sh3_var = np.var(sh3)\n",
    "rg3_var = np.var(rg3)\n",
    "print(\"RG3 VAR:{}, SH3 VAR:{}\".format(rg3_var , sh3_var))\n"
   ]
  },
  {
   "cell_type": "code",
   "execution_count": null,
   "metadata": {
    "colab": {
     "base_uri": "https://localhost:8080/",
     "height": 499
    },
    "id": "PYPgQJJ_eWKT",
    "outputId": "85307bf8-f6e7-4a0b-e5c3-b320ea4c06ba"
   },
   "outputs": [
    {
     "data": {
      "image/png": "[encoded data removed]",
      "text/plain": [
       "<Figure size 576x576 with 1 Axes>"
      ]
     },
     "metadata": {
      "needs_background": "light"
     },
     "output_type": "display_data"
    }
   ],
   "source": [
    "pd.DataFrame(rg2).hist(bins=100, figsize=(8,8))\n",
    "plt.title('RG3 Histogram, Scenario 3');"
   ]
  },
  {
   "cell_type": "code",
   "execution_count": null,
   "metadata": {
    "colab": {
     "base_uri": "https://localhost:8080/",
     "height": 499
    },
    "id": "Yb74yLGperUp",
    "outputId": "2242b89b-2b9a-4d30-cb40-dcbee478293f"
   },
   "outputs": [
    {
     "data": {
      "image/png": "[encoded data removed]",
      "text/plain": [
       "<Figure size 576x576 with 1 Axes>"
      ]
     },
     "metadata": {
      "needs_background": "light"
     },
     "output_type": "display_data"
    }
   ],
   "source": [
    "pd.DataFrame(sh3).hist(bins=100, figsize=(8,8))\n",
    "plt.title('SH3 Histogram, Scenario 3');"
   ]
  },
  {
   "cell_type": "code",
   "execution_count": 11,
   "metadata": {
    "colab": {
     "base_uri": "https://localhost:8080/",
     "height": 241
    },
    "id": "b1wVbBbTwwan",
    "outputId": "3fd37777-f123-48b1-f584-bf7fd71fbd22"
   },
   "outputs": [
    {
     "data": {
      "image/png": "[encoded data removed]",
      "text/plain": [
       "<Figure size 720x216 with 1 Axes>"
      ]
     },
     "metadata": {
      "needs_background": "light"
     },
     "output_type": "display_data"
    }
   ],
   "source": [
    "fig = plt.figure()\n",
    "fig.set_size_inches(10, 3)\n",
    "ax = plt.axes()\n",
    "ax.boxplot([sh3,rg3], labels =['SH3','RG3'], vert=False, showmeans=True, showcaps=True, meanline = True, showfliers = True, widths=0.5)\n",
    "ax.set_title('BoxPlot - Scenario 3')\n",
    "ax.set_xlabel('Rent')\n",
    "plt.show();\n"
   ]
  },
  {
   "attachments": {},
   "cell_type": "markdown",
   "metadata": {
    "id": "MFkLv8CDA8-w"
   },
   "source": [
    "The survey also examined the per household income (PHI) in these two places.<br>\n",
    "\n",
    "It found that:<br>\n",
    "* The mean of PHI in SH is 12500 and in RG is 8500.\n",
    "* The median is 12000 in SH and 8000 in RG.\n",
    "* The covariance of the rent and the PHI was observed to be as in the formula below with $\\alpha=97\\%$ and $\\alpha=89\\%$ in SH and in RG respectively.<br><br>\n",
    "$$Cov(rent, PHI) = \\alpha * \\sqrt{Var(rent)} * \\sqrt{Var(PHI)}$$\n",
    "\n",
    "#### 2.C\n",
    "Produce rent and PHI data for the two cities, that is consistent with these findings. The covariances in your data can deviate by up to 1% from the numbers given $\\alpha$."
   ]
  },
  {
   "cell_type": "code",
   "execution_count": null,
   "metadata": {
    "colab": {
     "base_uri": "https://localhost:8080/"
    },
    "id": "E7NJeUoYA8-x",
    "outputId": "115e7e4e-81b9-4f65-8d38-2b4a31eafcd6"
   },
   "outputs": [
    {
     "name": "stdout",
     "output_type": "stream",
     "text": [
      "SH PHI Median:12000.0, SH PHI Mean:12500.0\n",
      "RG PHI Median:8000.0, RG PHI Mean:8500.0\n"
     ]
    }
   ],
   "source": [
    "sh3 = np.array([4000,4200,4300,4400,4500,4600,7200,7300,7400,10600,10800] * int(sh_size/11))\n",
    "sh_phi = np.array([6222,  7885,  8766, 9267,  9307, 12000, 13545, 14324, 16572, 19754, 19858] * int(sh_size/11))\n",
    "sh_phi_median = np.median(sh_phi)\n",
    "sh_phi_mean = np.mean(sh_phi)\n",
    "print(\"SH PHI Median:{}, SH PHI Mean:{}\".format(sh_phi_median,sh_phi_mean))\n",
    "\n",
    "rg3 = np.array([2000,2300,2500,2600,4100,4600,5000,5200,5700,6000,6200] * int(rg_size/11))\n",
    "rg_phi = np.array([5572,  6462,  6777,  7115,  7155,  8000,  8466,  8495, 10458, 11888, 13112]* int(rg_size/11))\n",
    "rg_phi_median = np.median(rg_phi)\n",
    "rg_phi_mean = np.mean(rg_phi)\n",
    "print(\"RG PHI Median:{}, RG PHI Mean:{}\".format(rg_phi_median,rg_phi_mean))"
   ]
  },
  {
   "cell_type": "code",
   "execution_count": null,
   "metadata": {
    "colab": {
     "base_uri": "https://localhost:8080/"
    },
    "id": "FzxCBSoLe9T0",
    "outputId": "ac9cf9bd-bd91-434d-ae54-a4d6bce5e961"
   },
   "outputs": [
    {
     "data": {
      "text/plain": [
       "[3046382.884978661, 10640438.529357864]"
      ]
     },
     "execution_count": 15,
     "metadata": {},
     "output_type": "execute_result"
    }
   ],
   "source": [
    "#the covariance(rent,PHI) based on the formula:\n",
    "exp_cov_sh = 0.97 * np.var(sh_phi)**0.5 * np.var(sh3)**0.5\n",
    "exp_cov_rg = 0.89 * np.var(rg_phi)**0.5 * np.var(rg3)**0.5\n",
    "[exp_cov_rg, exp_cov_sh]"
   ]
  },
  {
   "cell_type": "code",
   "execution_count": null,
   "metadata": {
    "colab": {
     "base_uri": "https://localhost:8080/"
    },
    "id": "o8pH3xiqg9hg",
    "outputId": "b9f8810d-5ecf-4249-8558-5f4ce5592813"
   },
   "outputs": [
    {
     "data": {
      "text/plain": [
       "[1.003339774295629, 0.9901603697931426]"
      ]
     },
     "execution_count": 16,
     "metadata": {},
     "output_type": "execute_result"
    }
   ],
   "source": [
    "#the covariance based on the distributions:\n",
    "cov_sh = np.cov(sh3,sh_phi)[0,1]\n",
    "cov_rg = np.cov(rg3,rg_phi)[0,1]\n",
    "#the ratio is no greater then 1%\n",
    "[cov_rg/exp_cov_rg , cov_sh/exp_cov_sh]"
   ]
  },
  {
   "attachments": {},
   "cell_type": "markdown",
   "metadata": {
    "id": "ClU1iLmtA8-x"
   },
   "source": [
    "#### 2.D\n",
    "Produce two heatmaps that describe these two bivariate joint distributions. Make sure you carefully consider the selected binning resolution."
   ]
  },
  {
   "cell_type": "code",
   "execution_count": null,
   "metadata": {
    "colab": {
     "base_uri": "https://localhost:8080/",
     "height": 280
    },
    "id": "dBUh3WSrA8-x",
    "outputId": "7705bc43-591a-4bb7-bc7b-1edb8bad07ab"
   },
   "outputs": [
    {
     "data": {
      "image/png": "[encoded data removed]",
      "text/plain": [
       "<Figure size 432x288 with 1 Axes>"
      ]
     },
     "metadata": {
      "needs_background": "light"
     },
     "output_type": "display_data"
    }
   ],
   "source": [
    "plt.hist2d(x=rg,y=rg_phi,cmap='gist_heat',bins=5)\n",
    "plt.xlabel('RG Rent')\n",
    "plt.ylabel('RG PHI')\n",
    "plt.show()"
   ]
  },
  {
   "cell_type": "code",
   "execution_count": null,
   "metadata": {
    "colab": {
     "base_uri": "https://localhost:8080/",
     "height": 279
    },
    "id": "nfQxm6SpiSBu",
    "outputId": "a779cb45-d579-49d8-9ad9-cccb6cfb75e2"
   },
   "outputs": [
    {
     "data": {
      "image/png": "[encoded data removed]",
      "text/plain": [
       "<Figure size 432x288 with 1 Axes>"
      ]
     },
     "metadata": {
      "needs_background": "light"
     },
     "output_type": "display_data"
    }
   ],
   "source": [
    "plt.hist2d(x=sh,y=sh_phi,cmap='cividis',bins=5)\n",
    "plt.xlabel('SH Rent')\n",
    "plt.ylabel('SH PHI')\n",
    "plt.show()"
   ]
  },
  {
   "attachments": {},
   "cell_type": "markdown",
   "metadata": {
    "id": "dXJWTfIlA8-x"
   },
   "source": [
    "### Question 3 - Multinomial Distributions\n",
    "\n",
    "1. Let $X \\sim Multinomial(n,\\vec{p})$ be a multinomial random variable where $n=20$ and $\\vec{p} = (0.2,  0.1,  0.1,  0.1,  0.2,  0.3)$. Note that X is a vector of counts.\n",
    "\n",
    "\n",
    "2. Let $Y = X_2 + X_3 + X_4$ be a random variable.\n",
    "\n",
    "\n",
    "3. Create $k=100$ experiments where $X$ is sampled using Python. Calculate the empirical centralized third moment of $Y$ based on your $k$ experiments.\n",
    "\n",
    "\n",
    "4. Compare your result to the calculation in class for the centralized third moment of the **binomial** distribution and explain your observation."
   ]
  },
  {
   "cell_type": "code",
   "execution_count": null,
   "metadata": {
    "id": "5wDJdiu-2DjW"
   },
   "outputs": [],
   "source": [
    "import scipy.stats as stats"
   ]
  },
  {
   "cell_type": "code",
   "execution_count": null,
   "metadata": {
    "colab": {
     "base_uri": "https://localhost:8080/"
    },
    "id": "W3oxVBLhA8-y",
    "outputId": "3cfa705a-233b-49fa-f754-2bbebc38dfee"
   },
   "outputs": [
    {
     "name": "stdout",
     "output_type": "stream",
     "text": [
      "1.6781733203708162\n",
      "1.6799999999999997\n"
     ]
    }
   ],
   "source": [
    "rv = stats.multinomial(20, [0.2,0.1,0.1,0.1,0.2,0.3])\n",
    "exp = rv.rvs(size=100)\n",
    "y = exp[:,1:4].sum(axis=1)\n",
    "empiricalM = stats.moment(y, moment=3)\n",
    "binomialM = 20*0.3*(1-0.3)*(1-0.6)\n",
    "print(empiricalM)\n",
    "print(binomialM)"
   ]
  },
  {
   "attachments": {},
   "cell_type": "markdown",
   "metadata": {
    "id": "zkNzDs4zd9WC"
   },
   "source": [
    "There is an obvious difference between the two results. one is the theoretical centralized third moment of the distribution and the other one is the empirical centralized third moment which is based on a sample and computed as follows:\n",
    "\n",
    "$ m_{3}=\\frac{1}{n}\\sum_{i=1}^{n}(x_{i}-\\overline{x})^{3} $\n",
    "\n",
    "The mean is based on the sample data and is different than the theoretical one.\n",
    "As we increase the number of experiments to a larger number the two values will converge.\n"
   ]
  },
  {
   "attachments": {},
   "cell_type": "markdown",
   "metadata": {
    "id": "Tr5vPviUA8-y"
   },
   "source": [
    "### Question 4 - Covariance and independence"
   ]
  },
  {
   "attachments": {},
   "cell_type": "markdown",
   "metadata": {
    "id": "GKq_kA-zA8-y"
   },
   "source": [
    "What is the variance of the sum X +Y + Z of three random variables in terms of the variances of X, Y and Z and the covariances between each pair of random variables? What happens if X,Y,Z are pairwise independent? If X,Y,Z are pairwise independent, are they necessarily collectively independent? Prove your answer."
   ]
  },
  {
   "attachments": {},
   "cell_type": "markdown",
   "metadata": {
    "id": "9zQLv7tdA8-y"
   },
   "source": [
    "1. **What is the variance of the sum X +Y + Z of three random variables in terms of the variances of X, Y and Z and the covariances between each pair of random variables?** \\\n",
    "\n",
    "By using the following: $$ Var(X+Y) = Var(X) + Var(Y) + 2Cov(X,Y) $$\n",
    "\\begin{align}\n",
    "        Var(X+Y+Z) &= Var(X) + Var(Y+Z) + 2Cov(X,Y+Z) \\\\\n",
    "        &= Var(X) + Var(Y) + Var(Z) + 2Cov(Y,Z) + 2Cov(X,Y+Z) \\\\[1em]\n",
    "    \\end{align}\n",
    "\n",
    "\n",
    "By using the following: $$Cov(X,Y) = E(XY) - E(X)E(Y)$$\n",
    "We'll calculate: $$Cov(X,Y+Z)$$ <br/>\n",
    "\\begin{align}\n",
    "        Cov(X,Y+Z) &= E(X(Y+Z)) - E(X)E(Y+Z) \\\\\n",
    "        &= E(XY+XZ) - E(X)E(Y+Z)\\\\\n",
    "        \\text{By linearity of Expectations: } \\\\\n",
    "        &= E(XY) + E(XZ) - E(X)(E(Y) + E(Z)) \\\\\n",
    "        &= [E(XY) - E(X)E(Y)] + [E(XZ) - E(X)E(Z)] \\\\\n",
    "        &= Cov(X,Y) + Cov(X,Z)\n",
    "    \\end{align}\n",
    "\n",
    "By using the following: $$Cov(X,Y) = E(XY) - E(X)E(Y)$$\n",
    "We'll calculate: $$Cov(X,Y+Z)$$ \\\n",
    "\n",
    "\\begin{align}\n",
    "        Cov(X,Y+Z) &= E(X(Y+Z)) - E(X)E(Y+Z) \\\\\n",
    "        &= E(XY+XZ) - E(X)E(Y+Z)\\\\\n",
    "        \\text{By linearity of Expectations:} \\\\\n",
    "        &= E(XY) + E(XZ) - E(X)(E(Y) + E(Z)) \\\\\n",
    "        &= [E(XY) - E(X)E(Y)] + [E(XZ) - E(X)E(Z)] \\\\\n",
    "        &= Cov(X,Y) + Cov(X,Z)\n",
    "    \\end{align}\n",
    "\n",
    "Hence we get:\n",
    "$$Var(X+Y+Z) = Var(X) + Var(Y) + Var(Z) + 2[Cov(X,Y) + Cov(X,Z) + Cov(Y,Z)]$$ <br/>"
   ]
  },
  {
   "attachments": {},
   "cell_type": "markdown",
   "metadata": {
    "id": "ZxCcqKWfNEh5"
   },
   "source": [
    "2. **What happens if X,Y,Z are pairwise independent?** <br/>\n",
    "\n",
    "If they are pairwise independent that means the covariance between each random variable will be 0. <br/>\n",
    "Hence: $$ Var(X+Y+Z) = Var(X) + Var(Y) + Var(Z)$$ <br/>"
   ]
  },
  {
   "attachments": {},
   "cell_type": "markdown",
   "metadata": {
    "id": "pXsWpT0gNGFE"
   },
   "source": [
    "3. **If X,Y,Z are pairwise independent, are they necessarily collectively independent?** <br/>\n",
    "\n",
    "Counterexample to show that the above does not hold:<br/><br/>\n",
    "\n",
    "Suppose $X,Y$ are two independent tosses of a fair coin, designating 1 for heads and 0 for tail. Let the third random variable $Z$ be the sum modulo 2 of the others.<br/>\n",
    "\n",
    "$X,Y,Z$ has the following probability distribution:<br/>\n",
    "\n",
    "$$\n",
    "(X,Y,Z) =\\left\\{\n",
    "    \\begin{array}\\\\\n",
    "        (0,0,0) & \\mbox{with probability 1/4,} \\\\\n",
    "        (0,1,1) & \\mbox{with probability 1/4,} \\\\\n",
    "        (1,0,1) & \\mbox{with probability 1/4,} \\\\\n",
    "        (1,1,0) & \\mbox{with probability 1/4.}\n",
    "    \\end{array}\n",
    "\\right.\n",
    "$$\n",
    "<br/>\n",
    "The margnial probability distributions are identical:<br/>\n",
    "\n",
    "$$\n",
    "P_X(0)=P_Y(0)=P_Z(0)=1/2 \\\\\n",
    "P_X(1)=P_Y(1)=P_Z(1)=1/2\n",
    "$$\n",
    "\n",
    "Looking at the bivariate distributions we also get:<br/>\n",
    "\n",
    "$$P_{X,Y}=P_{X,Z}=P_{Y,Z}$$\n",
    "\n",
    "Where $$P_{X,Y}(0,0)=P_{X,Y}(0,1)=P_{X,Y}(1,0)=P_{X,Y}(1,1)=1/4$$<br/>\n",
    "\n",
    "Since each of the pairwise joint distributions equals the product of their respective marginal distributions, the variabls are pairwise independent.<br/>\n",
    "\n",
    "However, $X,Y,Z$ are **not** collectively independent, since:\n",
    "$$P_{X,Y,Z} \\ne P_X(x)P_Y(y)P_Z(z)$$<br/>\n",
    "\n",
    "For example,\n",
    "$$P_{X,Y,Z}(0,0,0)=1/4 \\ne 1/8=P_X(0)P_Y(0)P_Z(0)$$"
   ]
  },
  {
   "attachments": {},
   "cell_type": "markdown",
   "metadata": {
    "id": "NqgQxjVOA8-z"
   },
   "source": [
    "### Question 5 - Convolutions"
   ]
  },
  {
   "attachments": {},
   "cell_type": "markdown",
   "metadata": {
    "id": "B80g7s_nA8-z"
   },
   "source": [
    "#### 5.A\n",
    "Write a program, `Q = NFoldConv(P , n)`, that takes as input:\n",
    "* A distribution, P, of a random variable that takes finitely many integer values\n",
    "* An integer n\n",
    "\n",
    "and produces the distribution, Q, of the sum of n independent repeats of random variables, each of which has the distribution P."
   ]
  },
  {
   "cell_type": "code",
   "execution_count": null,
   "metadata": {
    "id": "uKAG74W7IcrH"
   },
   "outputs": [],
   "source": [
    "from scipy.stats import rv_discrete"
   ]
  },
  {
   "cell_type": "code",
   "execution_count": null,
   "metadata": {
    "id": "aAttz5xwA8-z"
   },
   "outputs": [],
   "source": [
    "def Conv(x1, x2):\n",
    "    q =[]\n",
    "    minV = x1.support()[0] + x2.support()[0]\n",
    "    maxV = x1.support()[1] + x2.support()[1]\n",
    "    for i in range(minV, maxV+1):\n",
    "        sump = 0\n",
    "        for j in range(i):\n",
    "            sump += (x1.pmf(j)*x2.pmf(i-j))\n",
    "        q.append(sump)\n",
    "    return rv_discrete(values=(range(minV,maxV+1),q))\n"
   ]
  },
  {
   "cell_type": "code",
   "execution_count": null,
   "metadata": {
    "id": "7_iIyzFscLN7"
   },
   "outputs": [],
   "source": [
    "def NFoldConv(P , n):\n",
    "    if n == 0:\n",
    "        return []\n",
    "    if n == 1:\n",
    "        return P\n",
    "    Q = NFoldConv(P,n-1)\n",
    "    Q = Conv(Q,P)\n",
    "    return Q"
   ]
  },
  {
   "attachments": {},
   "cell_type": "markdown",
   "metadata": {
    "id": "ff9a2W2jA8-z"
   },
   "source": [
    "#### 5.B\n",
    "Compute the distribution of the sum of the results of rolling a fair octahedron 17 times.\n",
    "\n",
    "<img src=\"https://upload.wikimedia.org/wikipedia/commons/2/27/Octahedron.jpg\" width=\"200\">\n"
   ]
  },
  {
   "cell_type": "code",
   "execution_count": null,
   "metadata": {
    "colab": {
     "base_uri": "https://localhost:8080/"
    },
    "id": "HdyWSQSrA8-z",
    "outputId": "2b46359c-bd97-4628-a15a-828965f9c16e"
   },
   "outputs": [
    {
     "name": "stdout",
     "output_type": "stream",
     "text": [
      "<scipy.stats._distn_infrastructure.rv_sample object at 0x7fc125b61c10>\n",
      "[ 17  18  19  20  21  22  23  24  25  26  27  28  29  30  31  32  33  34\n",
      "  35  36  37  38  39  40  41  42  43  44  45  46  47  48  49  50  51  52\n",
      "  53  54  55  56  57  58  59  60  61  62  63  64  65  66  67  68  69  70\n",
      "  71  72  73  74  75  76  77  78  79  80  81  82  83  84  85  86  87  88\n",
      "  89  90  91  92  93  94  95  96  97  98  99 100 101 102 103 104 105 106\n",
      " 107 108 109 110 111 112 113 114 115 116 117 118 119 120 121 122 123 124\n",
      " 125 126 127 128 129 130 131 132 133 134 135 136]\n",
      "[4.44089210e-16 7.54951657e-15 6.79456491e-14 4.30322444e-13\n",
      " 2.15161222e-12 9.03677133e-12 3.31348282e-11 1.08871578e-10\n",
      " 3.26607186e-10 9.07134812e-10 2.35772912e-09 5.78267301e-09\n",
      " 1.34733957e-08 2.99840073e-08 6.40173488e-08 1.31615841e-07\n",
      " 2.61380925e-07 5.02742224e-07 9.38663699e-07 1.70459936e-06\n",
      " 3.01597023e-06 5.20688185e-06 8.78316811e-06 1.44930374e-05\n",
      " 2.34184931e-05 3.70901651e-05 5.76270894e-05 8.79011761e-05\n",
      " 1.31723541e-04 1.94046516e-04 2.81171100e-04 4.00945025e-04\n",
      " 5.62931924e-04 7.78527660e-04 1.06099643e-03 1.42539740e-03\n",
      " 1.88837308e-03 2.46777400e-03 3.18210121e-03 4.04975813e-03\n",
      " 5.08811743e-03 6.31242493e-03 7.73458068e-03 9.36185625e-03\n",
      " 1.11956238e-02 1.32301865e-02 1.54518068e-02 1.78380317e-02\n",
      " 2.03574043e-02 2.29696365e-02 2.56262914e-02 2.82719922e-02\n",
      " 3.08461375e-02 3.32850623e-02 3.55245473e-02 3.75025442e-02\n",
      " 3.91619623e-02 4.04533435e-02 4.13372572e-02 4.17862551e-02\n",
      " 4.17862551e-02 4.13372572e-02 4.04533435e-02 3.91619623e-02\n",
      " 3.75025442e-02 3.55245473e-02 3.32850623e-02 3.08461375e-02\n",
      " 2.82719922e-02 2.56262914e-02 2.29696365e-02 2.03574043e-02\n",
      " 1.78380317e-02 1.54518068e-02 1.32301865e-02 1.11956238e-02\n",
      " 9.36185625e-03 7.73458068e-03 6.31242493e-03 5.08811743e-03\n",
      " 4.04975813e-03 3.18210121e-03 2.46777400e-03 1.88837308e-03\n",
      " 1.42539740e-03 1.06099643e-03 7.78527660e-04 5.62931924e-04\n",
      " 4.00945025e-04 2.81171100e-04 1.94046516e-04 1.31723541e-04\n",
      " 8.79011761e-05 5.76270894e-05 3.70901651e-05 2.34184931e-05\n",
      " 1.44930374e-05 8.78316811e-06 5.20688185e-06 3.01597023e-06\n",
      " 1.70459936e-06 9.38663699e-07 5.02742224e-07 2.61380925e-07\n",
      " 1.31615841e-07 6.40173488e-08 2.99840073e-08 1.34733957e-08\n",
      " 5.78267301e-09 2.35772912e-09 9.07134812e-10 3.26607186e-10\n",
      " 1.08871578e-10 3.31348282e-11 9.03677133e-12 2.15161222e-12\n",
      " 4.30322444e-13 6.79456491e-14 7.54951657e-15 4.44089210e-16]\n"
     ]
    }
   ],
   "source": [
    "P = rv_discrete(values=([1,2,3,4,5,6,7,8],[1/8]*8))\n",
    "Q = NFoldConv(P, 17)\n",
    "print(Q.xk)\n",
    "print(Q.pk)"
   ]
  },
  {
   "cell_type": "code",
   "execution_count": null,
   "metadata": {
    "id": "FOzu7ZKIHxRF"
   },
   "outputs": [],
   "source": []
  }
 ],
 "metadata": {
  "colab": {
   "collapsed_sections": [],
   "name": "318357233_034250043.ipynb",
   "provenance": []
  },
  "kernelspec": {
   "display_name": "Python 3 (ipykernel)",
   "language": "python",
   "name": "python3"
  },
  "language_info": {
   "codemirror_mode": {
    "name": "ipython",
    "version": 3
   },
   "file_extension": ".py",
   "mimetype": "text/x-python",
   "name": "python",
   "nbconvert_exporter": "python",
   "pygments_lexer": "ipython3",
   "version": "3.10.8"
  }
 },
 "nbformat": 4,
 "nbformat_minor": 1
}
