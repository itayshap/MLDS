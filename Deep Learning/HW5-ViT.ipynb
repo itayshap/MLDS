{
 "cells": [
  {
   "cell_type": "markdown",
   "id": "7a564fce",
   "metadata": {},
   "source": [
    "# HW Instructions\n",
    "\n",
    "In this exercise, you will be working with the ViT model for image classification using the CIFAR10 dataset. \n",
    "\n",
    "The task will involve going through the full machine learning lifecycle, including: preprocessing and exploratory data analysis, model implementation and training, tuning, and evaluation. \n",
    "\n",
    "It is assumed that you have some prior experience in the field from previous assignments. This assignment allows for flexibility in exploring and implementing solutions as you see fit.\n",
    "Make sure you read the instructions carefully."
   ]
  },
  {
   "cell_type": "code",
   "execution_count": 243,
   "id": "875688b1",
   "metadata": {
    "ExecuteTime": {
     "end_time": "2023-01-25T16:08:41.111048Z",
     "start_time": "2023-01-25T16:08:35.411470Z"
    }
   },
   "outputs": [],
   "source": [
    "# feel free to add any imports you might need (as long as it is part of the course environment)\n",
    "import torch\n",
    "import pandas as pd\n",
    "import torchvision\n",
    "import torch.nn as nn\n",
    "import numpy as np\n",
    "import torch.nn.functional as F\n",
    "import torch.optim as optim\n",
    "from torch.utils.data import DataLoader, SubsetRandomSampler\n",
    "from torchvision import transforms\n",
    "from torchvision.models.vision_transformer import Encoder\n",
    "import matplotlib.pyplot as plt\n",
    "import copy\n",
    "import time\n",
    "import warnings\n",
    "warnings.filterwarnings('ignore')"
   ]
  },
  {
   "cell_type": "markdown",
   "id": "d6551efe",
   "metadata": {},
   "source": [
    "# Data Loading"
   ]
  },
  {
   "cell_type": "code",
   "execution_count": 244,
   "id": "13f23bba",
   "metadata": {
    "ExecuteTime": {
     "end_time": "2023-01-25T16:08:55.557534Z",
     "start_time": "2023-01-25T16:08:55.543181Z"
    }
   },
   "outputs": [
    {
     "name": "stdout",
     "output_type": "stream",
     "text": [
      "Files already downloaded and verified\n",
      "Files already downloaded and verified\n"
     ]
    }
   ],
   "source": [
    "train_transform = transforms.Compose([\n",
    "    transforms.ToTensor(),\n",
    "    transforms.Normalize((0.5, 0.5, 0.5), (0.5, 0.5, 0.5))])\n",
    "\n",
    "test_transform = transforms.Compose([\n",
    "    transforms.ToTensor(),\n",
    "    transforms.Normalize((0.5, 0.5, 0.5), (0.5, 0.5, 0.5))])\n",
    "\n",
    "\n",
    "train_dataset = torchvision.datasets.CIFAR10('./', train=True, download=True, transform=train_transform)\n",
    "test_dataset = torchvision.datasets.CIFAR10('./', train=False, download=True, transform=test_transform)"
   ]
  },
  {
   "cell_type": "code",
   "execution_count": 245,
   "id": "908bba6d",
   "metadata": {
    "ExecuteTime": {
     "end_time": "2023-01-25T12:37:01.900648Z",
     "start_time": "2023-01-25T12:37:01.893597Z"
    }
   },
   "outputs": [
    {
     "name": "stdout",
     "output_type": "stream",
     "text": [
      "Image shape:  torch.Size([3, 32, 32])\n",
      "     truck       frog        dog      plane\n"
     ]
    },
    {
     "data": {
      "image/png": "[encoded data removed]",
      "text/plain": [
       "<Figure size 864x576 with 1 Axes>"
      ]
     },
     "metadata": {
      "needs_background": "light"
     },
     "output_type": "display_data"
    }
   ],
   "source": [
    "#############################################################################\n",
    "# TO DO:                                                                    #\n",
    "# plot a couple of images with their corresponding labels                   #\n",
    "#############################################################################\n",
    "classes = ('plane', 'car', 'bird', 'cat', 'deer', 'dog', 'frog', 'horse', 'ship', 'truck')\n",
    "fig = plt.figure(figsize=(12,8))\n",
    "# functions to show an image\n",
    "def imshow(img):\n",
    "    npimg = img.numpy()\n",
    "    plt.imshow(np.transpose(npimg, (1, 2, 0))) # plt accepts images in the format (w,h,c)\n",
    "    \n",
    "inx = np.random.randint(1000, size=4)   \n",
    "images = train_dataset.data[inx]\n",
    "labels = np.array(train_dataset.targets)[inx]\n",
    "images = np.transpose(images, (0, 3, 1,2))\n",
    "images = torch.tensor(images)\n",
    "print(\"Image shape: \", images[0].shape)\n",
    "# show images\n",
    "imshow(torchvision.utils.make_grid(images))\n",
    "# print labels\n",
    "print(' '.join('%10s' % classes[labels[j]] for j in range(4)))\n",
    "\n",
    "\n",
    "#############################################################################\n",
    "#                             END OF YOUR CODE                              #\n",
    "#############################################################################"
   ]
  },
  {
   "cell_type": "markdown",
   "id": "43b77dc5",
   "metadata": {
    "ExecuteTime": {
     "end_time": "2023-01-25T06:37:07.431838Z",
     "start_time": "2023-01-25T06:37:07.431838Z"
    }
   },
   "source": [
    "## A bit of exploratory data analysis (EDA)"
   ]
  },
  {
   "cell_type": "code",
   "execution_count": 246,
   "id": "f325ee7e",
   "metadata": {
    "ExecuteTime": {
     "end_time": "2023-01-25T12:37:19.857126Z",
     "start_time": "2023-01-25T12:37:19.833453Z"
    }
   },
   "outputs": [
    {
     "name": "stdout",
     "output_type": "stream",
     "text": [
      "The size of the database: 60000.\n",
      "There are 50000 samples in the train dataset and 10000 samples in the test dataset.\n",
      "There are 10 labels in the database.\n",
      "Number of samples per label for the train dataset:\n",
      "{0: 5000, 1: 5000, 2: 5000, 3: 5000, 4: 5000, 5: 5000, 6: 5000, 7: 5000, 8: 5000, 9: 5000}\n",
      "Number of samples per label for the test dataset:\n",
      "{0: 1000, 1: 1000, 2: 1000, 3: 1000, 4: 1000, 5: 1000, 6: 1000, 7: 1000, 8: 1000, 9: 1000}\n"
     ]
    }
   ],
   "source": [
    "#############################################################################\n",
    "# TO DO:                                                                    #\n",
    "# Figure out the size of the dataset:                                       #\n",
    "# How many samples in train/test?                                            #\n",
    "# How many labels? How many samples per label?                              #\n",
    "# Try access train_dataset.__dict__.keys() to see which attributes          #\n",
    "# are available on train_dataset.                                           #\n",
    "#############################################################################\n",
    "print(f\"The size of the database: {len(train_dataset) + len(test_dataset)}.\")\n",
    "print(f'There are {len(train_dataset)} samples in the train dataset and {len(test_dataset)} samples in the test dataset.')\n",
    "print(f'There are {len(train_dataset.classes)} labels in the database.')\n",
    "dic = {\"train\": train_dataset, \"test\": test_dataset}\n",
    "for set_type, data in dic.items():\n",
    "    print(f'Number of samples per label for the {set_type} dataset:')\n",
    "    targets = np.array(data.targets)\n",
    "    labels, counts = np.unique(targets, return_counts=True)\n",
    "    print(dict(zip(labels, counts)))\n",
    "#############################################################################\n",
    "#                             END OF YOUR CODE                              #\n",
    "#############################################################################"
   ]
  },
  {
   "cell_type": "markdown",
   "id": "3be793ce",
   "metadata": {
    "ExecuteTime": {
     "end_time": "2023-01-25T06:37:07.431838Z",
     "start_time": "2023-01-25T06:37:07.431838Z"
    }
   },
   "source": [
    "## Create DataLoaders"
   ]
  },
  {
   "cell_type": "code",
   "execution_count": 247,
   "id": "184f8bf8",
   "metadata": {
    "ExecuteTime": {
     "end_time": "2023-01-25T12:58:38.646695Z",
     "start_time": "2023-01-25T12:58:38.618509Z"
    }
   },
   "outputs": [],
   "source": [
    "#############################################################################\n",
    "# TO DO:                                                                    #\n",
    "# Decide on a batch size (which later can be tunned)                        #\n",
    "#############################################################################\n",
    "batch_size = 64\n",
    "# Create a validation set from the training set\n",
    "valid_size = 0.1\n",
    "num_train = len(train_dataset)\n",
    "indices = list(range(num_train))\n",
    "split = int(np.floor(valid_size * num_train))\n",
    "np.random.shuffle(indices)\n",
    "train_idx, valid_idx = indices[split:], indices[:split]\n",
    "train_sampler = SubsetRandomSampler(train_idx)\n",
    "valid_sampler = SubsetRandomSampler(valid_idx)\n",
    "train_size = len(train_dataset) - split\n",
    "valid_size = split\n",
    "\n",
    "trainloader = torch.utils.data.DataLoader(train_dataset, batch_size=batch_size, sampler=train_sampler, num_workers=2)\n",
    "validloader = torch.utils.data.DataLoader(train_dataset, batch_size=batch_size, sampler=valid_sampler, num_workers=2)\n",
    "testloader = torch.utils.data.DataLoader(test_dataset, batch_size=batch_size, shuffle=False, num_workers=2)\n",
    "\n",
    "#############################################################################\n",
    "#                             END OF YOUR CODE                              #\n",
    "#############################################################################"
   ]
  },
  {
   "cell_type": "markdown",
   "id": "97eca23a",
   "metadata": {},
   "source": [
    "# Building ViT Model\n",
    "\n",
    "In the next section, you will construct a Vision Transformer, a transformer-based image classifier. The goal of the ViT model is to bring advancements from the natural language processing field to computer vision. \n",
    "\n",
    "For this exercise, you will be required to implement the ViT model using a pre-built Encoder from the PyTorch library. Building the encoder can be challenging, so we have eliminated that step for you. If you are not familiar with the ViT model, it is highly recommended that you gain an understanding of its workings before beginning implementation. There is a ton of information available online, here is a pretty informative source:\n",
    "https://www.kaggle.com/code/abhinand05/vision-transformer-vit-tutorial-baseline\n",
    "\n",
    "In this assignment, you will be using a pre-built Encoder from the PyTorch library, which has already been loaded in the provided code. Therefore, you do not need to worry about the complexities of transformer computations when referring to the link provided."
   ]
  },
  {
   "cell_type": "code",
   "execution_count": 248,
   "id": "c58d4d88",
   "metadata": {
    "ExecuteTime": {
     "end_time": "2023-01-25T12:42:59.357101Z",
     "start_time": "2023-01-25T12:42:59.315567Z"
    }
   },
   "outputs": [],
   "source": [
    "class ViT(nn.Module):\n",
    "    def __init__(self, image_size, patch_size, num_classes, num_layers, num_heads, hidden_dim, \n",
    "                 mlp_dim, dropout, attention_dropout):\n",
    "        super().__init__()\n",
    "        \n",
    "        #############################################################################\n",
    "        # TO DO:                                                                    #\n",
    "        # Initiate the required layers for your ViT model implementation.           #\n",
    "        # Hint: For the curious among us, you can pick at pytorch's                 #\n",
    "        # official implemetantion of vit (vit_b_16).                                #\n",
    "        #############################################################################\n",
    "        \n",
    "        self.seq_length = (image_size // patch_size) ** 2\n",
    "        # initializing the encoder backbone\n",
    "        # you should calculate the seq_length\n",
    "        self.encoder = Encoder(\n",
    "        seq_length=self.seq_length,\n",
    "        num_layers=num_layers,\n",
    "        num_heads=num_heads,\n",
    "        hidden_dim=hidden_dim,\n",
    "        mlp_dim=mlp_dim,\n",
    "        dropout=dropout,\n",
    "        attention_dropout=attention_dropout\n",
    "        )\n",
    "        self.mapper = nn.Linear(3*patch_size**2, hidden_dim)\n",
    "\n",
    "        self.head = nn.Sequential( \n",
    "            nn.Linear(hidden_dim*self.seq_length, hidden_dim),\n",
    "            nn.BatchNorm1d(hidden_dim, momentum=0.01),\n",
    "            nn.ReLU(),\n",
    "            nn.Linear(hidden_dim, num_classes)\n",
    "        )\n",
    "        #############################################################################\n",
    "        #                             END OF YOUR CODE                              #\n",
    "        #############################################################################\n",
    "        \n",
    "    \n",
    "        \n",
    "    \n",
    "        #############################################################################\n",
    "        # TO DO:                                                                    #\n",
    "        # Complete the rest of the class (foward method and other helper            #\n",
    "        # functions if needed).                                                     #\n",
    "        #############################################################################\n",
    "    def forward(self, x):\n",
    "        x = x.reshape(x.shape[0], self.seq_length, -1)\n",
    "        x= self.mapper(x)\n",
    "        x = self.encoder(x)\n",
    "        x = x.reshape(x.shape[0], -1)\n",
    "        x = self.head(x)\n",
    "        return x\n",
    "\n",
    "\n",
    "        #############################################################################\n",
    "        #                             END OF YOUR CODE                              #\n",
    "        #############################################################################"
   ]
  },
  {
   "cell_type": "code",
   "execution_count": 249,
   "id": "65bf6f2f",
   "metadata": {
    "ExecuteTime": {
     "end_time": "2023-01-25T06:43:11.302604Z",
     "start_time": "2023-01-25T06:43:11.280571Z"
    }
   },
   "outputs": [],
   "source": [
    "# this is just a simple initialization, feel free to change it.\n",
    "model = ViT(image_size=32, patch_size=8, num_classes=10, num_layers=2, num_heads=2, hidden_dim=192, \n",
    "                 mlp_dim=512, dropout=0.1, attention_dropout=0.1)"
   ]
  },
  {
   "cell_type": "markdown",
   "id": "f56cb757",
   "metadata": {
    "ExecuteTime": {
     "end_time": "2023-01-25T06:43:11.302604Z",
     "start_time": "2023-01-25T06:43:11.280571Z"
    }
   },
   "source": [
    "# Training"
   ]
  },
  {
   "cell_type": "markdown",
   "id": "e3559b5f",
   "metadata": {
    "ExecuteTime": {
     "end_time": "2023-01-25T06:43:11.302604Z",
     "start_time": "2023-01-25T06:43:11.280571Z"
    }
   },
   "source": [
    "## IMPORTANT READ!\n",
    "\n",
    "In the following section, you will be required to train your implementation of the ViT model as in previous assignments. However, it is important to note that training transformers can be challenging, especially when starting from scratch, as is the case in this exercise.\n",
    "\n",
    "It is acceptable if your final model does not achieve a high accuracy score, but it is crucial to document your training experiments and demonstrate that the model is able to train correctly (i.e. the loss decreases over time). This includes noting what you tried, what parameters worked best, and providing the loss and accuracy graphs as instructed in the next sections.\n",
    "\n",
    "A reference for training ViT on CIFAR10 can be found at https://github.com/omihub777/ViT-CIFAR. However, it's important to note that in the provided reference, the ViT model was trained using 200 epochs and over 2 hours of training.\n",
    "\n",
    "Note 1: If the loss decreases and your model trains correctly, you are on the safe side. The focus should be on the experiments and the things you tried.\n",
    "\n",
    "Note 2: The main goal is not to achieve a high accuracy score but to demonstrate that you understand the process.\n",
    "\n",
    "Note 3: If your final model's performance is strictly better than a random model (accuracy of around 1/num_classes) and you have provided thorough documentation of your experiments and processes, you will receive full credit for the assignment. "
   ]
  },
  {
   "cell_type": "code",
   "execution_count": 250,
   "id": "415529c2",
   "metadata": {},
   "outputs": [],
   "source": [
    "def train_one_epoch(model, train_loader, criterion, optimizer):\n",
    "    # keep track of training loss\n",
    "    np.random.seed(10)\n",
    "    train_loss = 0.0\n",
    "    train_accuracy = 0.0\n",
    "\n",
    "    ###################\n",
    "    # train the model #\n",
    "    ###################\n",
    "    model.train()\n",
    "    for data, target in train_loader:\n",
    "        data = data.to(device)\n",
    "        target = target.to(device, dtype=torch.int64)\n",
    "\n",
    "        # clear the gradients of all optimized variables\n",
    "        optimizer.zero_grad()\n",
    "        # forward pass: compute predicted outputs by passing inputs to the model\n",
    "        output = model(data)\n",
    "        # calculate the batch loss\n",
    "        loss = criterion(output, target)\n",
    "        train_loss += loss\n",
    "        # Calculate Accuracy\n",
    "        _, predicted = torch.max(output, 1)\n",
    "        train_accuracy += torch.sum(predicted == target)  \n",
    "        # backward pass: compute gradient of the loss with respect to model parameters\n",
    "        loss.backward()\n",
    "        optimizer.step()\n",
    "        \n",
    "    epoch_loss = train_loss.item() / train_size\n",
    "    epoch_acc = train_accuracy.item() / train_size\n",
    "    \n",
    "    return epoch_loss, epoch_acc"
   ]
  },
  {
   "cell_type": "code",
   "execution_count": 251,
   "id": "9b366562",
   "metadata": {},
   "outputs": [],
   "source": [
    "def validate_one_epoch(model, valid_loader, criterion):\n",
    "    # keep track of validation loss\n",
    "    np.random.seed(10)\n",
    "    valid_loss = 0.0\n",
    "    valid_accuracy = 0.0\n",
    "    \n",
    "    ######################\n",
    "    # validate the model #\n",
    "    ######################\n",
    "    model.eval()\n",
    "    for data, target in valid_loader:\n",
    "        data = data.to(device)\n",
    "        target = target.to(device, dtype=torch.int64)\n",
    "            \n",
    "        with torch.no_grad():\n",
    "            # forward pass: compute predicted outputs by passing inputs to the model\n",
    "            output = model(data)\n",
    "            # calculate the batch loss\n",
    "            loss = criterion(output, target)\n",
    "            # Calculate Accuracy\n",
    "            _, predicted = torch.max(output, 1)\n",
    "            valid_accuracy += torch.sum(predicted == target)   \n",
    "            # update average validation loss and accuracy\n",
    "            valid_loss += loss\n",
    "    epoch_loss = valid_loss.item() / valid_size\n",
    "    epoch_acc = valid_accuracy.item() / valid_size\n",
    "    return epoch_loss, epoch_acc"
   ]
  },
  {
   "cell_type": "code",
   "execution_count": 252,
   "id": "908db706",
   "metadata": {
    "ExecuteTime": {
     "end_time": "2023-01-25T16:28:21.277541Z",
     "start_time": "2023-01-25T16:28:21.272626Z"
    }
   },
   "outputs": [
    {
     "name": "stdout",
     "output_type": "stream",
     "text": [
      "EPOCH 1:\n",
      "\t[TRAIN] LOSS: 0.0247, ACCURACY: 0.43\n",
      "\t[VALID] LOSS: 0.0224, ACCURACY: 0.49\n",
      "EPOCH 2:\n",
      "\t[TRAIN] LOSS: 0.0211, ACCURACY: 0.52\n",
      "\t[VALID] LOSS: 0.0210, ACCURACY: 0.53\n",
      "EPOCH 3:\n",
      "\t[TRAIN] LOSS: 0.0193, ACCURACY: 0.56\n",
      "\t[VALID] LOSS: 0.0196, ACCURACY: 0.55\n",
      "EPOCH 4:\n",
      "\t[TRAIN] LOSS: 0.0180, ACCURACY: 0.59\n",
      "\t[VALID] LOSS: 0.0190, ACCURACY: 0.58\n",
      "EPOCH 5:\n",
      "\t[TRAIN] LOSS: 0.0169, ACCURACY: 0.62\n",
      "\t[VALID] LOSS: 0.0187, ACCURACY: 0.58\n",
      "EPOCH 6:\n",
      "\t[TRAIN] LOSS: 0.0159, ACCURACY: 0.64\n",
      "\t[VALID] LOSS: 0.0179, ACCURACY: 0.60\n",
      "EPOCH 7:\n",
      "\t[TRAIN] LOSS: 0.0150, ACCURACY: 0.66\n",
      "\t[VALID] LOSS: 0.0180, ACCURACY: 0.61\n",
      "EPOCH 8:\n",
      "\t[TRAIN] LOSS: 0.0141, ACCURACY: 0.68\n",
      "\t[VALID] LOSS: 0.0178, ACCURACY: 0.61\n",
      "Training complete in 1m 30s\n"
     ]
    }
   ],
   "source": [
    "#############################################################################\n",
    "# TO DO:                                                                    #\n",
    "# Implement the training loop\n",
    "# Save the loss and accuracy for both training/validation sets every couple of iterations for plotting afterwards.\n",
    "#############################################################################\n",
    "np.random.seed(10)\n",
    "device = torch.device(\"cuda:0\" if torch.cuda.is_available() else \"cpu\")\n",
    "model = model.to(device)\n",
    "optimizer = optim.SGD(model.parameters(), lr=0.005, momentum=0.9)\n",
    "criterion = nn.CrossEntropyLoss()\n",
    "best_model_wts = copy.deepcopy(model.state_dict())\n",
    "\n",
    "epochs = 8\n",
    "train_losses = []\n",
    "valid_losses = []\n",
    "train_accs = []\n",
    "valid_accs = []\n",
    "best_acc = 0.0\n",
    "\n",
    "since = time.time()\n",
    "for epoch in range(1, epochs + 1):\n",
    "    print(f\"EPOCH {epoch}:\")\n",
    "    train_loss, train_acc = train_one_epoch(model, trainloader, criterion, optimizer)\n",
    "    train_losses.append(train_loss)\n",
    "    train_accs.append(train_acc)\n",
    "    print(f'\\t[TRAIN] LOSS: {train_loss:.4f}, ACCURACY: {train_acc:.2f}')\n",
    "    valid_loss, valid_acc = validate_one_epoch(model, validloader, criterion)\n",
    "    valid_losses.append(valid_loss)\n",
    "    valid_accs.append(valid_acc)\n",
    "    print(f\"\\t[VALID] LOSS: {valid_loss:.4f}, ACCURACY: {valid_acc:.2f}\")\n",
    "    if valid_acc > best_acc:\n",
    "        best_acc = valid_acc\n",
    "        best_model_wts = copy.deepcopy(model.state_dict())\n",
    "time_elapsed = time.time() - since\n",
    "print('Training complete in {:.0f}m {:.0f}s'.format(time_elapsed // 60, time_elapsed % 60))\n",
    "#############################################################################\n",
    "#                             END OF YOUR CODE                              #\n",
    "#############################################################################"
   ]
  },
  {
   "cell_type": "markdown",
   "id": "08502cbe",
   "metadata": {},
   "source": [
    "## Loss and Acurracy"
   ]
  },
  {
   "cell_type": "code",
   "execution_count": 253,
   "id": "193842d0",
   "metadata": {
    "ExecuteTime": {
     "end_time": "2023-01-25T11:28:35.888851Z",
     "start_time": "2023-01-25T11:28:35.864407Z"
    }
   },
   "outputs": [],
   "source": [
    "# Plot 2 graphs:\n",
    "# Graph 1: Loss vs itreation for training and validation sets\n",
    "# Graph 2: Accuracy vs itreation for training and validation sets"
   ]
  },
  {
   "cell_type": "code",
   "execution_count": 254,
   "id": "f64b628d",
   "metadata": {},
   "outputs": [
    {
     "data": {
      "image/png": "[encoded data removed]",
      "text/plain": [
       "<Figure size 1008x1152 with 1 Axes>"
      ]
     },
     "metadata": {
      "needs_background": "light"
     },
     "output_type": "display_data"
    },
    {
     "data": {
      "image/png": "[encoded data removed]",
      "text/plain": [
       "<Figure size 1008x1152 with 1 Axes>"
      ]
     },
     "metadata": {
      "needs_background": "light"
     },
     "output_type": "display_data"
    }
   ],
   "source": [
    "plt.rcParams[\"figure.figsize\"] = (14,16)\n",
    "\n",
    "def draw_graph(train, val, ylabel, title):\n",
    "    plt.plot(train, label='train')\n",
    "    plt.plot(val, label='val')\n",
    "    plt.title(title, weight='bold', size=15)\n",
    "    plt.xlabel('Epoch', size=15)\n",
    "    plt.ylabel(ylabel, size=15)\n",
    "    plt.legend(fontsize=12)\n",
    "    plt.show()\n",
    "    \n",
    "plt.subplot(2, 1, 1)\n",
    "draw_graph(train_losses, valid_losses, 'Loss', 'Loss History');\n",
    "plt.subplot(2, 1, 2)\n",
    "draw_graph(train_accs, valid_accs, 'Accuracy', 'Accuracy History');"
   ]
  },
  {
   "cell_type": "markdown",
   "id": "fc910f60",
   "metadata": {},
   "source": [
    "# Evaluation "
   ]
  },
  {
   "cell_type": "code",
   "execution_count": 255,
   "id": "f1843b27",
   "metadata": {
    "ExecuteTime": {
     "end_time": "2023-01-25T12:53:05.024507Z",
     "start_time": "2023-01-25T12:53:05.012654Z"
    }
   },
   "outputs": [],
   "source": [
    "# Calculate the accuracy of the final model on the test set."
   ]
  },
  {
   "cell_type": "code",
   "execution_count": 256,
   "id": "24fe452c",
   "metadata": {},
   "outputs": [
    {
     "name": "stdout",
     "output_type": "stream",
     "text": [
      "TEST ACCURACY: 0.62%\n"
     ]
    }
   ],
   "source": [
    "model.load_state_dict(best_model_wts)\n",
    "np.random.seed(10)\n",
    "test_accuracy = 0.0\n",
    "######################\n",
    "# test the model #\n",
    "######################\n",
    "\n",
    "for data, target in testloader:\n",
    "    data = data.to(device)\n",
    "    target = target.to(device, dtype=torch.int64)     \n",
    "    with torch.no_grad():\n",
    "        output = model(data)\n",
    "        _, predicted = torch.max(output, 1)\n",
    "        test_accuracy += torch.sum(predicted == target)   \n",
    "    epoch_acc = test_accuracy.item() / len(test_dataset)\n",
    "print(f\"TEST ACCURACY: {epoch_acc :.2f}%\")"
   ]
  },
  {
   "cell_type": "markdown",
   "id": "39977afa",
   "metadata": {},
   "source": [
    "# Questions"
   ]
  },
  {
   "cell_type": "markdown",
   "id": "44dcb5c7",
   "metadata": {},
   "source": [
    "##**Question:** \n",
    "\n",
    "Explain the importance of the positional embedding in the ViT model.\n",
    "\n",
    "**Your answer:** The position embedding allows the model to understand the relative position of the patches in the image, which is crucial for the model to make a prediction based on the context of the patches. Additionally, The positional embedding also allows the model to process sequences in parallel, which makes training and inference more efficient. "
   ]
  },
  {
   "cell_type": "markdown",
   "id": "4ac22b7f",
   "metadata": {},
   "source": [
    "##**Question:** \n",
    "\n",
    "How would you evaluate the model if the number of samples per class would not be balanced?\n",
    "How can you deal with class imbalance on multiclass classification?\n",
    "\n",
    "**Your answer:**  \n",
    "There are several ways to evaluate the model based on imbalanced database:\n",
    "1. confusion-matrix is good technique to summarizing the performance of a classification algorithm, looking at the confusion matrix one can clearly see how the model is performing on classifying various classes.\n",
    "2. Using metrics that take into account class imbalance: metrics such as precision, recall, F1-score, area under the ROC curve (AUC-ROC) or area under the precision-recall curve (AUC-PR) are robust to class imbalance.\n",
    "\n",
    "There are several ways to deal with class imbalance on multiclass classification:\n",
    "\n",
    "1. **Resampling:** This involves either oversampling the minority class or undersampling the majority class to balance the class distribution.\n",
    "2. **Cost-sensitive learning:** This involves adjusting the cost function of the classifier to take into account the class imbalance. This can be done by assigning different costs or different weights to misclassifying different classes. This can help to provide some bias towards the minority classes while training the model and thus help in improving performance of the model while classifying various classes.\n",
    "3. **Data augmentation:** create more sample for minority class by applying different data augmentation techniques such as flipping, rotation, cropping, etc.\n"
   ]
  }
 ],
 "metadata": {
  "kernelspec": {
   "display_name": "Python 3 (ipykernel)",
   "language": "python",
   "name": "python3"
  },
  "language_info": {
   "codemirror_mode": {
    "name": "ipython",
    "version": 3
   },
   "file_extension": ".py",
   "mimetype": "text/x-python",
   "name": "python",
   "nbconvert_exporter": "python",
   "pygments_lexer": "ipython3",
   "version": "3.8.5"
  },
  "toc": {
   "base_numbering": 1,
   "nav_menu": {},
   "number_sections": true,
   "sideBar": true,
   "skip_h1_title": false,
   "title_cell": "Table of Contents",
   "title_sidebar": "Contents",
   "toc_cell": false,
   "toc_position": {},
   "toc_section_display": true,
   "toc_window_display": false
  },
  "varInspector": {
   "cols": {
    "lenName": 16,
    "lenType": 16,
    "lenVar": 40
   },
   "kernels_config": {
    "python": {
     "delete_cmd_postfix": "",
     "delete_cmd_prefix": "del ",
     "library": "var_list.py",
     "varRefreshCmd": "print(var_dic_list())"
    },
    "r": {
     "delete_cmd_postfix": ") ",
     "delete_cmd_prefix": "rm(",
     "library": "var_list.r",
     "varRefreshCmd": "cat(var_dic_list()) "
    }
   },
   "types_to_exclude": [
    "module",
    "function",
    "builtin_function_or_method",
    "instance",
    "_Feature"
   ],
   "window_display": false
  }
 },
 "nbformat": 4,
 "nbformat_minor": 5
}
