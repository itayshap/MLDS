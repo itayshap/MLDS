{
  "cells": [
    {
      "attachments": {},
      "cell_type": "markdown",
      "metadata": {
        "id": "XJnQt1U1IfpL"
      },
      "source": [
        "# Big Data Platform\n",
        "## Assignment 2: MapReduce"
      ]
    },
    {
      "attachments": {},
      "cell_type": "markdown",
      "metadata": {
        "id": "G_M0CoAmIfpR"
      },
      "source": [
        "**The goal of this assignment is to:**\n",
        "- Understand and practice the details of MapReduceEngine\n",
        "\n",
        "**Instructions:**\n",
        "- Students will form teams of two people each, and submit a single homework for each team.\n",
        "- The same score for the homework will be given to each member of your team.\n",
        "- Your solution is in the form of a Jupyter notebook file (with extension ipynb).\n",
        "- Images/Graphs/Tables should be submitted inside the notebook.\n",
        "- The notebook should be runnable and properly documented.\n",
        "- Please answer all the questions and include all your code.\n",
        "- You are expected to submit a clear and pythonic code.\n",
        "- You can change functions signatures/definitions.\n",
        "\n",
        "**Submission:**\n",
        "- Submission of the homework will be done via Moodle by uploading a Jupyter notebook.\n",
        "- The homework needs to be entirely in English.\n",
        "- The deadline for submission is on Moodle.\n",
        "- Late submission won't be allowed.\n",
        "\n",
        "\n",
        "- In case of identical code submissions - both groups will get a Zero.\n",
        "- Some groups might be selected randomly to present their code.\n",
        "\n",
        "**Requirements:**\n",
        "- Python 3.6 should be used.\n",
        "- You should implement the algorithms by yourself using only basic Python libraries (such as numpy,pandas,etc.)\n",
        "\n",
        "<br><br><br><br>"
      ]
    },
    {
      "attachments": {},
      "cell_type": "markdown",
      "metadata": {
        "id": "nIY80u0sIfpS"
      },
      "source": [
        "**Grading:**\n",
        "- Q1 - 5 points - Initial Steps\n",
        "- Q2 - 50 points - MapReduceEngine\n",
        "- Q3 - 30 points - Implement the MapReduce Inverted index of the JSON documents\n",
        "- Q4 - 5 points - Testing Your MapReduce\n",
        "- Q5 - 10 points - Final Thoughts\n",
        "\n",
        "`Total: 100`"
      ]
    },
    {
      "attachments": {},
      "cell_type": "markdown",
      "metadata": {
        "id": "yOdCatWKIfpS"
      },
      "source": [
        "**Prerequisites**"
      ]
    },
    {
      "cell_type": "code",
      "execution_count": null,
      "metadata": {
        "id": "b_J-bpQZIfpT"
      },
      "outputs": [],
      "source": [
        "# example\n",
        "!pip install --quiet zipfile36"
      ]
    },
    {
      "attachments": {},
      "cell_type": "markdown",
      "metadata": {
        "id": "XnPghOUJIfpU"
      },
      "source": [
        "**Imports**"
      ]
    },
    {
      "cell_type": "code",
      "execution_count": null,
      "metadata": {
        "id": "zoQ1WNc0IfpV"
      },
      "outputs": [],
      "source": [
        "# general\n",
        "import os\n",
        "import time\n",
        "import random\n",
        "import warnings\n",
        "import threading # you can use easier threading packages\n",
        "\n",
        "# ml\n",
        "import numpy as np\n",
        "import scipy as sp\n",
        "import pandas as pd\n",
        "\n",
        "# visual\n",
        "import seaborn as sns\n",
        "import matplotlib.pyplot as plt\n",
        "\n",
        "# notebook\n",
        "from IPython.display import display"
      ]
    },
    {
      "attachments": {},
      "cell_type": "markdown",
      "metadata": {
        "id": "3hBeqCqNIfpV"
      },
      "source": [
        "**Hide Warnings**"
      ]
    },
    {
      "cell_type": "code",
      "execution_count": null,
      "metadata": {
        "id": "uQqFqiejIfpW"
      },
      "outputs": [],
      "source": [
        "warnings.filterwarnings('ignore')"
      ]
    },
    {
      "attachments": {},
      "cell_type": "markdown",
      "metadata": {
        "id": "FUmuOxPfIfpW"
      },
      "source": [
        "**Disable Autoscrolling**"
      ]
    },
    {
      "cell_type": "code",
      "execution_count": null,
      "metadata": {
        "colab": {
          "base_uri": "https://localhost:8080/",
          "height": 17
        },
        "id": "I5c2aNtsIfpW",
        "outputId": "f7e1a990-097b-4cda-d72b-0c0a8b2c4a4c"
      },
      "outputs": [
        {
          "data": {
            "application/javascript": "IPython.OutputArea.prototype._should_scroll = function(lines) {\n    return false;\n}",
            "text/plain": [
              "<IPython.core.display.Javascript object>"
            ]
          },
          "metadata": {},
          "output_type": "display_data"
        }
      ],
      "source": [
        "%%javascript\n",
        "IPython.OutputArea.prototype._should_scroll = function(lines) {\n",
        "    return false;\n",
        "}"
      ]
    },
    {
      "attachments": {},
      "cell_type": "markdown",
      "metadata": {
        "id": "iA0MF--3IfpX"
      },
      "source": [
        "**Set Random Seed**"
      ]
    },
    {
      "cell_type": "code",
      "execution_count": null,
      "metadata": {
        "id": "iB-G0YubIfpY"
      },
      "outputs": [],
      "source": [
        "random.seed(123)"
      ]
    },
    {
      "attachments": {},
      "cell_type": "markdown",
      "metadata": {
        "id": "brtbKNl5IfpY"
      },
      "source": [
        "<br><br><br><br>\n",
        "# Question 1\n",
        "# Initial Steps\n",
        "\n",
        "Write Python code to create 20 different CSV files in this format:  `myCSV[Number].csv`, where each file contains 10 records.\n",
        "\n",
        "The schema is `(‘firstname’,’secondname’,city’)`\n",
        "\n",
        "Values should be randomly chosen from the lists:\n",
        "- `firstname` : `[John, Dana, Scott, Marc, Steven, Michael, Albert, Johanna]`\n",
        "- `city` : `[New York, Haifa, München, London, Palo Alto,  Tel Aviv, Kiel, Hamburg]`\n",
        "- `secondname`: any value"
      ]
    },
    {
      "cell_type": "code",
      "execution_count": null,
      "metadata": {
        "id": "v8lmbikyOIR3"
      },
      "outputs": [],
      "source": [
        "def generate_random_name():\n",
        "    \"\"\"\n",
        "    Generate a random name: First character is uppercase and\n",
        "    alphabetic and the rest is series of lower case characters of length\n",
        "    1 - 12. Giving us an output string of a length 2 - 13\n",
        "\n",
        "    Returns:\n",
        "    str: Randomly generated name\n",
        "    \"\"\"\n",
        "    return random.choice(string.ascii_uppercase) + \\\n",
        "           ''.join(random.choices(string.ascii_lowercase, k=random.choice(range(1,12))))"
      ]
    },
    {
      "cell_type": "code",
      "execution_count": null,
      "metadata": {
        "colab": {
          "base_uri": "https://localhost:8080/"
        },
        "id": "zYzYykOhIfpY",
        "outputId": "385ac40c-33ba-4cd5-c653-8aad50b9713a"
      },
      "outputs": [
        {
          "name": "stdout",
          "output_type": "stream",
          "text": [
            "['Bckcxa', 'Riweiigalc', 'Tbilxcdu', 'Axogvt', 'Kufpnvikun', 'Vqrxmrjate', 'Creikbloi', 'Gcqajfnsxqz']\n"
          ]
        }
      ],
      "source": [
        "import string\n",
        "\n",
        "firstname = ['John', 'Dana', 'Scott', 'Marc', 'Steven', 'Michael', 'Albert', 'Johanna']\n",
        "city = ['NewYork', 'Haifa', 'Munchen', 'London', 'PaloAlto',  'TelAviv', 'Kiel', 'Hamburg']\n",
        "# Use list comprehension in order to create a list of 8 randomly generated names\n",
        "secondname = [generate_random_name() for _ in range(8)] # please use some version of random\n",
        "\n",
        "print(secondname)"
      ]
    },
    {
      "cell_type": "code",
      "execution_count": null,
      "metadata": {
        "id": "HECTaKMvP6ki"
      },
      "outputs": [],
      "source": [
        "def generate_csvs(number_of_csvs):\n",
        "    \"\"\"\n",
        "    Generate number_of_csvs csv files with 10 randomly generate rows for the\n",
        "    defined columns by randomly picking a value from the lists of possible\n",
        "    values for each column.\n",
        "\n",
        "    Parameters:\n",
        "    number_of_csvs (int): number of csv files to generate\n",
        "    \"\"\"\n",
        "    for i in range(1,number_of_csvs+1):\n",
        "        df = pd.DataFrame(columns=['firstname', 'secondname', 'city'])\n",
        "        df['firstname'] = np.random.choice(firstname, 10)\n",
        "        df['secondname'] = np.random.choice(secondname, 10)\n",
        "        df['city'] = np.random.choice(city, 10)\n",
        "        df.to_csv(f'myCSV{i}.csv', index=False)"
      ]
    },
    {
      "cell_type": "code",
      "execution_count": null,
      "metadata": {
        "id": "uhjAeVdVR11L"
      },
      "outputs": [],
      "source": [
        "generate_csvs(20)"
      ]
    },
    {
      "attachments": {},
      "cell_type": "markdown",
      "metadata": {
        "id": "IktgIS6HIfpZ"
      },
      "source": [
        "Use python to Create `mapreducetemp` and `mapreducefinal` folders"
      ]
    },
    {
      "cell_type": "code",
      "execution_count": null,
      "metadata": {
        "id": "iomIz7kIIfpZ"
      },
      "outputs": [],
      "source": [
        "os.makedirs(\"mapreducetemp\", exist_ok=True)\n",
        "os.makedirs(\"mapreducefinal\", exist_ok=True)"
      ]
    },
    {
      "attachments": {},
      "cell_type": "markdown",
      "metadata": {
        "id": "aDyDc0WiIfpZ"
      },
      "source": [
        "<br><br><br>\n",
        "# Question 2\n",
        "## MapReduceEngine"
      ]
    },
    {
      "attachments": {},
      "cell_type": "markdown",
      "metadata": {
        "id": "oq58dU37Ifpa"
      },
      "source": [
        "Write Python code to create an SQLite database with the following table\n",
        "\n",
        "`TableName: temp_results`\n",
        "`schema: (key:TEXT,value:TEXT)`"
      ]
    },
    {
      "cell_type": "code",
      "execution_count": null,
      "metadata": {
        "id": "DbAzzzW_TlqQ"
      },
      "outputs": [],
      "source": [
        "import sqlite3 as sql"
      ]
    },
    {
      "cell_type": "code",
      "execution_count": null,
      "metadata": {
        "id": "wkRj_rcZS3my"
      },
      "outputs": [],
      "source": [
        "def create_connection(db_file):\n",
        "    \"\"\"\n",
        "    Create an sql connection to the db by the given db file\n",
        "\n",
        "    Parameters:\n",
        "    db_file (str): Path of the db file to use to make a connection to the db\n",
        "\n",
        "    Returns:\n",
        "    conn (sql.Connection): Connection to db\n",
        "    \"\"\"\n",
        "    conn = sql.connect(db_file)\n",
        "    return conn\n",
        "\n",
        "def create_table(conn, create_table_sql):\n",
        "    \"\"\"\n",
        "    Create a table in the db with the given sql execution code\n",
        "\n",
        "    Parameters:\n",
        "    conn (sql.Connection): connection to db\n",
        "    create_table_sql (str): sql execution code for table creation\n",
        "    \"\"\"\n",
        "    c = conn.cursor()\n",
        "    c.execute(create_table_sql)\n",
        "    conn.commit()\n",
        "    c.close()"
      ]
    },
    {
      "cell_type": "code",
      "execution_count": null,
      "metadata": {
        "id": "JdyiHakNIfpa"
      },
      "outputs": [],
      "source": [
        "sql_create_table = \"\"\" CREATE TABLE IF NOT EXISTS temp_results (\n",
        "                           key TEXT,\n",
        "\t\t\t\t\t\t   value TEXT\n",
        "                           ); \"\"\"\n",
        "\n",
        "# create a database connection\n",
        "sql_conn = create_connection(\"mydb.db\")\n",
        "\n",
        "# create table\n",
        "create_table(sql_conn, sql_create_table)"
      ]
    },
    {
      "attachments": {},
      "cell_type": "markdown",
      "metadata": {
        "id": "M8_LY2q4Ifpa"
      },
      "source": [
        "1. **Create a Python class** `MapReduceEngine` with method `def execute(input_data, map_function, reduce_function)`, such that:\n",
        "    - `input_data`: is an array of elements\n",
        "    - `map_function`: is a pointer to the Python function that returns a list where each entry of the form (key,value)\n",
        "    - `reduce_function`: is pointer to the Python function that returns a list where each entry of the form (key,value)\n",
        "\n",
        "<br><br>\n",
        "\n",
        "**Implement** the following functionality in the `execute(...)` function:\n",
        "\n",
        "<br>\n",
        "\n",
        "1. For each key  from the  input_data, start a new Python thread that executes map_function(key)\n",
        "<br><br>\n",
        "2. Each thread will store results of the map_function into mapreducetemp/part-tmp-X.csv where X is a unique number per each thread.\n",
        "<br><br>\n",
        "3. Keep the list of all threads and check whether they are completed.\n",
        "<br><br>\n",
        "4. Once all threads completed, load content of all CSV files into the temp_results table in SQLite.\n",
        "\n",
        "    Remark: Easiest way to loop over all CSV files and load them into Pandas first, then load into SQLite\n",
        "    `data = pd.read_csv(path to csv)`\n",
        "    `data.to_sql(‘temp_results’,sql_conn, if_exists=’append’,index=False)`\n",
        "<br><br>\n",
        "\n",
        "5. **Write SQL statement** that generates a sorted list by key of the form `(key, value)` where value is concatenation of ALL values in the value column that match specific key. For example, if table has records\n",
        "<table>\n",
        "    <tbody>\n",
        "            <tr>\n",
        "                <td style=\"text-align:center\">John</td>\n",
        "                <td style=\"text-align:center\">myCSV1.csv</td>\n",
        "            </tr>\n",
        "            <tr>\n",
        "                <td style=\"text-align:center\">Dana</td>\n",
        "                <td style=\"text-align:center\">myCSV5.csv</td>\n",
        "            </tr>\n",
        "            <tr>\n",
        "                <td style=\"text-align:center\">John</td>\n",
        "                <td style=\"text-align:center\">myCSV7.csv</td>\n",
        "            </tr>\n",
        "    </tbody>\n",
        "</table>\n",
        "\n",
        "    Then SQL statement will return `(‘John’,’myCSV1.csv, myCSV7.csv’)`\n",
        "    Remark: use GROUP_CONCAT and also GROUP BY ORDER BY\n",
        "<br><br><br>\n",
        "6. **Start a new thread** for each value from the generated list in the previous step, to execute `reduce_function(key,value)`\n",
        "<br>\n",
        "7. Each thread will store results of reduce_function into `mapreducefinal/part-X-final.csv` file\n",
        "<br>\n",
        "8. Keep list of all threads and check whether they are completed\n",
        "<br>\n",
        "9. Once all threads completed, print on the screen `MapReduce Completed` otherwise print `MapReduce Failed`\n",
        "\n"
      ]
    },
    {
      "cell_type": "code",
      "execution_count": null,
      "metadata": {
        "id": "9ylQAmc0XJw2"
      },
      "outputs": [],
      "source": [
        "from tqdm.notebook import tqdm\n",
        "from concurrent.futures import ProcessPoolExecutor, as_completed\n",
        "from threading import current_thread\n",
        "import logging"
      ]
    },
    {
      "cell_type": "code",
      "execution_count": null,
      "metadata": {
        "id": "WBPgtNyvzIXD"
      },
      "outputs": [],
      "source": [
        "# Setup logger file\n",
        "logging.basicConfig(filename='mapreduce.log', filemode='w+',\n",
        "                    format='%(asctime)s | %(threadName)s | %(levelname)s | %(message)s',\n",
        "                    level=logging.INFO)"
      ]
    },
    {
      "cell_type": "code",
      "execution_count": null,
      "metadata": {
        "id": "zhmLNVT_tZyq"
      },
      "outputs": [],
      "source": [
        "def thread_wrapper(function, save_path, value):\n",
        "    \"\"\"\n",
        "    A wrapper to run the threads with logging capability. If the thread fails\n",
        "    raise the exception.\n",
        "\n",
        "    Parameters:\n",
        "    function: function to run by thread\n",
        "    save_path (str): path to save the csv\n",
        "    value (tuple): value to run the function on and thread_id\n",
        "    \"\"\"\n",
        "    data, thread_id = value\n",
        "    current_thread().name = f\"{function.__name__} thread {thread_id}\"\n",
        "    logging.info('Started')\n",
        "    try:\n",
        "        # If tuple then it means it's the reduce function\n",
        "        if type(data) is tuple:\n",
        "            res = function(*data)\n",
        "            df = pd.DataFrame(res)\n",
        "            df.to_csv(f'{save_path}/part-{thread_id}-final.csv',\n",
        "                        index=False)\n",
        "        # The map function\n",
        "        else:\n",
        "            res = function(data)\n",
        "            df = pd.DataFrame(res, columns=['key', 'value'])\n",
        "            df.to_csv(os.path.join(save_path,\n",
        "                                   f'part-tmp-{thread_id}.csv'),\n",
        "                      index=False)\n",
        "    except Exception as e:\n",
        "        logging.error(e)\n",
        "        raise e\n",
        "\n",
        "    logging.info('Ended')\n",
        "\n",
        "def pool_executor_wrapper(function, data, pbar, num_of_threads, save_path, is_map=True):\n",
        "    \"\"\"\n",
        "    A wrapper to execute the pool of threads\n",
        "\n",
        "    Parameters:\n",
        "    function: function to let the thread run\n",
        "    data: data to run the function on\n",
        "    pbar (tqdm): the progress bar we want to update as threads complete\n",
        "    num_of_threads (int): the max number of threads we want to run\n",
        "    save_path (str): path where we want to save our results\n",
        "    is_map (bool): boolean whether we are running threads on the map function\n",
        "\n",
        "    Returns:\n",
        "    str: if a thread fails returns a fail message otherwise returns nothing\n",
        "    \"\"\"\n",
        "    # Define the pool executor and start the threads\n",
        "    with ProcessPoolExecutor(max_workers=num_of_threads) as executor:\n",
        "        futures = list(map(lambda x: executor.submit(thread_wrapper, function, save_path, x),\n",
        "                           list(zip(data, range(1, num_of_threads + 1)))))\n",
        "\n",
        "        # Go over the list of threads and check the completion status of each\n",
        "        for future in as_completed(futures):\n",
        "            try:\n",
        "                future.result()\n",
        "            except Exception as e:\n",
        "                return \"MapReduce Failed\"\n",
        "\n",
        "            pbar.update(1)\n"
      ]
    },
    {
      "cell_type": "code",
      "execution_count": null,
      "metadata": {
        "id": "XlGmJQR0Ifpa"
      },
      "outputs": [],
      "source": [
        "# implement all of the class here\n",
        "\n",
        "class MapReduceEngine():\n",
        "    def execute(self, input_data, map_function, reduce_function):\n",
        "        \"\"\"\n",
        "        Execute the mapreduce steps: map, shuffle and sort, reduce\n",
        "        Parallelize the map and reduce steps by creating threads to run the\n",
        "        map and reduce function in parallel on the partitioned data\n",
        "\n",
        "        Parameters:\n",
        "        input_data (dict): Dictionary to apply map_function on\n",
        "        map_function: Map function to apply on input_data\n",
        "        reduce_function: Reduce function on the shuffled and sorted output of\n",
        "                         map_function\n",
        "\n",
        "        Returns:\n",
        "        str: Completion status message\n",
        "        \"\"\"\n",
        "\n",
        "        # Start a thread for each key in input_data and run map_function on it\n",
        "        num_of_threads = len(input_data)\n",
        "        mapreducetemp_path = \"mapreducetemp\"\n",
        "\n",
        "        # Define a progress bar to visualize progress of threads\n",
        "        with tqdm(total=num_of_threads, desc = 'Map Progress Bar') as pbar:\n",
        "            map_status = pool_executor_wrapper(map_function, input_data, pbar,\n",
        "                                               num_of_threads, mapreducetemp_path)\n",
        "\n",
        "        if map_status is not None:\n",
        "            return map_status\n",
        "\n",
        "        # Load content of all CSV files into temp_results table\n",
        "        for file in os.listdir(mapreducetemp_path):\n",
        "            if file.endswith(\".csv\"):\n",
        "                data = pd.read_csv(os.path.join(mapreducetemp_path, file))\n",
        "                data.to_sql('temp_results', sql_conn, if_exists='append', index=False)\n",
        "\n",
        "        # SQL statement to generate a sorted list by key\n",
        "        sql_generate_sorted_list = \"\"\"\n",
        "                                   SELECT key, GROUP_CONCAT(value)\n",
        "                                   FROM temp_results\n",
        "                                   GROUP BY key\n",
        "                                   ORDER BY key;\n",
        "                                   \"\"\"\n",
        "        sorted_list = sql_conn.execute(sql_generate_sorted_list).fetchall()\n",
        "\n",
        "        # Start a thread for each value from the generated list\n",
        "        num_of_threads = len(sorted_list)\n",
        "\n",
        "        # Define a progress bar to visualize progress of threads\n",
        "        with tqdm(total=num_of_threads, desc = 'Reduce Progress Bar') as pbar:\n",
        "            reduce_status = pool_executor_wrapper(reduce_function, sorted_list, pbar,\n",
        "                                                  num_of_threads, 'mapreducefinal',\n",
        "                                                  is_map=False)\n",
        "\n",
        "        if reduce_status is not None:\n",
        "            return reduce_status\n",
        "\n",
        "        return \"MapReduce Completed\""
      ]
    },
    {
      "attachments": {},
      "cell_type": "markdown",
      "metadata": {
        "id": "Fc-ymlf_Ifpb"
      },
      "source": [
        "<br><br><br><br>\n",
        "\n",
        "# Question 3\n",
        "## Implement the MapReduce Inverted index of the JSON documents"
      ]
    },
    {
      "attachments": {},
      "cell_type": "markdown",
      "metadata": {
        "id": "DoTvy10fIfpb"
      },
      "source": [
        "Implement a function `inverted_map(document_name)` which reads the CSV document from the local disc and return a list that contains entries of the form (key_value, document name).\n",
        "\n",
        "For example, if myCSV4.csv document has values like:\n",
        "`{‘firstname’:’John’,‘secondname’:’Rambo’,‘city’:’Palo Alto’}`\n",
        "\n",
        "Then `inverted_map(‘myCSV4.csv’)` function will return a list:\n",
        "`[(‘firstname_John’,’ myCSV4.csv’),(‘secondname_Rambo’,’ myCSV4.csv’), (‘city_Palo Alto’,’ myCSV4.csv’)]`"
      ]
    },
    {
      "cell_type": "code",
      "execution_count": null,
      "metadata": {
        "id": "DFprpdFtIfpb"
      },
      "outputs": [],
      "source": [
        "def inverted_map(document_name):\n",
        "    \"\"\"\n",
        "    Reads the csv document from the local disk and return a list that contains\n",
        "    entries of the form (key_value, document name)\n",
        "\n",
        "    Parameters:\n",
        "    document_name (csv): csv document name to run the map function on\n",
        "    column_index (int): index of column to create list for\n",
        "\n",
        "    Returns:\n",
        "    entries (lst): list of tuples of the defined form\n",
        "    \"\"\"\n",
        "    entries = []\n",
        "    df = pd.read_csv(document_name)\n",
        "    for _, row in df.iterrows():\n",
        "        for col in df.columns:\n",
        "            entries.append((\"_\".join([col, row[col]]), document_name))\n",
        "    return entries"
      ]
    },
    {
      "attachments": {},
      "cell_type": "markdown",
      "metadata": {
        "id": "tdvHssNkIfpb"
      },
      "source": [
        "Write a reduce function `inverted_reduce(value, documents)`, where the field “documents” contains a list of all CSV documents per given value.\n",
        "This list might have duplicates.\n",
        "Reduce function will return new list without duplicates.\n",
        "\n",
        "For example,\n",
        "calling the function `inverted_reduce(‘firstname_Albert’,’myCSV2.csv, myCSV5.csv,myCSV2.csv’)`\n",
        "will return a list `[‘firstname_Albert’,’myCSV2.csv, myCSV5.csv,myCSV2.csv’]`"
      ]
    },
    {
      "cell_type": "code",
      "execution_count": null,
      "metadata": {
        "id": "cFRcuds3Ifpb"
      },
      "outputs": [],
      "source": [
        "def inverted_reduce(value, documents):\n",
        "    \"\"\"\n",
        "    Take the two parameters given and put them together in a list and get rid of\n",
        "    the duplicates in the parameter documents\n",
        "\n",
        "    Parameters:\n",
        "    value (str): column name and value in the form of columnname_value\n",
        "    documents(str): list of all csv documents per given value\n",
        "\n",
        "    Returns:\n",
        "    lst: concatenation of value and the list of csv documents with no duplicates\n",
        "    \"\"\"\n",
        "    return [value] + list(set(documents.split(\",\")))"
      ]
    },
    {
      "attachments": {},
      "cell_type": "markdown",
      "metadata": {
        "id": "tpB3VhtnIfpc"
      },
      "source": [
        "<br><br><br><br>\n",
        "# Question 4\n",
        "## Testing Your MapReduce\n",
        "\n",
        "**Create Python list** `input_data` : `[‘myCSV1.csv’,.. ,‘myCSV20.csv’]`"
      ]
    },
    {
      "cell_type": "code",
      "execution_count": null,
      "metadata": {
        "id": "g0Anh_iHIfpc"
      },
      "outputs": [],
      "source": [
        "input_data = [f'myCSV{i}.csv' for i in range(1,21)]"
      ]
    },
    {
      "attachments": {},
      "cell_type": "markdown",
      "metadata": {
        "id": "6WmRLPieIfpc"
      },
      "source": [
        "**Submit MapReduce as follows:**"
      ]
    },
    {
      "cell_type": "code",
      "execution_count": null,
      "metadata": {
        "colab": {
          "base_uri": "https://localhost:8080/",
          "height": 99,
          "referenced_widgets": [
            "b80b323ff83644dead27c816743f0e37",
            "718ff17927d145edba9e7df2b7663898",
            "06a8dda9f19e4bb0b860711d678f64d8",
            "3e8e6eb1e5f346d794a6ffc3d7c7f0ea",
            "de87ed2523854676bb0ced966b584627",
            "ece5d8c89c3b4763994a38797329db6d",
            "b5bcbe90683d4f298c761e92254ee1b3",
            "b233abebd3e54e13a01121d2416037e3",
            "92b81a0dd5d948bc81c7674fdaab1186",
            "5611c1cb2a894dc3bfd2c717bb0b7e75",
            "6e9a3c8d097c47d496d1597493233cd7",
            "ba26dc3452fc4cd0b8c4deec7cdbde6f",
            "7660b077dbc3431ead7211f401cb8736",
            "9a7163bcc57e44ad998a435fc04e3261",
            "82f070b414754bedbd45fd25a15c7029",
            "f9b9ab164765432383341a74a2c5ffd6",
            "d4a3e7f5338b4831a3d72da3e7f3affd",
            "c7cefe2154be4f5bba7a82307d2bf89b",
            "ba0d37b88d294c3f98862253100b5a84",
            "c745fa2b5a8046f1bf83b8384fff6142",
            "615672a912c14da4ba22dc03b1f5fea3",
            "786fb40ff2f24fb3a8761b1d8315b3f3"
          ]
        },
        "id": "jEQ0XH8cIfpc",
        "outputId": "3631c5d0-1357-4296-c25c-e932a7966742"
      },
      "outputs": [
        {
          "data": {
            "application/vnd.jupyter.widget-view+json": {
              "model_id": "b80b323ff83644dead27c816743f0e37",
              "version_major": 2,
              "version_minor": 0
            },
            "text/plain": [
              "Map Progress Bar:   0%|          | 0/20 [00:00<?, ?it/s]"
            ]
          },
          "metadata": {},
          "output_type": "display_data"
        },
        {
          "data": {
            "application/vnd.jupyter.widget-view+json": {
              "model_id": "ba26dc3452fc4cd0b8c4deec7cdbde6f",
              "version_major": 2,
              "version_minor": 0
            },
            "text/plain": [
              "Reduce Progress Bar:   0%|          | 0/24 [00:00<?, ?it/s]"
            ]
          },
          "metadata": {},
          "output_type": "display_data"
        },
        {
          "name": "stdout",
          "output_type": "stream",
          "text": [
            "MapReduce Completed\n"
          ]
        }
      ],
      "source": [
        "mapreduce = MapReduceEngine()\n",
        "status = mapreduce.execute(input_data, inverted_map, inverted_reduce)\n",
        "print(status)"
      ]
    },
    {
      "attachments": {},
      "cell_type": "markdown",
      "metadata": {
        "id": "6rHVwp0OIfpc"
      },
      "source": [
        "Make sure that `MapReduce Completed` should be printed and `mapreducefinal` folder should contain the result files."
      ]
    },
    {
      "attachments": {},
      "cell_type": "markdown",
      "metadata": {
        "id": "CTopB07zIfpc"
      },
      "source": [
        "**Use python to delete all temporary data from mapreducetemp folder and delete SQLite database:**"
      ]
    },
    {
      "cell_type": "code",
      "execution_count": null,
      "metadata": {
        "id": "lCY143XjIfpc"
      },
      "outputs": [],
      "source": [
        "mapreducetemp_path = \"mapreducetemp\"\n",
        "for file in os.listdir(mapreducetemp_path):\n",
        "    os.remove(os.path.join(mapreducetemp_path, file))\n",
        "os.remove(\"mydb.db\")"
      ]
    },
    {
      "attachments": {},
      "cell_type": "markdown",
      "metadata": {
        "id": "mKASl1m7Ifpc"
      },
      "source": [
        "<br><br><br><br>\n",
        "\n",
        "# Question 5\n",
        "# Final Thoughts\n",
        "\n",
        "The phase where `MapReduceEngine` reads all temporary files generated by maps and sort them to provide each reducer a specific key is called the **shuffle step**.\n",
        "\n",
        "Please explain **clearly** what would be the main problem of MapReduce when processing Big Data, if there is no shuffle step at all, meaning reducers will directly read responses from the mappers."
      ]
    },
    {
      "attachments": {},
      "cell_type": "markdown",
      "metadata": {
        "id": "KtREtjn5Ifpd"
      },
      "source": [
        "The shuffling process collects similar work into one unit. Data from all mappers are grouped by the key, sorted by the key and split among reducers. Each reducer obtains all values associated with the same key. The shuffle step is actually the most important step of the MapReduce process.\n",
        "\n",
        "For example, in a word count process, let’s say you have a list of (key, value) pairs like this:\n",
        "\n",
        "(hot, 1), (cold, 1), (hot, 1), (rain, 1), (cold, 1)\n",
        "<br/>\n",
        "<br/>\n",
        "The shuffling process will sort and group by the pairs by the keys:\n",
        "\n",
        "(cold, 1), (cold, 1), (hot, 1), (hot, 1), (rain, 1)\n",
        "<br/>\n",
        "<br/>\n",
        "Now each reducer will work on (one or more) different keys and the final result will be:\n",
        "\n",
        "Reducer 1 - (cold, 2)\n",
        "\n",
        "Reducer 2 - (hot, 2)\n",
        "\n",
        "Reducer 3 - (rain, 1)\n",
        "\n",
        "Without the shuffling process, same keys might go to different reducers and the count will not be correct, for example the result could be:\n",
        "\n",
        "Reducer 1 - (cold, 2)\n",
        "\n",
        "Reducer 2 - (hot, 1)\n",
        "\n",
        "Reducer 3 - (hot, 1)\n",
        "\n",
        "Reducer 4 - (rain, 1)\n",
        "\n",
        "The shuffle step occurs to guarantee that the results from mapper which have the same key (of course, they may or may not be from the same mapper) will be sent to the same reducer. So, the reducer can further reduce the result set to a proper result.\n",
        "\n",
        "\n",
        "\n"
      ]
    },
    {
      "attachments": {},
      "cell_type": "markdown",
      "metadata": {
        "id": "_ZPJhzbsIfpd"
      },
      "source": [
        "<br><br><br><br>\n",
        "Good Luck :)"
      ]
    }
  ],
  "metadata": {
    "colab": {
      "provenance": []
    },
    "kernelspec": {
      "display_name": "Python 3",
      "language": "python",
      "name": "python3"
    },
    "language_info": {
      "codemirror_mode": {
        "name": "ipython",
        "version": 3
      },
      "file_extension": ".py",
      "mimetype": "text/x-python",
      "name": "python",
      "nbconvert_exporter": "python",
      "pygments_lexer": "ipython3",
      "version": "3.8.5"
    },
    "widgets": {
      "application/vnd.jupyter.widget-state+json": {
        "06a8dda9f19e4bb0b860711d678f64d8": {
          "model_module": "@jupyter-widgets/controls",
          "model_module_version": "1.5.0",
          "model_name": "HTMLModel",
          "state": {
            "_dom_classes": [],
            "_model_module": "@jupyter-widgets/controls",
            "_model_module_version": "1.5.0",
            "_model_name": "HTMLModel",
            "_view_count": null,
            "_view_module": "@jupyter-widgets/controls",
            "_view_module_version": "1.5.0",
            "_view_name": "HTMLView",
            "description": "",
            "description_tooltip": null,
            "layout": "IPY_MODEL_b5bcbe90683d4f298c761e92254ee1b3",
            "placeholder": "​",
            "style": "IPY_MODEL_ece5d8c89c3b4763994a38797329db6d",
            "value": "Map Progress Bar: 100%"
          }
        },
        "3e8e6eb1e5f346d794a6ffc3d7c7f0ea": {
          "model_module": "@jupyter-widgets/controls",
          "model_module_version": "1.5.0",
          "model_name": "FloatProgressModel",
          "state": {
            "_dom_classes": [],
            "_model_module": "@jupyter-widgets/controls",
            "_model_module_version": "1.5.0",
            "_model_name": "FloatProgressModel",
            "_view_count": null,
            "_view_module": "@jupyter-widgets/controls",
            "_view_module_version": "1.5.0",
            "_view_name": "ProgressView",
            "bar_style": "success",
            "description": "",
            "description_tooltip": null,
            "layout": "IPY_MODEL_92b81a0dd5d948bc81c7674fdaab1186",
            "max": 20,
            "min": 0,
            "orientation": "horizontal",
            "style": "IPY_MODEL_b233abebd3e54e13a01121d2416037e3",
            "value": 20
          }
        },
        "5611c1cb2a894dc3bfd2c717bb0b7e75": {
          "model_module": "@jupyter-widgets/controls",
          "model_module_version": "1.5.0",
          "model_name": "DescriptionStyleModel",
          "state": {
            "_model_module": "@jupyter-widgets/controls",
            "_model_module_version": "1.5.0",
            "_model_name": "DescriptionStyleModel",
            "_view_count": null,
            "_view_module": "@jupyter-widgets/base",
            "_view_module_version": "1.2.0",
            "_view_name": "StyleView",
            "description_width": ""
          }
        },
        "615672a912c14da4ba22dc03b1f5fea3": {
          "model_module": "@jupyter-widgets/controls",
          "model_module_version": "1.5.0",
          "model_name": "DescriptionStyleModel",
          "state": {
            "_model_module": "@jupyter-widgets/controls",
            "_model_module_version": "1.5.0",
            "_model_name": "DescriptionStyleModel",
            "_view_count": null,
            "_view_module": "@jupyter-widgets/base",
            "_view_module_version": "1.2.0",
            "_view_name": "StyleView",
            "description_width": ""
          }
        },
        "6e9a3c8d097c47d496d1597493233cd7": {
          "model_module": "@jupyter-widgets/base",
          "model_module_version": "1.2.0",
          "model_name": "LayoutModel",
          "state": {
            "_model_module": "@jupyter-widgets/base",
            "_model_module_version": "1.2.0",
            "_model_name": "LayoutModel",
            "_view_count": null,
            "_view_module": "@jupyter-widgets/base",
            "_view_module_version": "1.2.0",
            "_view_name": "LayoutView",
            "align_content": null,
            "align_items": null,
            "align_self": null,
            "border": null,
            "bottom": null,
            "display": null,
            "flex": null,
            "flex_flow": null,
            "grid_area": null,
            "grid_auto_columns": null,
            "grid_auto_flow": null,
            "grid_auto_rows": null,
            "grid_column": null,
            "grid_gap": null,
            "grid_row": null,
            "grid_template_areas": null,
            "grid_template_columns": null,
            "grid_template_rows": null,
            "height": null,
            "justify_content": null,
            "justify_items": null,
            "left": null,
            "margin": null,
            "max_height": null,
            "max_width": null,
            "min_height": null,
            "min_width": null,
            "object_fit": null,
            "object_position": null,
            "order": null,
            "overflow": null,
            "overflow_x": null,
            "overflow_y": null,
            "padding": null,
            "right": null,
            "top": null,
            "visibility": null,
            "width": null
          }
        },
        "718ff17927d145edba9e7df2b7663898": {
          "model_module": "@jupyter-widgets/base",
          "model_module_version": "1.2.0",
          "model_name": "LayoutModel",
          "state": {
            "_model_module": "@jupyter-widgets/base",
            "_model_module_version": "1.2.0",
            "_model_name": "LayoutModel",
            "_view_count": null,
            "_view_module": "@jupyter-widgets/base",
            "_view_module_version": "1.2.0",
            "_view_name": "LayoutView",
            "align_content": null,
            "align_items": null,
            "align_self": null,
            "border": null,
            "bottom": null,
            "display": null,
            "flex": null,
            "flex_flow": null,
            "grid_area": null,
            "grid_auto_columns": null,
            "grid_auto_flow": null,
            "grid_auto_rows": null,
            "grid_column": null,
            "grid_gap": null,
            "grid_row": null,
            "grid_template_areas": null,
            "grid_template_columns": null,
            "grid_template_rows": null,
            "height": null,
            "justify_content": null,
            "justify_items": null,
            "left": null,
            "margin": null,
            "max_height": null,
            "max_width": null,
            "min_height": null,
            "min_width": null,
            "object_fit": null,
            "object_position": null,
            "order": null,
            "overflow": null,
            "overflow_x": null,
            "overflow_y": null,
            "padding": null,
            "right": null,
            "top": null,
            "visibility": null,
            "width": null
          }
        },
        "7660b077dbc3431ead7211f401cb8736": {
          "model_module": "@jupyter-widgets/base",
          "model_module_version": "1.2.0",
          "model_name": "LayoutModel",
          "state": {
            "_model_module": "@jupyter-widgets/base",
            "_model_module_version": "1.2.0",
            "_model_name": "LayoutModel",
            "_view_count": null,
            "_view_module": "@jupyter-widgets/base",
            "_view_module_version": "1.2.0",
            "_view_name": "LayoutView",
            "align_content": null,
            "align_items": null,
            "align_self": null,
            "border": null,
            "bottom": null,
            "display": null,
            "flex": null,
            "flex_flow": null,
            "grid_area": null,
            "grid_auto_columns": null,
            "grid_auto_flow": null,
            "grid_auto_rows": null,
            "grid_column": null,
            "grid_gap": null,
            "grid_row": null,
            "grid_template_areas": null,
            "grid_template_columns": null,
            "grid_template_rows": null,
            "height": null,
            "justify_content": null,
            "justify_items": null,
            "left": null,
            "margin": null,
            "max_height": null,
            "max_width": null,
            "min_height": null,
            "min_width": null,
            "object_fit": null,
            "object_position": null,
            "order": null,
            "overflow": null,
            "overflow_x": null,
            "overflow_y": null,
            "padding": null,
            "right": null,
            "top": null,
            "visibility": null,
            "width": null
          }
        },
        "786fb40ff2f24fb3a8761b1d8315b3f3": {
          "model_module": "@jupyter-widgets/base",
          "model_module_version": "1.2.0",
          "model_name": "LayoutModel",
          "state": {
            "_model_module": "@jupyter-widgets/base",
            "_model_module_version": "1.2.0",
            "_model_name": "LayoutModel",
            "_view_count": null,
            "_view_module": "@jupyter-widgets/base",
            "_view_module_version": "1.2.0",
            "_view_name": "LayoutView",
            "align_content": null,
            "align_items": null,
            "align_self": null,
            "border": null,
            "bottom": null,
            "display": null,
            "flex": null,
            "flex_flow": null,
            "grid_area": null,
            "grid_auto_columns": null,
            "grid_auto_flow": null,
            "grid_auto_rows": null,
            "grid_column": null,
            "grid_gap": null,
            "grid_row": null,
            "grid_template_areas": null,
            "grid_template_columns": null,
            "grid_template_rows": null,
            "height": null,
            "justify_content": null,
            "justify_items": null,
            "left": null,
            "margin": null,
            "max_height": null,
            "max_width": null,
            "min_height": null,
            "min_width": null,
            "object_fit": null,
            "object_position": null,
            "order": null,
            "overflow": null,
            "overflow_x": null,
            "overflow_y": null,
            "padding": null,
            "right": null,
            "top": null,
            "visibility": null,
            "width": null
          }
        },
        "82f070b414754bedbd45fd25a15c7029": {
          "model_module": "@jupyter-widgets/controls",
          "model_module_version": "1.5.0",
          "model_name": "FloatProgressModel",
          "state": {
            "_dom_classes": [],
            "_model_module": "@jupyter-widgets/controls",
            "_model_module_version": "1.5.0",
            "_model_name": "FloatProgressModel",
            "_view_count": null,
            "_view_module": "@jupyter-widgets/controls",
            "_view_module_version": "1.5.0",
            "_view_name": "ProgressView",
            "bar_style": "success",
            "description": "",
            "description_tooltip": null,
            "layout": "IPY_MODEL_c745fa2b5a8046f1bf83b8384fff6142",
            "max": 24,
            "min": 0,
            "orientation": "horizontal",
            "style": "IPY_MODEL_ba0d37b88d294c3f98862253100b5a84",
            "value": 24
          }
        },
        "92b81a0dd5d948bc81c7674fdaab1186": {
          "model_module": "@jupyter-widgets/base",
          "model_module_version": "1.2.0",
          "model_name": "LayoutModel",
          "state": {
            "_model_module": "@jupyter-widgets/base",
            "_model_module_version": "1.2.0",
            "_model_name": "LayoutModel",
            "_view_count": null,
            "_view_module": "@jupyter-widgets/base",
            "_view_module_version": "1.2.0",
            "_view_name": "LayoutView",
            "align_content": null,
            "align_items": null,
            "align_self": null,
            "border": null,
            "bottom": null,
            "display": null,
            "flex": null,
            "flex_flow": null,
            "grid_area": null,
            "grid_auto_columns": null,
            "grid_auto_flow": null,
            "grid_auto_rows": null,
            "grid_column": null,
            "grid_gap": null,
            "grid_row": null,
            "grid_template_areas": null,
            "grid_template_columns": null,
            "grid_template_rows": null,
            "height": null,
            "justify_content": null,
            "justify_items": null,
            "left": null,
            "margin": null,
            "max_height": null,
            "max_width": null,
            "min_height": null,
            "min_width": null,
            "object_fit": null,
            "object_position": null,
            "order": null,
            "overflow": null,
            "overflow_x": null,
            "overflow_y": null,
            "padding": null,
            "right": null,
            "top": null,
            "visibility": null,
            "width": null
          }
        },
        "9a7163bcc57e44ad998a435fc04e3261": {
          "model_module": "@jupyter-widgets/controls",
          "model_module_version": "1.5.0",
          "model_name": "HTMLModel",
          "state": {
            "_dom_classes": [],
            "_model_module": "@jupyter-widgets/controls",
            "_model_module_version": "1.5.0",
            "_model_name": "HTMLModel",
            "_view_count": null,
            "_view_module": "@jupyter-widgets/controls",
            "_view_module_version": "1.5.0",
            "_view_name": "HTMLView",
            "description": "",
            "description_tooltip": null,
            "layout": "IPY_MODEL_c7cefe2154be4f5bba7a82307d2bf89b",
            "placeholder": "​",
            "style": "IPY_MODEL_d4a3e7f5338b4831a3d72da3e7f3affd",
            "value": "Reduce Progress Bar: 100%"
          }
        },
        "b233abebd3e54e13a01121d2416037e3": {
          "model_module": "@jupyter-widgets/controls",
          "model_module_version": "1.5.0",
          "model_name": "ProgressStyleModel",
          "state": {
            "_model_module": "@jupyter-widgets/controls",
            "_model_module_version": "1.5.0",
            "_model_name": "ProgressStyleModel",
            "_view_count": null,
            "_view_module": "@jupyter-widgets/base",
            "_view_module_version": "1.2.0",
            "_view_name": "StyleView",
            "bar_color": null,
            "description_width": ""
          }
        },
        "b5bcbe90683d4f298c761e92254ee1b3": {
          "model_module": "@jupyter-widgets/base",
          "model_module_version": "1.2.0",
          "model_name": "LayoutModel",
          "state": {
            "_model_module": "@jupyter-widgets/base",
            "_model_module_version": "1.2.0",
            "_model_name": "LayoutModel",
            "_view_count": null,
            "_view_module": "@jupyter-widgets/base",
            "_view_module_version": "1.2.0",
            "_view_name": "LayoutView",
            "align_content": null,
            "align_items": null,
            "align_self": null,
            "border": null,
            "bottom": null,
            "display": null,
            "flex": null,
            "flex_flow": null,
            "grid_area": null,
            "grid_auto_columns": null,
            "grid_auto_flow": null,
            "grid_auto_rows": null,
            "grid_column": null,
            "grid_gap": null,
            "grid_row": null,
            "grid_template_areas": null,
            "grid_template_columns": null,
            "grid_template_rows": null,
            "height": null,
            "justify_content": null,
            "justify_items": null,
            "left": null,
            "margin": null,
            "max_height": null,
            "max_width": null,
            "min_height": null,
            "min_width": null,
            "object_fit": null,
            "object_position": null,
            "order": null,
            "overflow": null,
            "overflow_x": null,
            "overflow_y": null,
            "padding": null,
            "right": null,
            "top": null,
            "visibility": null,
            "width": null
          }
        },
        "b80b323ff83644dead27c816743f0e37": {
          "model_module": "@jupyter-widgets/controls",
          "model_module_version": "1.5.0",
          "model_name": "HBoxModel",
          "state": {
            "_dom_classes": [],
            "_model_module": "@jupyter-widgets/controls",
            "_model_module_version": "1.5.0",
            "_model_name": "HBoxModel",
            "_view_count": null,
            "_view_module": "@jupyter-widgets/controls",
            "_view_module_version": "1.5.0",
            "_view_name": "HBoxView",
            "box_style": "",
            "children": [
              "IPY_MODEL_06a8dda9f19e4bb0b860711d678f64d8",
              "IPY_MODEL_3e8e6eb1e5f346d794a6ffc3d7c7f0ea",
              "IPY_MODEL_de87ed2523854676bb0ced966b584627"
            ],
            "layout": "IPY_MODEL_718ff17927d145edba9e7df2b7663898"
          }
        },
        "ba0d37b88d294c3f98862253100b5a84": {
          "model_module": "@jupyter-widgets/controls",
          "model_module_version": "1.5.0",
          "model_name": "ProgressStyleModel",
          "state": {
            "_model_module": "@jupyter-widgets/controls",
            "_model_module_version": "1.5.0",
            "_model_name": "ProgressStyleModel",
            "_view_count": null,
            "_view_module": "@jupyter-widgets/base",
            "_view_module_version": "1.2.0",
            "_view_name": "StyleView",
            "bar_color": null,
            "description_width": ""
          }
        },
        "ba26dc3452fc4cd0b8c4deec7cdbde6f": {
          "model_module": "@jupyter-widgets/controls",
          "model_module_version": "1.5.0",
          "model_name": "HBoxModel",
          "state": {
            "_dom_classes": [],
            "_model_module": "@jupyter-widgets/controls",
            "_model_module_version": "1.5.0",
            "_model_name": "HBoxModel",
            "_view_count": null,
            "_view_module": "@jupyter-widgets/controls",
            "_view_module_version": "1.5.0",
            "_view_name": "HBoxView",
            "box_style": "",
            "children": [
              "IPY_MODEL_9a7163bcc57e44ad998a435fc04e3261",
              "IPY_MODEL_82f070b414754bedbd45fd25a15c7029",
              "IPY_MODEL_f9b9ab164765432383341a74a2c5ffd6"
            ],
            "layout": "IPY_MODEL_7660b077dbc3431ead7211f401cb8736"
          }
        },
        "c745fa2b5a8046f1bf83b8384fff6142": {
          "model_module": "@jupyter-widgets/base",
          "model_module_version": "1.2.0",
          "model_name": "LayoutModel",
          "state": {
            "_model_module": "@jupyter-widgets/base",
            "_model_module_version": "1.2.0",
            "_model_name": "LayoutModel",
            "_view_count": null,
            "_view_module": "@jupyter-widgets/base",
            "_view_module_version": "1.2.0",
            "_view_name": "LayoutView",
            "align_content": null,
            "align_items": null,
            "align_self": null,
            "border": null,
            "bottom": null,
            "display": null,
            "flex": null,
            "flex_flow": null,
            "grid_area": null,
            "grid_auto_columns": null,
            "grid_auto_flow": null,
            "grid_auto_rows": null,
            "grid_column": null,
            "grid_gap": null,
            "grid_row": null,
            "grid_template_areas": null,
            "grid_template_columns": null,
            "grid_template_rows": null,
            "height": null,
            "justify_content": null,
            "justify_items": null,
            "left": null,
            "margin": null,
            "max_height": null,
            "max_width": null,
            "min_height": null,
            "min_width": null,
            "object_fit": null,
            "object_position": null,
            "order": null,
            "overflow": null,
            "overflow_x": null,
            "overflow_y": null,
            "padding": null,
            "right": null,
            "top": null,
            "visibility": null,
            "width": null
          }
        },
        "c7cefe2154be4f5bba7a82307d2bf89b": {
          "model_module": "@jupyter-widgets/base",
          "model_module_version": "1.2.0",
          "model_name": "LayoutModel",
          "state": {
            "_model_module": "@jupyter-widgets/base",
            "_model_module_version": "1.2.0",
            "_model_name": "LayoutModel",
            "_view_count": null,
            "_view_module": "@jupyter-widgets/base",
            "_view_module_version": "1.2.0",
            "_view_name": "LayoutView",
            "align_content": null,
            "align_items": null,
            "align_self": null,
            "border": null,
            "bottom": null,
            "display": null,
            "flex": null,
            "flex_flow": null,
            "grid_area": null,
            "grid_auto_columns": null,
            "grid_auto_flow": null,
            "grid_auto_rows": null,
            "grid_column": null,
            "grid_gap": null,
            "grid_row": null,
            "grid_template_areas": null,
            "grid_template_columns": null,
            "grid_template_rows": null,
            "height": null,
            "justify_content": null,
            "justify_items": null,
            "left": null,
            "margin": null,
            "max_height": null,
            "max_width": null,
            "min_height": null,
            "min_width": null,
            "object_fit": null,
            "object_position": null,
            "order": null,
            "overflow": null,
            "overflow_x": null,
            "overflow_y": null,
            "padding": null,
            "right": null,
            "top": null,
            "visibility": null,
            "width": null
          }
        },
        "d4a3e7f5338b4831a3d72da3e7f3affd": {
          "model_module": "@jupyter-widgets/controls",
          "model_module_version": "1.5.0",
          "model_name": "DescriptionStyleModel",
          "state": {
            "_model_module": "@jupyter-widgets/controls",
            "_model_module_version": "1.5.0",
            "_model_name": "DescriptionStyleModel",
            "_view_count": null,
            "_view_module": "@jupyter-widgets/base",
            "_view_module_version": "1.2.0",
            "_view_name": "StyleView",
            "description_width": ""
          }
        },
        "de87ed2523854676bb0ced966b584627": {
          "model_module": "@jupyter-widgets/controls",
          "model_module_version": "1.5.0",
          "model_name": "HTMLModel",
          "state": {
            "_dom_classes": [],
            "_model_module": "@jupyter-widgets/controls",
            "_model_module_version": "1.5.0",
            "_model_name": "HTMLModel",
            "_view_count": null,
            "_view_module": "@jupyter-widgets/controls",
            "_view_module_version": "1.5.0",
            "_view_name": "HTMLView",
            "description": "",
            "description_tooltip": null,
            "layout": "IPY_MODEL_6e9a3c8d097c47d496d1597493233cd7",
            "placeholder": "​",
            "style": "IPY_MODEL_5611c1cb2a894dc3bfd2c717bb0b7e75",
            "value": " 20/20 [00:00&lt;00:00, 41.43it/s]"
          }
        },
        "ece5d8c89c3b4763994a38797329db6d": {
          "model_module": "@jupyter-widgets/controls",
          "model_module_version": "1.5.0",
          "model_name": "DescriptionStyleModel",
          "state": {
            "_model_module": "@jupyter-widgets/controls",
            "_model_module_version": "1.5.0",
            "_model_name": "DescriptionStyleModel",
            "_view_count": null,
            "_view_module": "@jupyter-widgets/base",
            "_view_module_version": "1.2.0",
            "_view_name": "StyleView",
            "description_width": ""
          }
        },
        "f9b9ab164765432383341a74a2c5ffd6": {
          "model_module": "@jupyter-widgets/controls",
          "model_module_version": "1.5.0",
          "model_name": "HTMLModel",
          "state": {
            "_dom_classes": [],
            "_model_module": "@jupyter-widgets/controls",
            "_model_module_version": "1.5.0",
            "_model_name": "HTMLModel",
            "_view_count": null,
            "_view_module": "@jupyter-widgets/controls",
            "_view_module_version": "1.5.0",
            "_view_name": "HTMLView",
            "description": "",
            "description_tooltip": null,
            "layout": "IPY_MODEL_786fb40ff2f24fb3a8761b1d8315b3f3",
            "placeholder": "​",
            "style": "IPY_MODEL_615672a912c14da4ba22dc03b1f5fea3",
            "value": " 24/24 [00:00&lt;00:00,  5.50it/s]"
          }
        }
      }
    }
  },
  "nbformat": 4,
  "nbformat_minor": 0
}
