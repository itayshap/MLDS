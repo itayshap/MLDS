{
  "cells": [
    {
      "cell_type": "markdown",
      "id": "49eaf30b",
      "metadata": {
        "id": "49eaf30b"
      },
      "source": [
        "##### Introduction to Information Theory (Fall 2023/4)\n",
        "\n",
        "# Home Assignment 2\n",
        "\n",
        "#### Topics:\n",
        "- Lossless compression\n",
        "\n",
        "#### Due: 23/1/2024 before the class\n",
        "\n",
        "#### Instructions:\n",
        "- Write your names and date in the cell below.\n",
        "- Submit a copy of this notebook with code filled in the relevant places as the solution of coding exercises.\n",
        "- For theoretic exercises, you can either write your solution in the notebook using $\\LaTeX$ (recommended) or submit additional notes.\n",
        "- Logarithm is in base $2$ unless stated otherwise.\n",
        "- For chain of equalities or inequalities, make sure to explain every non-trivial transition."
      ]
    },
    {
      "cell_type": "markdown",
      "id": "yANrF7LYaNzc",
      "metadata": {
        "id": "yANrF7LYaNzc"
      },
      "source": [
        "## $\\LaTeX$ definitions\n",
        "$\n",
        "\\newcommand{\\ex}[1]{\\mathbb E \\left[#1\\right]}\n",
        "\\newcommand{\\Id}{{\\mathbf{I}}}  \n",
        "\\newcommand{\\SSE}{\\mathsf{SSE}}\n",
        "\\newcommand{\\SSR}{\\mathsf{SSR}}\n",
        "\\newcommand{\\MSE}{\\mathsf{MSE}}\n",
        "\\newcommand{\\simiid}{\\overset{iid}{\\sim}}\n",
        "\\newcommand{\\var}{\\mathrm{Var}}\n",
        "\\newcommand{\\Cov}[2]{{\\mathrm{Cov}  \\left(#1, #2 \\right)}}\n",
        "\\newcommand{\\one}[1]{\\mathbf 1 {\\left\\{#1\\right\\}}}\n",
        "\\newcommand{\\SE}[1]{\\mathrm{SE} \\left[#1\\right]}\n",
        "\\newcommand{\\Ncal}{\\mathcal N}\n",
        "\\newcommand{\\abs}[1]{\\ensuremath{\\left\\vert#1\\right\\vert}}\n",
        "\\newcommand{\\rank}{\\operatorname{rank}}\n",
        "\\newcommand{\\tr}{\\operatorname{Tr}}\n",
        "\\newcommand{\\diag}{\\operatorname{diag}}\n",
        "\\newcommand{\\sign}{\\operatorname{sign}}\n",
        "\\newcommand{\\Ycal}{\\mathcal Y}\n",
        "\\newcommand{\\Xcal}{\\mathcal X}\n",
        "\\newcommand{\\Zcal}{\\mathcal Z}\n",
        "\\newcommand{\\Wcal}{\\mathcal W}\n",
        "\\newcommand{\\reals}{\\mathbb R}\n",
        "\\newcommand{\\Bern}{\\mathrm{Bernulli}}\n",
        "$"
      ]
    },
    {
      "cell_type": "markdown",
      "id": "pBwvObAFaNzd",
      "metadata": {
        "id": "pBwvObAFaNzd"
      },
      "source": [
        "## $\\LaTeX$ re-definitions\n",
        "$\n",
        "\\renewcommand{\\Id}{{\\mathbf{I}}}  \n",
        "\\renewcommand{\\SSE}{\\mathsf{SSE}}\n",
        "\\renewcommand{\\SSR}{\\mathsf{SSR}}\n",
        "\\renewcommand{\\MSE}{\\mathsf{MSE}}\n",
        "\\renewcommand{\\simiid}{\\overset{iid}{\\sim}}\n",
        "\\renewcommand{\\ex}[1]{\\mathbb E \\left[#1\\right]}\n",
        "\\renewcommand{\\var}{\\mathrm{Var}}\n",
        "\\renewcommand{\\Cov}[2]{{\\mathrm{Cov}  \\left(#1, #2 \\right)}}\n",
        "\\renewcommand{\\one}[1]{\\mathbf 1 {\\left\\{#1\\right\\}}}\n",
        "\\renewcommand{\\SE}[1]{\\mathrm{SE} \\left[#1\\right]}\n",
        "\\renewcommand{\\Ncal}{\\mathcal N}\n",
        "\\renewcommand{\\abs}[1]{\\ensuremath{\\left\\vert#1\\right\\vert}}\n",
        "\\renewcommand{\\rank}{\\operatorname{rank}}\n",
        "\\renewcommand{\\tr}{\\operatorname{Tr}}\n",
        "\\renewcommand{\\diag}{\\operatorname{diag}}\n",
        "\\renewcommand{\\sign}{\\operatorname{sign}}\n",
        "\\renewcommand{\\Ycal}{\\mathcal Y}\n",
        "\\renewcommand{\\Xcal}{\\mathcal X}\n",
        "\\renewcommand{\\Zcal}{\\mathcal Z}\n",
        "\\renewcommand{\\Wcal}{\\mathcal W}\n",
        "\\renewcommand{\\reals}{\\mathbb R}\n",
        "\\renewcommand{\\Bern}{\\mathrm{Bernulli}}\n",
        "$"
      ]
    },
    {
      "cell_type": "markdown",
      "id": "qlqBOKyBaNzd",
      "metadata": {
        "id": "qlqBOKyBaNzd"
      },
      "source": [
        "### 1. Mismatch in Variable Length Coding and Distribution Divergence\n",
        "(there are two items in this question)\n",
        "\n",
        "In the class we proved the following results on the expected length $L$ of any prefix free code applied to a set of symbols sampled independently from a distribution $P_X$.\n",
        "$$\n",
        "H(X) \\leq \\ex{L} \\leq H(X)+1.\n",
        "$$\n",
        "Recall that the code attaining expected length $\\leq H(X)+1$ assigns $\\lceil -\\log P_X(x) \\rceil$ bits to the symbol $x \\in \\Xcal$.\n",
        "Suppose now we design this code to symbols from a distribution $Q_X \\neq P_X$.\n",
        "- Show that the expected length is bounded from above by\n",
        "$$\n",
        "H(P_X|| Q_X) := -\\mathbb E_{X \\sim P_X}[{\\log[Q_X(X)]}] = -\\sum_{x \\in \\Xcal} P_X(x) \\log Q_X(x) =  -\\sum_{x \\in \\Xcal} p(x) \\log q(x)\n",
        "$$\n",
        "By doing so, you will prove that for any PMF $Q$ on $\\Xcal$ there exists a prefix-free code $f$ such that for any PMF $P$ on $\\Xcal$ the average code length for encoding symbols satisfies\n",
        "$$\n",
        "\\mathbb E_{X \\sim P}[{len(f(X))}] \\leq H(P||Q) + 1\n",
        "$$\n",
        "\n",
        "*Note:* $H(P||Q)$ is called the **cross entropy** of $Q$ under $P$, and we have $H(P||Q) = H(P) + D(P||Q)$ where\n",
        "$$\n",
        "D(P||Q) := -\\sum_{x\\in \\Xcal} p(x) \\log \\frac{q(x)}{p(x)},\n",
        "$$\n",
        "is the **relative entropy** or the **Kullback-Leibler divergence** between $P$ to $Q$.\n",
        "\n",
        "- Prove that $D(P||Q) \\geq 0$, hence mismatch necessarily increases the expected length. *Hint:* Use that $\\ln(x) \\leq x - 1$, for $x\\geq 0$."
      ]
    },
    {
      "cell_type": "markdown",
      "id": "a9d6d9dc",
      "metadata": {
        "id": "a9d6d9dc"
      },
      "source": [
        "1. First Proof:\n",
        "\n",
        "$\\mathbb{E}[L]=\\sum_{x\\in\\mathcal{X}}p(x)l(x)=\\sum_{x\\in\\mathcal{X}}p(x)\\left\\lceil -\\log q(x)\\right\\rceil \\leq\\sum_{x\\in\\mathcal{X}}p(x)(1-\\log q(x))$\n",
        "\n",
        "$=\\sum_{x\\in\\mathcal{X}}p(x)-\\sum_{x\\in\\mathcal{X}}p(x)\\log q(x)=1+H(P_{X}||Q_{X})$\n",
        "\n",
        "$\\Rightarrow\\mathbb{E}[L]\\leq1+H(P_{X}||Q_{X})$"
      ]
    },
    {
      "cell_type": "markdown",
      "id": "e7543a0c",
      "metadata": {
        "id": "e7543a0c"
      },
      "source": [
        "2. $D(P||Q) \\geq 0$ proof:\n",
        "\n",
        "$D(P||Q):=-\\sum_{x\\in\\mathcal{X}}p(x)\\log\\frac{q(x)}{p(x)}=\\sum_{x\\in\\mathcal{X}}p(x)\\log\\frac{p(x)}{q(x)}\\geq\\sum_{x\\in\\mathcal{X}}p(x)(1-\\frac{q(x)}{p(x)})=\\sum_{x\\in\\mathcal{X}}p(x)-\\sum_{x\\in\\mathcal{X}}q(x)=1-1=0$"
      ]
    },
    {
      "cell_type": "markdown",
      "id": "rIo-MI2iaNzf",
      "metadata": {
        "id": "rIo-MI2iaNzf"
      },
      "source": [
        "### 2. Huffman Coding and Alphabet Tensorization\n",
        "\n",
        "In this exercise you will compress a random binary string sampled from a binary source using a Huffman code. Every symbol consists of $k$ consecutive binary digits stacked together.\n",
        "1. Complete the code prototype for compression based on the Huffman code:\n",
        "    - Write a function that receives as an input a set of symbols and their probabilities and returns the Huffman code of each symbol.\n",
        "    - Write a function that compresses (encodes) a list of binary words (symbols) using the code.\n",
        "    - Write a function that decompress the encoded string given the compressed string and the code.\n",
        "\n",
        "2. Generate a Huffman code for length-$k$ binary words sampled from $\\mathrm{Bernulli}^k(p)$ ($k$ independent samples from $\\mathrm{Bernulli}(p)$). Use $p=0.2$.\n",
        "    - What is the expected code length when $k=2,3,4,5,6,7,8$?\n",
        "    - What is the expected code length as $k \\to \\infty$ (use the analytic expression)?\n",
        "\n",
        "3. Sample a binary string from $\\mathrm{Bernulli}(p)$ of length $n = 2^{10}$ using the provided function (do not change the seed). Encode the string using the code you created in (2) for $k=2,3,4,5,6,7,8$. What is the actual length of the code for every $k$? Compare this to the expected code length in (2) and to the expected length as $k \\to \\infty$."
      ]
    },
    {
      "cell_type": "code",
      "execution_count": 1,
      "id": "b0d2d2b6",
      "metadata": {
        "id": "b0d2d2b6"
      },
      "outputs": [],
      "source": [
        "import heapq\n",
        "import itertools\n",
        "import numpy as np\n",
        "import pandas as pd"
      ]
    },
    {
      "cell_type": "code",
      "execution_count": 2,
      "id": "Jjf45D0maNzi",
      "metadata": {
        "id": "Jjf45D0maNzi"
      },
      "outputs": [],
      "source": [
        "SEED = 42\n",
        "\n",
        "def sample_n_times_from_Bernuolli(n: int, p: float, seed = SEED) -> list:\n",
        "    \"\"\"\n",
        "    Sample from Bernoulli distribution with parameter p\n",
        "    \"\"\"\n",
        "    assert 0 <= p <= 1\n",
        "    assert n > 0\n",
        "    import random\n",
        "    random.seed(seed)\n",
        "    return [int(random.random() < p) for _ in range(n)]"
      ]
    },
    {
      "cell_type": "code",
      "execution_count": 3,
      "id": "25110dad",
      "metadata": {
        "id": "25110dad"
      },
      "outputs": [],
      "source": [
        "class node():\n",
        "    def __init__(self, prob: float, left=None, right=None, id: int = None):\n",
        "        self.id = id\n",
        "        self.prob = prob\n",
        "        self.left = left\n",
        "        self.right = right\n",
        "    def __lt__(self, nxt):\n",
        "        return self.prob <= nxt.prob"
      ]
    },
    {
      "cell_type": "code",
      "execution_count": 4,
      "id": "08c98984",
      "metadata": {
        "id": "08c98984"
      },
      "outputs": [],
      "source": [
        "def tree_Traversal(tree, str1=\"\"):\n",
        "    dict = {}\n",
        "    if tree.left == None and tree.right == None:\n",
        "        dict[tree.id] = str1\n",
        "        return dict\n",
        "    dict =  tree_Traversal(tree.left, str1 + '0')\n",
        "    dict.update(tree_Traversal(tree.right,  str1 + '1'))\n",
        "    return dict"
      ]
    },
    {
      "cell_type": "code",
      "execution_count": 5,
      "id": "CS-zsGsLaNzj",
      "metadata": {
        "id": "CS-zsGsLaNzj"
      },
      "outputs": [],
      "source": [
        "def huffman_code(symbols_and_probabilities: dict) -> dict:\n",
        "    \"\"\"\n",
        "    >>> huffman_code({'A': 0.5, 'B': 0.3, 'C': 0.2})\n",
        "    {'A': '0', 'B': '10', 'C': '11'}\n",
        "\n",
        "    Args:\n",
        "        symbols_and_probabilities: dict with symbols and their probabilities\n",
        "\n",
        "    Returns:\n",
        "        dict with symbols and their Huffman codes\n",
        "    \"\"\"\n",
        "    node_list = [node(id=k,prob= v) for k,v in symbols_and_probabilities.items()]\n",
        "    heapq.heapify(node_list)\n",
        "    while len(node_list) > 1:\n",
        "        x= heapq.heappop(node_list)\n",
        "        y= heapq.heappop(node_list)\n",
        "        z= node(left=y, right=x, prob=x.prob+y.prob)\n",
        "        heapq.heappush(node_list, z)\n",
        "    return tree_Traversal(node_list[0])\n",
        "\n",
        "def encode_Huffman(data: list, code: dict) -> list:\n",
        "    \"\"\"\n",
        "    >>> encode_Huffman([0, 1, 0, 0, 1, 1, 0], {0: '0', 1: '1'})\n",
        "    '0100110'\n",
        "\n",
        "    Args:\n",
        "        data: list of symbols\n",
        "        code: dict with symbols and their Huffman codes\n",
        "\n",
        "    Returns:\n",
        "        string with encoded data\n",
        "    \"\"\"\n",
        "    lst = []\n",
        "    for symbol in data:\n",
        "        lst.append(code[symbol])\n",
        "    return \"\".join(lst)\n",
        "\n",
        "def decode_Huffman(encoded_data: list, code: dict) -> list:\n",
        "    \"\"\"\n",
        "    >>> decode_Huffman('0100110', {0: '0', 1: '1'})\n",
        "    [0, 1, 0, 0, 1, 1, 0]\n",
        "\n",
        "    Args:\n",
        "        encoded_data: string with encoded data\n",
        "        code: dict with symbols and their Huffman codes\n",
        "\n",
        "    Returns:\n",
        "        list of symbols\n",
        "    \"\"\"\n",
        "    code= {v:k for k,v in code.items()}\n",
        "    lst = []\n",
        "    codeword = ''\n",
        "    for symbol in encoded_data:\n",
        "        codeword += symbol\n",
        "        if code.get(codeword) != None:\n",
        "            lst.append(code[codeword])\n",
        "            codeword = ''\n",
        "    return lst"
      ]
    },
    {
      "cell_type": "code",
      "execution_count": 6,
      "id": "20c98fcc",
      "metadata": {
        "colab": {
          "base_uri": "https://localhost:8080/"
        },
        "id": "20c98fcc",
        "outputId": "4922992c-e1ef-4d72-e612-be1c5bfabdc5"
      },
      "outputs": [
        {
          "data": {
            "text/plain": [
              "{'A': '0', 'B': '10', 'C': '11'}"
            ]
          },
          "execution_count": 6,
          "metadata": {},
          "output_type": "execute_result"
        }
      ],
      "source": [
        "huffman_code({'A': 0.5, 'B': 0.3, 'C': 0.2})"
      ]
    },
    {
      "cell_type": "code",
      "execution_count": 7,
      "id": "1fbcd85f",
      "metadata": {
        "colab": {
          "base_uri": "https://localhost:8080/",
          "height": 36
        },
        "id": "1fbcd85f",
        "outputId": "b7b47216-ef3b-4315-e279-d5e02814f562"
      },
      "outputs": [
        {
          "data": {
            "text/plain": [
              "'0100110'"
            ]
          },
          "execution_count": 7,
          "metadata": {},
          "output_type": "execute_result"
        }
      ],
      "source": [
        "encode_Huffman([0, 1, 0, 0, 1, 1, 0], {0: '0', 1: '1'})"
      ]
    },
    {
      "cell_type": "code",
      "execution_count": 8,
      "id": "9c6bb231",
      "metadata": {
        "colab": {
          "base_uri": "https://localhost:8080/"
        },
        "id": "9c6bb231",
        "outputId": "1e824f39-c772-4166-9982-305b9363118d"
      },
      "outputs": [
        {
          "data": {
            "text/plain": [
              "[0, 1, 0, 0, 1, 1, 0]"
            ]
          },
          "execution_count": 8,
          "metadata": {},
          "output_type": "execute_result"
        }
      ],
      "source": [
        "decode_Huffman('0100110', {0: '0', 1: '1'})"
      ]
    },
    {
      "cell_type": "code",
      "execution_count": 9,
      "id": "4ea8bb4f",
      "metadata": {
        "id": "4ea8bb4f"
      },
      "outputs": [],
      "source": [
        "def huffman_code_k(symbols_and_probabilities: dict, k: int) -> tuple[dict, dict]:\n",
        "    symbols = list(itertools.product(symbols_and_probabilities.keys(),repeat=k))\n",
        "    probs = np.array(list(itertools.product(symbols_and_probabilities.values(),repeat=k))).prod(axis=1)\n",
        "    symbols_and_probabilities = dict(zip(map(\"\".join, symbols), probs))\n",
        "    return symbols_and_probabilities, huffman_code(symbols_and_probabilities)\n"
      ]
    },
    {
      "cell_type": "code",
      "execution_count": 10,
      "id": "4098a28f",
      "metadata": {
        "id": "4098a28f"
      },
      "outputs": [],
      "source": [
        "def encode_Huffman_k(data: list, code: dict, k: int) -> list:\n",
        "    lst = []\n",
        "    data = data[:(len(data) // k)*k]\n",
        "    for i in range(0, len(data), k):\n",
        "        symbols = \"\".join(str(symbol) for symbol in data[i:i+k])\n",
        "        lst.append(code[symbols])\n",
        "    return lst"
      ]
    },
    {
      "cell_type": "code",
      "execution_count": 11,
      "id": "ebdbd96a",
      "metadata": {
        "id": "ebdbd96a"
      },
      "outputs": [],
      "source": [
        "def calculate_expected_length(probs, codewords):\n",
        "    expected_L = 0\n",
        "    for k, v in probs.items():\n",
        "        expected_L += probs[k] * len(codewords[k])\n",
        "    return expected_L"
      ]
    },
    {
      "cell_type": "code",
      "execution_count": 12,
      "id": "0c4ab35a",
      "metadata": {
        "id": "0c4ab35a"
      },
      "outputs": [],
      "source": [
        "def calculate_entropy(probs):\n",
        "    entropy = 0\n",
        "    for v in probs.values():\n",
        "        entropy += -v* np.log2(v)\n",
        "    return entropy"
      ]
    },
    {
      "cell_type": "code",
      "execution_count": 13,
      "id": "7mytiO_CB3VR",
      "metadata": {
        "id": "7mytiO_CB3VR"
      },
      "outputs": [],
      "source": [
        "def get_probabilities_from_data(data, k):\n",
        "    data = data[:(len(data) // k)*k]\n",
        "    data = np.array(data)\n",
        "    data = data.reshape(-1,k)\n",
        "    def t_st(row):\n",
        "        return \"\".join(str(x) for x in row)\n",
        "    data = np.apply_along_axis(func1d=t_st, axis=1, arr=data)\n",
        "    words, counts = np.unique(data, return_counts=True)\n",
        "    probabilties = counts / counts.size\n",
        "    return dict(zip(words, probabilties))"
      ]
    },
    {
      "cell_type": "markdown",
      "id": "e18e127d",
      "metadata": {
        "id": "e18e127d"
      },
      "source": [
        "### Answers for Q2.2:"
      ]
    },
    {
      "cell_type": "code",
      "execution_count": 14,
      "id": "0dddc5a3",
      "metadata": {
        "colab": {
          "base_uri": "https://localhost:8080/"
        },
        "id": "0dddc5a3",
        "outputId": "d493bbcc-7a3a-47b3-de88-b4e90299901f"
      },
      "outputs": [
        {
          "name": "stdout",
          "output_type": "stream",
          "text": [
            "For k=2 the expected length per symbol is: 0.780\n",
            "For k=3 the expected length per symbol is: 0.728\n",
            "For k=4 the expected length per symbol is: 0.741\n",
            "For k=5 the expected length per symbol is: 0.738\n",
            "For k=6 the expected length per symbol is: 0.725\n",
            "For k=7 the expected length per symbol is: 0.732\n",
            "For k=8 the expected length per symbol is: 0.732\n"
          ]
        }
      ],
      "source": [
        "p =0.2\n",
        "symbols_and_probabilities = {\"0\": 1-p, \"1\":p}\n",
        "ks = [2,3,4,5,6,7,8]\n",
        "codewords_dict = {}\n",
        "for k in ks:\n",
        "    probs, codewords =huffman_code_k(symbols_and_probabilities, k)\n",
        "    expected_length = calculate_expected_length(probs, codewords)\n",
        "    codewords_dict[k] = codewords\n",
        "    print(f'For k={k} the expected length per symbol is: {expected_length/k:0.3f}')"
      ]
    },
    {
      "cell_type": "markdown",
      "id": "792bd31a",
      "metadata": {
        "id": "792bd31a"
      },
      "source": [
        "What is the expected code length as $k \\to \\infty$ (use the analytic expression)?"
      ]
    },
    {
      "cell_type": "markdown",
      "id": "3148ce64",
      "metadata": {
        "id": "3148ce64"
      },
      "source": [
        "$H(X)\\leq\\frac{\\mathcal{\\mathbb{E}}[L]}{k}\\leq H(X)+\\frac{1}{k}$\n",
        "\n",
        "As $k\\to\\infty, \\frac{\\mathcal{\\mathbb{E}}[L]}{k}\\to H(X)$\n",
        "\n",
        "$H(X)=h_{2}(p=0.2)\\sim0.722$"
      ]
    },
    {
      "cell_type": "code",
      "execution_count": 15,
      "id": "6c9962dd",
      "metadata": {
        "colab": {
          "base_uri": "https://localhost:8080/"
        },
        "id": "6c9962dd",
        "outputId": "d0bba286-6c22-4cb1-951f-12ccbce13a6a"
      },
      "outputs": [
        {
          "name": "stdout",
          "output_type": "stream",
          "text": [
            "Entropy of X is: 0.722\n"
          ]
        }
      ],
      "source": [
        "print(f'Entropy of X is: {calculate_entropy(symbols_and_probabilities):0.3f}')"
      ]
    },
    {
      "cell_type": "markdown",
      "id": "48ac160b",
      "metadata": {
        "id": "48ac160b"
      },
      "source": [
        "### Answers for Q2.3\n",
        "Compare it with code encoded from a binary string from $\\mathrm{Bernulli}(p)$ of length $n = 2^{10}$"
      ]
    },
    {
      "cell_type": "code",
      "execution_count": 16,
      "id": "ed9a479c",
      "metadata": {
        "id": "ed9a479c"
      },
      "outputs": [],
      "source": [
        "p=0.2\n",
        "n= 2**10\n",
        "data = sample_n_times_from_Bernuolli(n,p)"
      ]
    },
    {
      "cell_type": "markdown",
      "id": "4-pqa0gfCBrQ",
      "metadata": {
        "id": "4-pqa0gfCBrQ"
      },
      "source": [
        "This is the actual code length per symbol, using Huffman coding with the empirical symbols_and_probabilities created from the sequence itself:"
      ]
    },
    {
      "cell_type": "code",
      "execution_count": 17,
      "id": "Xfd6vkLFCFU2",
      "metadata": {
        "colab": {
          "base_uri": "https://localhost:8080/"
        },
        "id": "Xfd6vkLFCFU2",
        "outputId": "f499839e-81ff-4166-c6bb-58a2724d0004"
      },
      "outputs": [
        {
          "name": "stdout",
          "output_type": "stream",
          "text": [
            "For k=2 the Actual length per symbol is 0.748\n",
            "For k=3 the Actual length per symbol is 0.684\n",
            "For k=4 the Actual length per symbol is 0.683\n",
            "For k=5 the Actual length per symbol is 0.668\n",
            "For k=6 the Actual length per symbol is 0.652\n",
            "For k=7 the Actual length per symbol is 0.625\n",
            "For k=8 the Actual length per symbol is 0.604\n"
          ]
        }
      ],
      "source": [
        "for k in ks:\n",
        "    symbols_and_probabilities = get_probabilities_from_data(data, k)\n",
        "    codewords_dictionary= huffman_code(symbols_and_probabilities)\n",
        "    encoded_data = encode_Huffman_k(data=data, code=codewords_dictionary,k=k)\n",
        "    actual_length_per_symbol = np.vectorize(len)(encoded_data).mean() /k\n",
        "    print(f'For k={k} the Actual length per symbol is {actual_length_per_symbol:0.3f}')"
      ]
    },
    {
      "cell_type": "markdown",
      "id": "btOwHBxICcMV",
      "metadata": {
        "id": "btOwHBxICcMV"
      },
      "source": [
        "We can expect that the actual length per symbol will converge to $H(X)=h_{2}(p=0.2)$ as $K \\to ∞$"
      ]
    },
    {
      "cell_type": "markdown",
      "id": "eNm_eZbCCGOK",
      "metadata": {
        "id": "eNm_eZbCCGOK"
      },
      "source": [
        "This is the actual code length per symbol, using Huffman coding with the analytic symbols_and_probabilities (derived for the $\\mathrm{Bernulli}(p=2)$)"
      ]
    },
    {
      "cell_type": "code",
      "execution_count": 18,
      "id": "711d9aeb",
      "metadata": {
        "colab": {
          "base_uri": "https://localhost:8080/"
        },
        "id": "711d9aeb",
        "outputId": "15264c02-ec22-47ee-8326-5e1d4398f5b2"
      },
      "outputs": [
        {
          "name": "stdout",
          "output_type": "stream",
          "text": [
            "For k=2 the Actual length per symbol is 0.748\n",
            "For k=3 the Actual length per symbol is 0.687\n",
            "For k=4 the Actual length per symbol is 0.693\n",
            "For k=5 the Actual length per symbol is 0.699\n",
            "For k=6 the Actual length per symbol is 0.690\n",
            "For k=7 the Actual length per symbol is 0.692\n",
            "For k=8 the Actual length per symbol is 0.682\n"
          ]
        }
      ],
      "source": [
        "for k in ks:\n",
        "    encoded_data = encode_Huffman_k(data=data, code=codewords_dict[k],k=k)\n",
        "    actual_length_per_symbol = np.vectorize(len)(encoded_data).mean() /k\n",
        "    print(f'For k={k} the Actual length per symbol is {actual_length_per_symbol:0.3f}')"
      ]
    },
    {
      "cell_type": "markdown",
      "id": "VqW64lpiCWvO",
      "metadata": {
        "id": "VqW64lpiCWvO"
      },
      "source": [
        "As expected, we can observe that we get better results when using the empirical symbol_and_probalities over the analytic one."
      ]
    },
    {
      "cell_type": "markdown",
      "id": "BNQa3bIIaNzm",
      "metadata": {
        "id": "BNQa3bIIaNzm"
      },
      "source": [
        "### 3. Entropy and Stochastic Process\n",
        "(there are 5 items in this question)\n",
        "Let $X \\sim \\mathrm{Bernulli}(p)$ and $Y \\sim \\mathrm{Bernulli}(q)$, $p \\neq q$. Let\n",
        "$$\n",
        "Z := X \\oplus Y ?\n",
        "$$\n",
        "- What is the distribution of $Z$?\n",
        "- What is the entropy of $Z$? is it smaller or larger than $\\max\\{H(X), H(Y)\\}$?\n",
        "\n",
        "Let $W^n \\overset{iid}{\\sim} \\mathrm{Bernulli}(p)$. Consider the following stochastic process:\n",
        "$$\n",
        "X_1 \\sim \\mathrm{Bernulli}(q),\n",
        "$$\n",
        "$$\n",
        "X_{n+1} = X_n \\oplus W_{n+1}, \\quad n \\geq 1.\n",
        "$$\n",
        "($\\oplus$ is addition modulo 2 or the XOR operation)\n",
        "- Is $X^n$ a Markov chain? If yes, find its stationary distribution.\n",
        "- If $X^n$ is a Markov chain, is it also ergodic?\n",
        "- Is $X^n$ a stationary process? (your answer may depend on $q$)"
      ]
    },
    {
      "cell_type": "markdown",
      "id": "It9SVPxIcrMH",
      "metadata": {
        "id": "It9SVPxIcrMH"
      },
      "source": [
        "###answers\n",
        "1. The distribution of $Z$ is given by:\n",
        "\n",
        "$$P(Z=0)=P(X=0,Y=0)+P(X=1,Y=1)$$\n",
        "$$P(Z=1)=P(X=0,Y=1)+P(X=1,Y=0)$$\n",
        "Given that $X$ and $Y$ are independent:\n",
        "\n",
        "$$P(Z=0)=(1-p)(1-q)+pq$$\n",
        "$$P(Z=1)=(1-p)q+p(1-q)$$\n",
        "\n",
        "2. The entropy of $Z$:\n",
        "$$H\\left(Z\\right)=\\sum_{z\\in Z}P_{z}\\left(z\\right)\\log P_{z}\\left(z\\right)=\\left[(1-p)q+p(1-q)\\right]\\log\\left[(1-p)q+p(1-q)\\right]+\\left[(1-p)(1-q)+pq\\right]\\log\\left[(1-p)(1-q)+pq\\right]$$\n",
        "\n",
        "$H(Z)$ isn't necessarily smaller or larger than $\\max\\{H(X), H(Y)\\}$, for instance its easy to see that setting $p=0$ will result in $H(Z)=H(Y)=\\max\\{H(X), H(Y)\\}$\n",
        "But generally it shouldn't be greater than $\\max\\{H(X), H(Y)\\}$, because knowing someting about $X$ or $Y$ should give us information about $Z$. So, using the information from $\\min\\{H(X), H(Y)\\}$ will decrease the uncertainty regarding $\\max\\{H(X), H(Y)\\}$ and will result in less entropy.\n",
        "\n",
        "3. Note that $Z$ is the transition between $X_1$ and $X_2$. re-writing $Z$ distribution in a matrix multiplication form:\n",
        "$$\\begin{bmatrix}1-q & q\\end{bmatrix}\\begin{bmatrix}1-p & p\\\\\n",
        "p & 1-p\n",
        "\\end{bmatrix}$$\n",
        "yields the states trasition matrix:\n",
        "$$Q=\\begin{bmatrix}1-p & p\\\\\n",
        "p & 1-p\n",
        "\\end{bmatrix}$$\n",
        "Finding the eigen vector corresponding to $λ=1$ can be done by solving $(Q-I)\\vec{v}=\\vec{0}$ where $v=[a,b]$.\n",
        "\n",
        "The solution to this problem is $a=b$. Given the constraint $a+b=1$ we conclude that the stationary distribution is:\n",
        "$$\\mu=\\begin{bmatrix}0.5 & 0.5\\end{bmatrix}$$"
      ]
    },
    {
      "cell_type": "markdown",
      "id": "k-g4HJ1FbpKt",
      "metadata": {
        "id": "k-g4HJ1FbpKt"
      },
      "source": [
        "4. $X^n$ is ergodic satisfies both terms of aperiodicity and irreducibility.\n",
        "\n",
        "It is aperiodic because each state has a path to itself.\n",
        "\n",
        "It is irreducible because it a binary state Markov chain.\n"
      ]
    },
    {
      "cell_type": "markdown",
      "id": "RUhX5CkDbbvE",
      "metadata": {
        "id": "RUhX5CkDbbvE"
      },
      "source": [
        "![Q3.JPG](data:image/jpeg;base64,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)"
      ]
    },
    {
      "cell_type": "markdown",
      "id": "4ab4d501",
      "metadata": {
        "id": "4ab4d501"
      },
      "source": [
        "5.\n",
        "\n",
        "In order for a Markov chain to be a stationary process $\\mu_1 = \\mu$.\n",
        "\n",
        "Thus, if $q=0.5, \\mu_1=\\begin{bmatrix}0.5 & 0.5\\end{bmatrix}=\\mu$, $X^n$ will be a stationary process Markov chain."
      ]
    },
    {
      "cell_type": "markdown",
      "id": "10b64359",
      "metadata": {
        "id": "10b64359"
      },
      "source": [
        "### 4. Compressing a Markov Process\n",
        "(there are 5 items in this question)\n",
        "In this question you will sample a sequence from a two-states Markov source and compress this sequence in a losslessly manner using several methods. The function ``sample_Markov_path`` below samples such a sequence.\n",
        "\n",
        "Use the transition matrix\n",
        "$$\n",
        "Q = \\begin{bmatrix} 1-\\alpha & \\alpha \\\\\n",
        "\\beta & 1- \\beta\n",
        "\\end{bmatrix}\n",
        "$$\n",
        "and vector of initial probabilities $\\begin{bmatrix} 1, 0 \\end{bmatrix}$ (namely, you begin at state $0$).\n"
      ]
    },
    {
      "cell_type": "code",
      "execution_count": 19,
      "id": "8b94a41f",
      "metadata": {
        "id": "8b94a41f"
      },
      "outputs": [],
      "source": [
        "import numpy as np\n",
        "from scipy.stats import multinomial\n",
        "from matplotlib import pyplot as plt\n",
        "\n",
        "SEED = 42\n",
        "\n",
        "def sample_Markov_path(Q: np.ndarray, initial_probs: np.ndarray, n: int, use_seed=True)->np.ndarray:\n",
        "    \"\"\"\n",
        "    Sample from a path from a Markov chain\n",
        "\n",
        "    Args:\n",
        "        :Q:  transition probability matrix\n",
        "        :initial_probs:  vector of probabilities of the initial state\n",
        "        :n:  length of sample path\n",
        "\n",
        "    Return:\n",
        "        :xx:  sample from the Markov chain of length n\n",
        "\n",
        "    \"\"\"\n",
        "\n",
        "    M = Q.shape[0]\n",
        "    xx = np.zeros((n,M))\n",
        "\n",
        "    prob_vec = initial_probs\n",
        "\n",
        "    for i in range(n):\n",
        "        xx[i] = multinomial.rvs(p=prob_vec, n=1, random_state=SEED+i if use_seed else None)\n",
        "        prob_vec = xx[i] @ Q\n",
        "\n",
        "    return np.argmax(xx, 1)\n",
        "\n"
      ]
    },
    {
      "cell_type": "code",
      "execution_count": 20,
      "id": "yT2vEy8yadGM",
      "metadata": {
        "id": "yT2vEy8yadGM"
      },
      "outputs": [],
      "source": [
        "def entropy(p: np.ndarray):\n",
        "    return -np.log2(p) @ p"
      ]
    },
    {
      "cell_type": "markdown",
      "id": "e7f3a74e",
      "metadata": {
        "id": "e7f3a74e"
      },
      "source": [
        "A short sample from the Markov chain (set $n = 2^{14}$ when solving the assignment):"
      ]
    },
    {
      "cell_type": "code",
      "execution_count": 21,
      "id": "1d31dedc",
      "metadata": {
        "colab": {
          "base_uri": "https://localhost:8080/"
        },
        "id": "1d31dedc",
        "outputId": "dec3690e-ecc5-4ab7-8bd0-7fdd62c241e1"
      },
      "outputs": [
        {
          "name": "stdout",
          "output_type": "stream",
          "text": [
            "[0 0 0 1 1 1 1 1 1 1 1 1 1 1 0 0 0 1 1 1 1 1 1 1 1 1 1 1 0 0 0 0 0 0 0 1 1\n",
            " 1 1 1 1 1 1 1 1 1 1 1 1 1 0 0 0 0 0 0 0 0 0 0 0 0 0 0 0 0 0 0 0 0 0 0 0 0\n",
            " 0 0 1 1 1 1 1 1 1 1 1 1 0 0 0 0 0 0 0 0 0 1 1 1 1 0]\n"
          ]
        }
      ],
      "source": [
        "alpha = 0.1\n",
        "beta = 0.15\n",
        "\n",
        "Q = np.array([\n",
        "    [1-alpha, alpha],\n",
        "    [beta, 1-beta]\n",
        "])\n",
        "\n",
        "initial_probs = [1, 0]  # start at state 0\n",
        "X = sample_Markov_path(Q, initial_probs, n = 100)\n",
        "\n",
        "print(X)"
      ]
    },
    {
      "cell_type": "markdown",
      "id": "48cec069",
      "metadata": {
        "id": "48cec069"
      },
      "source": [
        "(1) What is the entropy rate of this process? is it smaller or larger than the entropy of the stationary distribution?"
      ]
    },
    {
      "cell_type": "markdown",
      "id": "EyNfBzP9q3b0",
      "metadata": {
        "id": "EyNfBzP9q3b0"
      },
      "source": [
        "\n",
        "1. We've seen in class that the stationary distribution for this chain is:\n",
        "\n",
        "$$\\pi_s\\left[\\frac{\\beta}{\\alpha+\\beta},\\frac{\\alpha}{\\alpha+\\beta}\\right]$$\n",
        "Making the entropy of the stationary state:\n",
        "$$H\\left(\\pi_{s}\\right)=-\\frac{\\beta}{\\alpha+\\beta}\\log\\frac{\\beta}{\\alpha+\\beta}-\\frac{\\alpha}{\\alpha+\\beta}\\log\\frac{\\alpha}{\\alpha+\\beta}$$\n",
        "\n",
        "Entropy rate of the Markov chain:\n",
        "\n",
        "$$H\\left(\\mathcal{X}\\right)=\\frac{\\beta}{\\alpha+\\beta}H(\\alpha)+\\frac{\\alpha}{\\alpha+\\beta}H(\\beta)$$"
      ]
    },
    {
      "cell_type": "code",
      "execution_count": 22,
      "id": "zZ_5OSjpaY1B",
      "metadata": {
        "colab": {
          "base_uri": "https://localhost:8080/"
        },
        "id": "zZ_5OSjpaY1B",
        "outputId": "90218f41-b402-4355-f5f9-fa4e1f6e9cbb"
      },
      "outputs": [
        {
          "name": "stdout",
          "output_type": "stream",
          "text": [
            "Entropy of the stationary distribution:  0.971\n",
            "Entropy rate of the Markov chain: 0.525\n"
          ]
        }
      ],
      "source": [
        "stationary_dist = np.array([beta/ (beta+alpha), alpha / (beta+alpha)])\n",
        "alpha_dist = np.array([alpha, 1-alpha])\n",
        "beta_dist =  np.array([beta, 1-beta])\n",
        "print(f'Entropy of the stationary distribution: {entropy(stationary_dist): 0.3f}')\n",
        "entropies = np.array([entropy(alpha_dist), entropy(beta_dist)])\n",
        "print(f'Entropy rate of the Markov chain: {stationary_dist @ entropies:0.3f}')"
      ]
    },
    {
      "cell_type": "markdown",
      "id": "cUuD01plQJcM",
      "metadata": {
        "id": "cUuD01plQJcM"
      },
      "source": [
        "We can see that the entropy rate is smaller than the stationary distribution entropy"
      ]
    },
    {
      "cell_type": "markdown",
      "id": "36fcbe02",
      "metadata": {
        "id": "36fcbe02"
      },
      "source": [
        "(2) With $\\alpha=.1$ and $\\beta=.15$, generate a binary string of length $n=2^{14}$ from this Markov chain (using the function ``sample_Markov_path``). What is the fraction of times you spent at each state? Verify that this fraction matched more or less the stationary distribution."
      ]
    },
    {
      "cell_type": "code",
      "execution_count": 23,
      "id": "be1cc85c",
      "metadata": {
        "id": "be1cc85c"
      },
      "outputs": [],
      "source": [
        "n = 2**14\n",
        "X = sample_Markov_path(Q, initial_probs, n = n)"
      ]
    },
    {
      "cell_type": "code",
      "execution_count": 24,
      "id": "7323f27d",
      "metadata": {
        "colab": {
          "base_uri": "https://localhost:8080/"
        },
        "id": "7323f27d",
        "outputId": "1128776a-15c5-4b57-aaab-7a17764b5312"
      },
      "outputs": [
        {
          "data": {
            "text/plain": [
              "{'0': 0.6, '1': 0.4}"
            ]
          },
          "execution_count": 24,
          "metadata": {},
          "output_type": "execute_result"
        }
      ],
      "source": [
        "stationary_dist = {\"0\":beta/ (beta+alpha), \"1\":alpha / (beta+alpha)}\n",
        "stationary_dist"
      ]
    },
    {
      "cell_type": "code",
      "execution_count": 25,
      "id": "d8df6749",
      "metadata": {
        "colab": {
          "base_uri": "https://localhost:8080/"
        },
        "id": "d8df6749",
        "outputId": "515caf39-495f-4adf-eb1b-52d0cfa635e7"
      },
      "outputs": [
        {
          "name": "stdout",
          "output_type": "stream",
          "text": [
            "Fraction of time in state 0 and 1 respectively: [0.58 0.42]\n"
          ]
        }
      ],
      "source": [
        "states_counts = np.unique(X, return_counts=True)[1]\n",
        "print(f'Fraction of time in state 0 and 1 respectively: {(states_counts/states_counts.sum()).round(2)}')"
      ]
    },
    {
      "cell_type": "markdown",
      "id": "ba6baf64",
      "metadata": {
        "id": "ba6baf64"
      },
      "source": [
        "(3) Compress the binary string using a Huffman code for tuples of 8 symbols (one byte), i.e., consider the tensorized source with $K=8$. Estimate tuple frequencies either from the data (easier) or directly from the model. Plot the frequencies of the $2^K$ tuples. Can you anticipate the compression rate (``bits_compressed`` / ``bits_original``) without actually do the encoding?  "
      ]
    },
    {
      "cell_type": "markdown",
      "id": "WvWdUZa4Kr0V",
      "metadata": {
        "id": "WvWdUZa4Kr0V"
      },
      "source": [
        "Answer:\n",
        "\n",
        "Anticipate the compression rate (``bits_compressed`` / ``bits_original``) without actually do the encoding:\n",
        "We use Huffman coding with the stationary distribution to create codewords and calculate the expected length per symbol."
      ]
    },
    {
      "cell_type": "code",
      "execution_count": 26,
      "id": "01785714",
      "metadata": {
        "colab": {
          "base_uri": "https://localhost:8080/"
        },
        "id": "01785714",
        "outputId": "e8578bd6-abe7-4ac7-d166-3c195aae0d10"
      },
      "outputs": [
        {
          "name": "stdout",
          "output_type": "stream",
          "text": [
            "0.974\n"
          ]
        }
      ],
      "source": [
        "k=8\n",
        "probs , codewords = huffman_code_k(stationary_dist, k=k)\n",
        "print(f'{calculate_expected_length(probs , codewords)/k:0.3f}')"
      ]
    },
    {
      "cell_type": "markdown",
      "id": "hdcWUSgWKya3",
      "metadata": {
        "id": "hdcWUSgWKya3"
      },
      "source": [
        "Actual compression rate after encoding - using Huffman coding with the stationary distribution:"
      ]
    },
    {
      "cell_type": "code",
      "execution_count": 27,
      "id": "20c3f5d1",
      "metadata": {
        "colab": {
          "base_uri": "https://localhost:8080/"
        },
        "id": "20c3f5d1",
        "outputId": "89f43725-872e-467d-f641-1b5da6b8fb9c"
      },
      "outputs": [
        {
          "name": "stdout",
          "output_type": "stream",
          "text": [
            "0.975\n"
          ]
        }
      ],
      "source": [
        "encoded_markov = encode_Huffman_k(X, codewords,k=k)\n",
        "print(f'{np.vectorize(len)(encoded_markov).sum() / n:0.3f}')"
      ]
    },
    {
      "cell_type": "markdown",
      "id": "TNaHwPpwK81j",
      "metadata": {
        "id": "TNaHwPpwK81j"
      },
      "source": [
        "Actual compression rate after encoding - using Huffman coding with the empirical symbols_and_probabilities created from the sequence itself:"
      ]
    },
    {
      "cell_type": "code",
      "execution_count": 28,
      "id": "7d-9oCqEK_h-",
      "metadata": {
        "colab": {
          "base_uri": "https://localhost:8080/"
        },
        "id": "7d-9oCqEK_h-",
        "outputId": "5eb06a9e-06a0-49eb-f52d-b8b5200bd99a"
      },
      "outputs": [
        {
          "name": "stdout",
          "output_type": "stream",
          "text": [
            "0.581\n"
          ]
        }
      ],
      "source": [
        "symbols_and_probabilities = get_probabilities_from_data(X, k=k)\n",
        "codewords = huffman_code(symbols_and_probabilities)\n",
        "encoded_markov = encode_Huffman_k(X, codewords, k)\n",
        "print(f'{np.vectorize(len)(encoded_markov).sum() / n:0.3f}')"
      ]
    },
    {
      "cell_type": "code",
      "execution_count": 29,
      "id": "cb404ed0",
      "metadata": {
        "id": "cb404ed0"
      },
      "outputs": [],
      "source": [
        "lst = np.array([])\n",
        "for i in range(0,len(X),k):\n",
        "    k_symbols = \"\".join([str(x) for x in X[i:i+k]])\n",
        "    lst= np.append(lst,k_symbols)\n"
      ]
    },
    {
      "cell_type": "code",
      "execution_count": 30,
      "id": "c44fa677",
      "metadata": {
        "colab": {
          "base_uri": "https://localhost:8080/",
          "height": 364
        },
        "id": "c44fa677",
        "outputId": "65b1754d-1b0f-42ed-9a60-6477c93d35e4"
      },
      "outputs": [
        {
          "data": {
            "image/png": "[encoded data removed]",
            "text/plain": [
              "<Figure size 1600x400 with 1 Axes>"
            ]
          },
          "metadata": {},
          "output_type": "display_data"
        }
      ],
      "source": [
        "df = pd.DataFrame(lst, columns=[\"symbols\"])\n",
        "fig = plt.figure(figsize=(16,4))\n",
        "ratios= df.symbols.value_counts(normalize=True)\n",
        "plt.bar(x=ratios.index, height=ratios)\n",
        "plt.xticks(rotation='vertical', fontsize = 10)\n",
        "plt.title(\"Frequencies of byte-length words, with frequency > 0\", fontsize=14)\n",
        "plt.ylabel(\"Frequencies\")\n",
        "plt.margins(x=0, tight=True)\n",
        "fig.tight_layout()\n"
      ]
    },
    {
      "cell_type": "markdown",
      "id": "b5ab6198",
      "metadata": {
        "id": "b5ab6198"
      },
      "source": [
        "(4) Compress the binary string using Run Length Encoding (RLE) with a maximal stretch of $2^k$. Namely, for $k=3$, the string 000001100011111111.... is encoded as (0,4), (1,1), (0,2), (1,7)..., which is then encoded as (0,100), (1,001), (0,010), (1,111), which is then encoded as 0100 1001 0010 1111 (each stretch of \"1\"s or \"0\"s is encoded using $1+k$ bits. We subtract one from the length of the stretch because there are no stretches of length 0). Stretches longer than $2^k$ are separated into a stretch of $2^k$ and the remainder. Experiment with values of $k$ between 2-8 and report the compression rate for each $k$. Which $k$ attains the best compression rate?"
      ]
    },
    {
      "cell_type": "code",
      "execution_count": 31,
      "id": "yDpUCJgfkPll",
      "metadata": {
        "id": "yDpUCJgfkPll"
      },
      "outputs": [],
      "source": [
        "def RLE(data, k=3):\n",
        "    length = 2**k\n",
        "    idx = 0\n",
        "    lst = []\n",
        "    while idx <= data.size-2:\n",
        "        symbol = data[idx]\n",
        "        counter = 0\n",
        "        while (idx <= data.size-2) and (data[idx+1] == data[idx] and counter < length-1):\n",
        "            counter +=1\n",
        "            idx +=1\n",
        "        lst.append((symbol, counter))\n",
        "        idx +=1\n",
        "        counter = 1\n",
        "\n",
        "    encoded = ''\n",
        "    for x, encode in lst:\n",
        "        encoded += str(x) + format(encode, 'b').zfill(k)\n",
        "    return encoded"
      ]
    },
    {
      "cell_type": "code",
      "execution_count": 32,
      "id": "NmJpda_3kSIJ",
      "metadata": {
        "id": "NmJpda_3kSIJ"
      },
      "outputs": [],
      "source": [
        "encoded_lengths = np.array([])\n",
        "for k in ks:\n",
        "    encoded_lengths= np.append(encoded_lengths, len(RLE(X,k)))\n",
        "compression_rates= np.array(encoded_lengths)/X.size"
      ]
    },
    {
      "cell_type": "code",
      "execution_count": 33,
      "id": "ekRdPfKQkSrF",
      "metadata": {
        "colab": {
          "base_uri": "https://localhost:8080/",
          "height": 407
        },
        "id": "ekRdPfKQkSrF",
        "outputId": "5de939c6-52a4-4655-8e13-7d4f9d381c30"
      },
      "outputs": [
        {
          "data": {
            "image/png": "[encoded data removed]",
            "text/plain": [
              "<Figure size 800x400 with 1 Axes>"
            ]
          },
          "metadata": {},
          "output_type": "display_data"
        }
      ],
      "source": [
        "fig, ax = plt.subplots(1,1, figsize =(8,4))\n",
        "bars = ax.bar(x=ks, height=np.round(compression_rates,2))\n",
        "plt.xlabel('K value')\n",
        "plt.ylabel(\"Compression Rate\")\n",
        "plt.title(\"Compression Rate as a function of K\");\n",
        "for bar in bars:\n",
        "   height = bar.get_height()\n",
        "   ax.annotate(f'{height}', xy=(bar.get_x() + bar.get_width() / 2, height*0.8), xytext=(0, 3),\n",
        "   textcoords=\"offset points\", ha='center', va='bottom')\n",
        "fig.tight_layout()"
      ]
    },
    {
      "cell_type": "markdown",
      "id": "23b430cb",
      "metadata": {
        "id": "23b430cb"
      },
      "source": [
        "(5) Bonus: Can you think about a way to improve the proposed RLE?"
      ]
    },
    {
      "cell_type": "markdown",
      "id": "vsV82TMeB3wt",
      "metadata": {
        "id": "vsV82TMeB3wt"
      },
      "source": [
        "####Answer\n",
        "Currently the algorithm is ineffective using a fixed $k=3$. As we saw $k=4$ achieved a better compression rate.\n",
        "\n",
        "Our proposed algorithm is a pre-calculation on the sequence to choose the best $k$ to work with.\n",
        "\n",
        "The algorithm is as follows:\n",
        "\n",
        "Parse the given generated string, count all unique value repetitions and store the streaks' lengths in a final list. e.g  001101111 will return [2,2,1,4].\n",
        "\n",
        "After that, take the $\\log_2$ of each element in the list +1 and finally calculate its median. This median would be the choosen $k$.\n",
        "\n",
        "Intuitively, if most of the data has streaks of 7, then the best $k$ should be $k=\\log_2(7+1)=3$ like we saw in the RLE example."
      ]
    },
    {
      "cell_type": "code",
      "execution_count": 34,
      "id": "icTRk-W-ATy6",
      "metadata": {
        "id": "icTRk-W-ATy6"
      },
      "outputs": [],
      "source": [
        "def calculate_best_k(data):\n",
        "  count_list = []\n",
        "  idx = 0\n",
        "  counter = 1\n",
        "  while idx <= data.size-2:\n",
        "      symbol = data[idx]\n",
        "      if data[idx+1] == symbol:\n",
        "          counter += 1\n",
        "      else:\n",
        "          count_list.append(counter)\n",
        "          counter = 1\n",
        "      idx+=1\n",
        "\n",
        "  counts = np.array([count_list])\n",
        "  counts = np.ceil(np.log2(counts))\n",
        "  counts = counts.astype(np.int8) + 1\n",
        "  return np.median(np.array([counts]))"
      ]
    },
    {
      "cell_type": "markdown",
      "id": "5y0GpPPgGG9L",
      "metadata": {
        "id": "5y0GpPPgGG9L"
      },
      "source": [
        "As we can see, the best $k$ here was indeed 4. Let us test it in an averaged run of 200 experiments: (with different seeds)"
      ]
    },
    {
      "cell_type": "code",
      "execution_count": 37,
      "id": "ZhEZ7rq0GF28",
      "metadata": {
        "colab": {
          "base_uri": "https://localhost:8080/"
        },
        "id": "ZhEZ7rq0GF28",
        "outputId": "af1805d6-4986-4fe1-ff44-1890b26ca857"
      },
      "outputs": [
        {
          "data": {
            "text/plain": [
              "0.995"
            ]
          },
          "execution_count": 37,
          "metadata": {},
          "output_type": "execute_result"
        }
      ],
      "source": [
        "n_experiments = 200\n",
        "n = 2**11\n",
        "success_ratio = 0\n",
        "for experiment in range(n_experiments):\n",
        "  X = sample_Markov_path(Q, initial_probs, n = n, use_seed=False)\n",
        "  best_theoretical_k = calculate_best_k(X)\n",
        "  encoded_lengths = np.array([])\n",
        "  for k in ks:\n",
        "    encoded_lengths= np.append(encoded_lengths, len(RLE(X,k)))\n",
        "  compression_rates= np.array(encoded_lengths)/X.size\n",
        "  actual_best_k = compression_rates.argmin() + 2\n",
        "\n",
        "  success_ratio += best_theoretical_k == actual_best_k\n",
        "\n",
        "success_ratio / n_experiments"
      ]
    },
    {
      "cell_type": "markdown",
      "id": "s1L_6JU5Lk08",
      "metadata": {
        "id": "s1L_6JU5Lk08"
      },
      "source": [
        "We observe nearly 100% success rate in choosing the right $k$"
      ]
    }
  ],
  "metadata": {
    "colab": {
      "provenance": []
    },
    "kernelspec": {
      "display_name": "Python 3",
      "language": "python",
      "name": "python3"
    },
    "language_info": {
      "codemirror_mode": {
        "name": "ipython",
        "version": 3
      },
      "file_extension": ".py",
      "mimetype": "text/x-python",
      "name": "python",
      "nbconvert_exporter": "python",
      "pygments_lexer": "ipython3",
      "version": "3.11.3"
    }
  },
  "nbformat": 4,
  "nbformat_minor": 5
}
