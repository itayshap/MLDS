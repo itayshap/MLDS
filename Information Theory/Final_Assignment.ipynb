{
 "cells": [
  {
   "cell_type": "markdown",
   "id": "97c68a42",
   "metadata": {},
   "source": [
    "##### Information Theory (Fall 2023/4)\n",
    "\n",
    "# Final Assignment\n",
    "\n",
    "#### Due: 16/3/2024 by the end of the day. \n",
    "\n",
    "#### Instructions:\n",
    "- Write your ID, and date in the cell below (do not write your name). Recall that this assignment is **individual** (collaboration is not allowed).\n",
    "- Submit a copy of this notebook with code filled in the relevant places as the solution of coding exercises.\n",
    "- **Solutions to the coding part must be compilable** and without dependencies except standard Python packages.\n",
    "- Make sure to include notes explaining your code.\n",
    "- Make sure to label figure axes and include a title.\n",
    "- You may reuse code from your home assignments.\n",
    "- Write your solution in the notebook using $\\LaTeX$ (recommended) or submit additional scanned notes for theoretic exercises.\n",
    "- Make sure to justify your steps.\n",
    "- You may use results from class or previous home assignments. In this case, you must clearly describe each result and where it was given.\n",
    "- Be concise. We are likely to deduct points for redundant explanations and derivations.\n",
    "<hr>\n",
    "<hr>"
   ]
  },
  {
   "cell_type": "markdown",
   "id": "a11740e2",
   "metadata": {},
   "source": [
    "**Date**: \n",
    "\n",
    "**ID**: "
   ]
  },
  {
   "cell_type": "code",
   "execution_count": 1,
   "id": "03c79932",
   "metadata": {},
   "outputs": [],
   "source": [
    "YOUR_ID_NUMBER = 3"
   ]
  },
  {
   "cell_type": "markdown",
   "id": "e8bbde2b",
   "metadata": {},
   "source": [
    "## Problem 1: Channel Capacity\n",
    "1. Calculate the capacity of the following channels with $\\mathcal X = \\mathcal Y$:\n",
    "$$\n",
    "(1) \\qquad p(y|x) = \\begin{bmatrix} 1/3 & 1/3 & 1/3 \\\\\n",
    "1/3 & 1/3 & 1/3 \\\\\n",
    "1/3 & 1/3 & 1/3 \n",
    "\\end{bmatrix}\n",
    "$$\n",
    "$$\n",
    "(2) \\qquad p(y|x) = \\begin{bmatrix} 1/2 & 1/2 & 0 \\\\\n",
    "0 & 1/2 & 1/2 \\\\\n",
    "1/2 & 0 & 1/2 \n",
    "\\end{bmatrix}\n",
    "$$\n",
    "2. Answer and provide a short explanation or example.\n",
    " - Is it possible to increase the capacity by adding a row to the channel matrix?\n",
    " - Is it possible to decrease the capacity by adding a row to the channel matrix?\n",
    "3. We wish to encode a $\\mathrm{Bernuolli}(\\alpha)$, $\\alpha \\in (0,1)$ process $V_1,V_2,\\ldots$ over a binary symmetric channel with crossover probability $p \\in [0,1]$. Find conditions on $\\alpha$ and $p$ so that $\\Pr[\\hat{V}^n \\neq V^n]$ can be made to go to zero as $n \\to \\infty$. Justify your claim. "
   ]
  },
  {
   "cell_type": "markdown",
   "id": "2b0bbc4c",
   "metadata": {},
   "source": [
    "Answers:\n",
    "\n",
    "1. (1)\n",
    "\n",
    "Let's for simplicity define $\\mathcal X = \\mathcal Y = \\left\\{ 0,1,2\\right\\}$\n",
    "\n",
    "$C=\\max_{P_X}I(X;Y)$\n",
    "\n",
    "$I(X;Y) = H(Y) - H(Y|X)$\n",
    "\n",
    "$H(Y|X) = P(x=0)H(Y|x=0) + P(x=1)H(Y|x=1) + P(x=2)H(Y|x=2)$\n",
    "\n",
    "$P_Y(Y|x=0) = P_Y(Y|x=1)= P_Y(Y|x=2) = \\left\\{ \\frac{1}{3},\\frac{1}{3}, \\frac{1}{3}\\right\\}$\n",
    "\n",
    "$ \\Rightarrow H(Y|X) = P(x=0) * \\log(3) + P(x=1) * \\log(3) + P(x=2) * \\log(3) = (P(x=0)+P(x=1)+P(x=2)) * \\log(3) =  \\log(3) $\n",
    "\n",
    "$P(y=2)=P(y=1)=P(y=0)=P(x=0)P(y=0|x=0)+P(x=1)P(y=0|x=1)+P(x=2)P(y=0|x=2)=\\frac{1}{3}*(P(x=0)+P(x=1)+P(x=2))=\\frac{1}{3}$\n",
    "\n",
    "$ \\Rightarrow H(Y) = \\log(3)$ \n",
    "\n",
    "$\\Rightarrow C=\\max_{P_X}I(X;Y) = \\log(3) - \\log(3) = 0$, Regardless of  $P_X$.\n",
    "\n",
    "\n",
    "1. (2)\n",
    "\n",
    "$H(Y|X) = P(x=0)H(Y|x=0) + P(x=1)H(Y|x=1) + P(x=2)H(Y|x=2)$\n",
    "\n",
    "$P_Y(Y|x=0) = \\left\\{ \\frac{1}{2},\\frac{1}{2}, 0\\right\\}$, \n",
    "\n",
    "$P_Y(Y|x=1) =  \\left\\{ 0,\\frac{1}{2},\\frac{1}{2}\\right\\}$, \n",
    "\n",
    "$P_Y(Y|x=2) = \\left\\{ \\frac{1}{2},0, \\frac{1}{2}\\right\\}$\n",
    "\n",
    "$ \\Rightarrow H(Y|X) = P(x=0) * 1 + P(x=1) * 1  + P(x=2) * 1 = 1 $\n",
    "\n",
    "$ \\Rightarrow \\max_{P_X}I(X;Y) = H(Y) - 1 $\n",
    "\n",
    "$ \\max_{P_X}I(X;Y)$ will maximize when $H(Y)$ is maximized $\\Rightarrow P_Y = U(0,2)$. \n",
    "\n",
    "this will occur when $P_X = U(0,2)$ - distributed uniformly:\n",
    "\n",
    "$P(y=0)=P(x=0)P(y=0|x=0)+P(x=1)P(y=0|x=1)+P(x=2)P(y=0|x=2) = \\frac{1}{2}*\\frac{1}{3} + 0 + \\frac{1}{2}*\\frac{1}{3}= \\frac{1}{3} $ \n",
    "\n",
    "The same for $P(y=1)$ and $P(y=2)$.\n",
    "\n",
    "$ \\Rightarrow C = \\max_{P_X}I(X;Y) = \\log(|\\mathcal Y|) - 1 $\n",
    "\n",
    "$ C = \\log(3) - 1 \\approx 0.584 $\n",
    "\n",
    "\n",
    "\n",
    "\n"
   ]
  },
  {
   "cell_type": "markdown",
   "id": "c8b43de1",
   "metadata": {},
   "source": [
    "2. \n",
    "\n",
    "Is it possible to increase the capacity by adding a row to the channel matrix?\n",
    "\n",
    "- Yes, Is it possible to increase the capacity by adding a row to the channel matrix, for example:\n",
    "$$\n",
    "\\qquad p(y|x) = \\begin{bmatrix} 1/3 & 1/3 & 1/3 \\\\\n",
    "1/3 & 1/3 & 1/3 \\\\\n",
    "1/3 & 1/3 & 1/3 \\\\\n",
    "1 & 0 &0\n",
    "\\end{bmatrix}\n",
    "$$\n",
    "\n",
    "For example, Let $P_X = U(0,3)$ be distributed uniformly. (There might be a $P_X$ that achieve better capacity (in other cases) but we just want to show that it can be increased)\n",
    "\n",
    "Let's calculate $P_Y$:\n",
    "\n",
    "$P(y=1) = P(y=2) = P(x=0)P(2|0) + P(x=1)P(2|1) + P(x=2)P(2|2) + P(x=3)P(2|3) = 3 * \\frac{1}{4}*\\frac{1}{3} + 0 = \\frac{1}{4}$\n",
    "\n",
    "$P(y=0) = 3 * \\frac{1}{4}*\\frac{1}{3} + \\frac{1}{4} = \\frac{1}{2} $\n",
    "\n",
    "$P_Y = \\left\\{ \\frac{1}{2},\\frac{1}{4},\\frac{1}{4}\\right\\} $\n",
    "\n",
    "$ H(Y) = 1.5 $\n",
    "\n",
    "$H(Y|X) = P(x=0)H(Y|x=0) + P(x=1)H(Y|x=1) + P(x=2)H(Y|x=2) + P(x=3)H(Y|x=3) = 3* \\frac{1}{4} * \\log(3) + 0 $\n",
    "\n",
    "$I(X;Y) = H(Y) - H(Y|X) = 1.5 - 0.75 * \\log(3) \\approx  0.311$, which is higher than $C=0$ before adding a row.\n",
    " \n",
    "\n",
    "\n",
    "<br/>\n",
    "\n",
    "\n",
    "Is it possible to decrease the capacity by adding a row to the channel matrix?\n",
    "\n",
    "- No, it is not possible to decrease the capacity by adding a row to the channel matrix, as one can always not use the symbol added to $\\mathcal{X}$ and the capacity will not decrease for any row added.\n",
    "\n",
    "In our case in matrix 2 for example, let's add the following last row (it doesn't matter what values this row has):\n",
    "$$\n",
    "\\qquad p(y|x) = \\begin{bmatrix} 1/2 & 1/2 & 0 \\\\\n",
    "0 & 1/2 & 1/2 \\\\\n",
    "1/2 & 0 & 1/2 \\\\\n",
    "1/3 & 1/3 & 1/3 \\\\\n",
    "\\end{bmatrix}\n",
    "$$\n",
    "\n",
    "We can ignore this row, meaning not use the added symbol to $\\mathcal{X}$. \n",
    "\n",
    "It can be done by giving 0 probability to the added symbol in the original $P_X$. in our specific case $P_X$ will be $\\left\\{ \\frac{1}{3},\\frac{1}{3},\\frac{1}{3}, 0 \\right\\}$\n",
    "\n",
    "Calculate $P_y$ the same way as above: $\\Rightarrow P_y = \\left\\{ \\frac{1}{3},\\frac{1}{3},\\frac{1}{3}\\right\\} $\n",
    "\n",
    "$ H(Y) = \\log(3) $\n",
    "\n",
    "$H(Y|X) = P(x=0)H(Y|x=0) + P(x=1)H(Y|x=1) + P(x=2)H(Y|x=2) + P(x=3)H(Y|x=3) = 3* \\frac{1}{3} * 1 = 1 $\n",
    "\n",
    "$I(X;Y) = H(Y) - H(Y|X) = 0.584$ for any values in added row.\n",
    "\n",
    "Thus the capacity cannot be decreased, it can only be equal or bigger than the capacity before adding the row.\n",
    "\n",
    "\n"
   ]
  },
  {
   "cell_type": "markdown",
   "id": "830506e5",
   "metadata": {},
   "source": [
    "3. \n",
    "\n",
    "3. We wish to encode a $\\mathrm{Bernuolli}(\\alpha)$, $\\alpha \\in (0,1)$ process $V_1,V_2,\\ldots$ over a binary symmetric channel with crossover probability $p \\in [0,1]$. Find conditions on $\\alpha$ and $p$ so that $\\Pr[\\hat{V}^n \\neq V^n]$ can be made to go to zero as $n \\to \\infty$. Justify your claim. "
   ]
  },
  {
   "cell_type": "markdown",
   "id": "9c4ed21b",
   "metadata": {},
   "source": [
    "According to the source-channel separation theorem, \n",
    "\n",
    "we can send a source $V$ over a channel of capacity $C$ with vanishing probability of error if and only if $H(\\mathcal V) < C$.\n",
    "\n",
    "$H(Y|X) = h_2(p)$, in a binary symmetric channel.\n",
    "\n",
    "$\\Rightarrow C=\\max_{P_X}I(X;Y) = H(Y) - h_2(p)$\n",
    "\n",
    "We want to maximize $H(Y)$ i.e. $P_Y = \\left\\{ \\frac{1}{2},\\frac{1}{2}\\right\\}$. \n",
    "\n",
    "By symmetry of the binary symmetric channel, we can achieve it if the input distribution\n",
    "$P_X$ is also $ = \\left\\{ \\frac{1}{2},\\frac{1}{2}\\right\\}$\n",
    "\n",
    "$\\Rightarrow C = 1 - h_2(p)$\n",
    "\n",
    "$H(\\mathcal V) = h_2(\\alpha)$\n",
    "\n",
    "$H(\\mathcal V) < C$\n",
    "\n",
    "$ \\Rightarrow h_2(\\alpha) < 1 - h_2(p)$\n",
    "\n",
    "$h_2(\\alpha) +  h_2(p) < 1$\n",
    "\n",
    "$=-\\alpha log\\alpha-(1-\\alpha)log(1-\\alpha)-plogp-(1-p)log(1-p)<1$\n",
    "\n",
    "$=-(log\\alpha^{\\alpha}+log(1-\\alpha)^{(1-\\alpha)}+logp^{p}+log(1-p)^{(1-p)})<1$\n",
    "\n",
    "$=-log(\\alpha^{\\alpha}(1-\\alpha)^{(1-\\alpha)}p^{p}(1-p)^{(1-p)})<1$\n",
    "\n",
    "$=log(\\alpha^{\\alpha}(1-\\alpha)^{(1-\\alpha)}p^{p}(1-p)^{(1-p)})>-1$\n",
    "\n",
    "$=\\alpha^\\alpha(1-\\alpha)^{(1-\\alpha)}p^{p}(1-p)^{(1-p)}>\\frac{1}{2}$\n",
    "\n",
    "\n",
    "\n",
    "\n",
    "\n",
    "\n"
   ]
  },
  {
   "cell_type": "markdown",
   "id": "bf76f83f",
   "metadata": {},
   "source": [
    "## Problem 2: Markov Chain and Data Compression\n",
    "\n",
    "Consider a Markov Chain with transition probability matrix $Q$ whose rows are proportional to\n",
    "$$\n",
    "Q' = \\begin{bmatrix}\n",
    "9 & 1 & 1  & & & & & & & & & & &\\\\\n",
    "1 & 9 & 1 & & & & & & & & & & &\\\\  \n",
    "1 & 1 & 8 & 1 & 2 & & & & & & &\\\\ \n",
    "  &   & 1 & 8 & 1 & & & & & & &\\\\\n",
    "  &   & 1 & 1 & 7 & 1 & 2 & & &\\\\\n",
    "  &   &   &   & 1 & 7 & 1 & & & & &\\\\\n",
    "  &   &   &   & 1 & 1 & 6 & 1 & 2 &\\\\\n",
    "  &   &   &   &   &   & 1 & 6 & 1 &  & &\\\\\n",
    "  &   &   &   &   &   & 1 & 1 & 5 & 1 & 2 &\\\\\n",
    "  &   &   &   &   &   &   &   & 1 & 5 & 1 &\\\\\n",
    "  &   &   &   &   &   &   &   & 1 & 1 & 4 & 1 & 2 \\\\\n",
    "  &   &   &   &   &   &   &   &   &   & 1 & 4 & 1\\\\\n",
    "  &   &   &   &   &   &   &   &   &   & 1 & 1 & 3 \\\\\n",
    "\\end{bmatrix}\n",
    "$$\n",
    "For simplicity, we will denote the states by the first 13 English letters, i.e. $\\mathcal X = \\{a,b,...,m\\}$. For example, the probability of transitioning from 'a' to 'a' is $9/11$ and the probability of transitioning from 'c' to 'b' is $1/13$. The function `uild_Q` below returns such $Q$. \n",
    "\n",
    "1. Is the Markov chain ergodic? Explain. \n",
    "2. What is the stationary distribution? (write a code that evaluate this distribution and plot it; make sure to label the states correctly with letters). \n",
    "3. What is the entropy rate? (write a code to evaluate and print it)\n",
    "4. Write a program that samples from the chain a sequence of length $n$ given the initial state $x=\"a\"$. Print the result for $n=100$. Use the ``numpy.random`` as your random number generation interface and set your seed as you ID number.\n",
    "5. Use a Huffman code to encode a sample from the chain:\n",
    "  - (1) Sample a sequence of length $n=10,000$. Find the empirical distribution of times spent at each state and plot this distribution.\n",
    "  - (2) Use the empirical frequencies to generate the Huffman code. Namely, here the probabilities of the symbols are the observed frequencies in the sample as opposed to the version presented in class in which the probabilities are taken from the generative model. Recall that you may reuse code from a previous assignment to implement Huffman coding. \n",
    "  - (3) Compress the sequence using the Huffman code and decompress it back to verify correctness. Use the function prototype below for the compression and decompression operation. \n",
    "  - (4) Report on the resulting average number of bits per symbol. Do not include the length of the code in this evaluation. Use the function `check_compression` for this step. This function is provided below along with an example use case using a dummy compressor and decompressor. \n",
    "  - (5) If you repeat 5.1 - 5.4 while gradually increasing $n$, what is the limiting number of average bits per symbol?\n",
    "6. We will now study a different compression procedure for the Markov chain. The move-to-front (M2F) transform of a sequence replaces every symbol with its index in the stack of recently used (RL) symbols. For example, with an initial list of 'abcdefg', the sequence 'abaafcaga' is transformed to '011053261'. Explanation:\n",
    "\n",
    "| i | RL list | i-th letter | output\n",
    "| :- | -: | -: | -: |\n",
    "| 1 | abcdefg | a | 0 |\n",
    "| 2 | abcdefg | b | 1 |\n",
    "| 3 | bacdefg | a | 1 |\n",
    "| 4 | abcdefg | a | 0 |\n",
    "| 5 | abcdefg | f | 5 | \n",
    "| 6 | fabcdeg | c | 3 |\n",
    "| 7 | cfabdeg | a | 2 |\n",
    "| 8 | acfbdeg | g | 6 | \n",
    "| 9 | gacfbde | a | 1 |\n",
    "\n",
    "- (1) Write a function that implement this transformation by completing the provided prototype. Make sure that the complexity is linear in the sequence length. \n",
    "- (2) Argue that this transformation is invertible. Write a function to invert it by completing the provided prototype. \n",
    "- (3) Apply this transformation to the sample from the Markov chain you used in 5. Plot the histogram of the sequence of *integers* obtained after the transformation.\n",
    "- (4) Outline a procedure for compressing the Markov chain using the M2F transform and Huffman coding.\n",
    "- (5) Intuitively explain why your compression procedure is better than Huffman coding.\n",
    "- (6) Implement the compressor and decompressor by completing the provided prototypes. \n",
    "- (7) Compress the sample you used in 5 using this procedure and report on the average number of bits per symbol using the function `check_compression`. \n",
    "- (8) Did the compression ratio improve compared to vanilla Huffman coding? What is the gap from the optimal asymptotic compression ratio? "
   ]
  },
  {
   "cell_type": "markdown",
   "id": "a68cf214",
   "metadata": {},
   "source": [
    "Answers:\n",
    "\n",
    "1. \n",
    "Is the Markov chain ergodic?  Yes, it is ergodic as it satisfies both terms of aperiodicity and irreducibility. \n",
    "\n",
    "It is aperiodic, because the values in the diagonal are all above 0, which means that every state has a path to itself.\n",
    "\n",
    "It is irreducible because every 2 \"consecutive\" letters has path to each other. Thus, for example, we can transit from 'a' to 'b' and back, and from 'b' to 'c' and back, and so forth. This means the there is a path between any two states."
   ]
  },
  {
   "cell_type": "code",
   "execution_count": 2,
   "id": "85e13375",
   "metadata": {},
   "outputs": [],
   "source": [
    "\"\"\"\n",
    "This cell contains a functions the function `build_Q` that returns the stochstic matrix coresponding to Q in the description above. \n",
    "\n",
    "Additonal functions that may be useful are also included.\n",
    "The function `letters_to_integers` converts a string to a list of integers based on a dictionary.\n",
    "The function `integers_to_letters` converts a list of integers to a string based on a dictionary.\n",
    "The function `integers_to_binary` converts a list of integers (0:(2^k-1)) to a binary string of length k * len(lo_integers).\n",
    "The function `binary_to_integers` converts a binary string of length k * len(s) to a list of integers.\n",
    "The function `entropy` calculates the entropy of a discrete distribution.\n",
    "\n",
    "\"\"\"\n",
    "import numpy as np\n",
    "from matplotlib import pyplot as plt\n",
    "from math import comb\n",
    "\n",
    "np.random.seed(YOUR_ID_NUMBER)\n",
    "\n",
    "def build_Q():\n",
    "    \"\"\"\n",
    "    Returns:\n",
    "    Q: a 13x13 numpy array representing the transition matrix for the Markov chain.\n",
    "    \"\"\"\n",
    "    \n",
    "    Q1 = np.array([[1, 1, 2], [1, 1, 1], [1, 1, 1]])\n",
    "    Q = np.zeros((13, 13))\n",
    "    Q[:3, :3] = Q1\n",
    "    Q[2:5, 2:5] = Q1\n",
    "    Q[4:7, 4:7] = Q1\n",
    "    Q[6:9, 6:9] = Q1\n",
    "    Q[8:11, 8:11] = Q1\n",
    "    Q[10:13, 10:13] = Q1\n",
    "    Q[0, 0] = Q[1,1] = 9\n",
    "    Q[2, 2] = Q[3,3] = 8\n",
    "    Q[4, 4] = Q[5,5] = 7\n",
    "    Q[6, 6] = Q[7,7] = 6\n",
    "    Q[8, 8] = Q[9,9] = 5\n",
    "    Q[10, 10] = Q[11,11] = 4\n",
    "    Q[12, 12] = 3\n",
    "    Q[0, 2] = 1\n",
    "    Q[10, 12] = 1\n",
    "    return Q / Q.sum(axis=1, keepdims=True)\n",
    "\n",
    "Xcal = list('abcdefghijklm')\n",
    "\n",
    "\n",
    "def letters_to_integers(s, dictionary):\n",
    "    \"\"\"\n",
    "    Convert a string to a list of integers based on a dictionary.\n",
    "    \"\"\"\n",
    "    return [dictionary.index(c) for c in s]\n",
    "\n",
    "def integers_to_letters(lo_integers, dictionary):\n",
    "    \"\"\"\n",
    "    Convert a list of integers to a string based on a dictionary.\n",
    "    \"\"\"\n",
    "    return [dictionary[i] for i in lo_integers]\n",
    "\n",
    "def integers_to_binary(lo_integers, k=4):\n",
    "    \"\"\"\n",
    "    Convert a list of integers (0:(2^k-1)) to a binary string of length k * len(lo_integers).\n",
    "    \"\"\"\n",
    "    return \"\".join([np.binary_repr(i, width=k) for i in lo_integers])\n",
    "\n",
    "def binary_to_integers(s, k=4):\n",
    "    \"\"\"\n",
    "    Convert a binary string of length k * len(s) to a list of integers.\n",
    "    \"\"\"\n",
    "    return [int(s[i:i+k], 2) for i in range(0, len(s), k)]\n"
   ]
  },
  {
   "cell_type": "code",
   "execution_count": 3,
   "id": "e040fef5",
   "metadata": {},
   "outputs": [
    {
     "data": {
      "image/png": "[encoded data removed]",
      "text/plain": [
       "<Figure size 640x480 with 2 Axes>"
      ]
     },
     "metadata": {},
     "output_type": "display_data"
    }
   ],
   "source": [
    "# get and plot the transition matrix:\n",
    "Q = build_Q()\n",
    "plt.imshow(Q)\n",
    "\n",
    "# set the xticks and yticks to be the letters\n",
    "plt.xticks(range(13), integers_to_letters(range(13), Xcal))\n",
    "plt.yticks(range(13), integers_to_letters(range(13), Xcal))\n",
    "plt.colorbar()\n",
    "plt.show()"
   ]
  },
  {
   "cell_type": "markdown",
   "id": "becfc00a",
   "metadata": {},
   "source": [
    "2.\n",
    "Calculate the stationary distribution:"
   ]
  },
  {
   "cell_type": "code",
   "execution_count": 4,
   "id": "1914f257",
   "metadata": {},
   "outputs": [
    {
     "data": {
      "text/plain": [
       "array([0.02859894, 0.02859894, 0.03379875, 0.03466538, 0.05199807,\n",
       "       0.05199807, 0.0794415 , 0.07703418, 0.12036591, 0.11234152,\n",
       "       0.16048788, 0.12036591, 0.10030493])"
      ]
     },
     "execution_count": 4,
     "metadata": {},
     "output_type": "execute_result"
    }
   ],
   "source": [
    "# Finding the right Eigenvalues and Eigenvectors of Q.T:\n",
    "evals, evecs = np.linalg.eig(Q.T) \n",
    "\n",
    "# Choosing the Eigenvector with Eigenvalue = 1:\n",
    "evec1 = evecs[:,np.isclose(evals, 1)]\n",
    "\n",
    "# Normalizing it by its sum to create a distribution:\n",
    "stationary = evec1[:,0] / evec1.sum()\n",
    "stationary.T"
   ]
  },
  {
   "cell_type": "code",
   "execution_count": 5,
   "id": "253741d1",
   "metadata": {},
   "outputs": [
    {
     "data": {
      "image/png": "[encoded data removed]",
      "text/plain": [
       "<Figure size 640x480 with 1 Axes>"
      ]
     },
     "metadata": {},
     "output_type": "display_data"
    }
   ],
   "source": [
    "plt.bar(Xcal, stationary)\n",
    "plt.title(\"Stationary Distribution\")\n",
    "plt.xlabel(\"States\")\n",
    "plt.ylabel('Probability');"
   ]
  },
  {
   "cell_type": "markdown",
   "id": "fa16990e",
   "metadata": {},
   "source": [
    "3.\n",
    "Calculate Entropy Rate:"
   ]
  },
  {
   "cell_type": "code",
   "execution_count": 6,
   "id": "bc1bfd8e",
   "metadata": {},
   "outputs": [],
   "source": [
    "def entropy(p: np.array):\n",
    "     p = p[p!=0]\n",
    "     return -p @ np.log2(p)"
   ]
  },
  {
   "cell_type": "code",
   "execution_count": 7,
   "id": "fb203455",
   "metadata": {},
   "outputs": [
    {
     "name": "stdout",
     "output_type": "stream",
     "text": [
      "Entropy rate of the Markov chain: 1.487\n"
     ]
    }
   ],
   "source": [
    "conditional_entropies = np.apply_along_axis(entropy, 1, Q)\n",
    "entropy_rate = stationary @ conditional_entropies\n",
    "print(f'Entropy rate of the Markov chain: {entropy_rate:0.3f}')"
   ]
  },
  {
   "cell_type": "markdown",
   "id": "4808423c",
   "metadata": {},
   "source": [
    "4. \n",
    "Write a program that samples from the chain a sequence of length $n$ given the initial state $x=\"a\"$:"
   ]
  },
  {
   "cell_type": "code",
   "execution_count": 8,
   "id": "29a54968",
   "metadata": {},
   "outputs": [],
   "source": [
    "def sample_Markov_path(Q: np.ndarray, initial_probs: np.ndarray, n: int, seed: int)->np.ndarray:\n",
    "    \"\"\"\n",
    "    Sample from a path from a Markov chain\n",
    "\n",
    "    Args:\n",
    "        :Q:  transition probability matrix\n",
    "        :initial_probs:  vector of probabilities of the initial state\n",
    "        :n:  length of sample path\n",
    "        :seed: the seed for np.random\n",
    "\n",
    "    Return:\n",
    "        :xx:  sample from the Markov chain of length n\n",
    "\n",
    "    \"\"\"\n",
    "\n",
    "    M = Q.shape[0]\n",
    "    xx = np.zeros((n,M))\n",
    "\n",
    "    prob_vec = initial_probs\n",
    "\n",
    "    for i in range(n):\n",
    "        np.random.seed(seed+i)\n",
    "        xx[i] = np.random.multinomial(n=1, pvals =prob_vec, size=1)\n",
    "        prob_vec = xx[i] @ Q\n",
    "    \n",
    "    X = np.argmax(xx, 1)\n",
    "    return np.array(Xcal)[X] # returns numpy array of chars from Xcal"
   ]
  },
  {
   "cell_type": "code",
   "execution_count": 9,
   "id": "f3d763e9",
   "metadata": {},
   "outputs": [
    {
     "data": {
      "text/plain": [
       "'aaaabbbcccccdddddddddddddddddccddddddeeeegffeeeeeeegikmllllmmmllkiiiiikklmmmmkmlllkkikkiiijkkklmmlll'"
      ]
     },
     "execution_count": 9,
     "metadata": {},
     "output_type": "execute_result"
    }
   ],
   "source": [
    "initial_probs = np.zeros(Q.shape[0]) \n",
    "initial_probs[0] =1  # start at state 0\n",
    "X= sample_Markov_path(Q, initial_probs, n = 100, seed=YOUR_ID_NUMBER)\n",
    "\"\".join(X)"
   ]
  },
  {
   "cell_type": "markdown",
   "id": "73d1862b",
   "metadata": {},
   "source": [
    "5.\n",
    "(1) Sample a sequence of length $n=10,000$. Find the empirical distribution of times spent at each state and plot this distribution:"
   ]
  },
  {
   "cell_type": "code",
   "execution_count": 10,
   "id": "26db69ce",
   "metadata": {},
   "outputs": [],
   "source": [
    "initial_probs = np.zeros(Q.shape[0]) \n",
    "initial_probs[0] =1  # start at state 0\n",
    "X= sample_Markov_path(Q, initial_probs, n = 10000, seed=YOUR_ID_NUMBER)"
   ]
  },
  {
   "cell_type": "code",
   "execution_count": 11,
   "id": "4d2f2c9f",
   "metadata": {},
   "outputs": [
    {
     "data": {
      "image/png": "[encoded data removed]",
      "text/plain": [
       "<Figure size 640x480 with 1 Axes>"
      ]
     },
     "metadata": {},
     "output_type": "display_data"
    }
   ],
   "source": [
    "state_counts = np.unique(X,return_counts=True)[1]\n",
    "empirical_dist = state_counts / state_counts.sum()\n",
    "plt.bar(Xcal, empirical_dist)\n",
    "plt.title(\"Empirical Distribution\")\n",
    "plt.xlabel(\"States\")\n",
    "plt.ylabel('Probability');"
   ]
  },
  {
   "cell_type": "markdown",
   "id": "bf42f9ee",
   "metadata": {},
   "source": [
    "5. \n",
    "(2) Use the empirical frequencies to generate the Huffman code:"
   ]
  },
  {
   "cell_type": "code",
   "execution_count": 12,
   "id": "e29381a9",
   "metadata": {},
   "outputs": [],
   "source": [
    "import heapq\n",
    "class node():\n",
    "    def __init__(self, prob: float, left=None, right=None, id: int = None):\n",
    "        self.id = id\n",
    "        self.prob = prob\n",
    "        self.left = left\n",
    "        self.right = right\n",
    "    def __lt__(self, nxt):\n",
    "        return self.prob <= nxt.prob"
   ]
  },
  {
   "cell_type": "code",
   "execution_count": 13,
   "id": "dfcf0ba6",
   "metadata": {},
   "outputs": [],
   "source": [
    "def tree_Traversal(tree, str1=\"\"):\n",
    "    dict = {}\n",
    "    if tree.left == None and tree.right == None:\n",
    "        dict[tree.id] = str1\n",
    "        return dict\n",
    "    dict =  tree_Traversal(tree.left, str1 + '0')\n",
    "    dict.update(tree_Traversal(tree.right,  str1 + '1'))\n",
    "    return dict"
   ]
  },
  {
   "cell_type": "code",
   "execution_count": 14,
   "id": "6edf240c",
   "metadata": {},
   "outputs": [],
   "source": [
    "def huffman_code(symbols_and_probabilities: dict) -> dict:\n",
    "    \"\"\"\n",
    "    >>> huffman_code({'A': 0.5, 'B': 0.3, 'C': 0.2})\n",
    "    {'A': '0', 'B': '10', 'C': '11'}\n",
    "\n",
    "    Args:\n",
    "        symbols_and_probabilities: dict with symbols and their probabilities\n",
    "\n",
    "    Returns:\n",
    "        dict with symbols and their Huffman codes\n",
    "    \"\"\"\n",
    "    node_list = [node(id=k,prob= v) for k,v in symbols_and_probabilities.items()]\n",
    "    heapq.heapify(node_list)\n",
    "    while len(node_list) > 1:\n",
    "        x= heapq.heappop(node_list)\n",
    "        y= heapq.heappop(node_list)\n",
    "        z= node(left=y, right=x, prob=x.prob+y.prob)\n",
    "        heapq.heappush(node_list, z)\n",
    "    return tree_Traversal(node_list[0])\n",
    "\n",
    "def encode_Huffman(data: list, code: dict) -> list:\n",
    "    \"\"\"\n",
    "    >>> encode_Huffman([0, 1, 0, 0, 1, 1, 0], {0: '0', 1: '1'})\n",
    "    '0100110'\n",
    "\n",
    "    Args:\n",
    "        data: list of symbols\n",
    "        code: dict with symbols and their Huffman codes\n",
    "\n",
    "    Returns:\n",
    "        string with encoded data\n",
    "    \"\"\"\n",
    "    lst = []\n",
    "    for symbol in data:\n",
    "        lst.append(code[symbol])\n",
    "    return \"\".join(lst)\n",
    "\n",
    "def decode_Huffman(encoded_data: list, code: dict) -> list:\n",
    "    \"\"\"\n",
    "    >>> decode_Huffman('0100110', {0: '0', 1: '1'})\n",
    "    [0, 1, 0, 0, 1, 1, 0]\n",
    "\n",
    "    Args:\n",
    "        encoded_data: string with encoded data\n",
    "        code: dict with symbols and their Huffman codes\n",
    "\n",
    "    Returns:\n",
    "        list of symbols\n",
    "    \"\"\"\n",
    "    code= {v:k for k,v in code.items()}\n",
    "    lst = []\n",
    "    codeword = ''\n",
    "    for symbol in encoded_data:\n",
    "        codeword += symbol\n",
    "        if code.get(codeword) != None:\n",
    "            lst.append(code[codeword])\n",
    "            codeword = ''\n",
    "    return lst"
   ]
  },
  {
   "cell_type": "code",
   "execution_count": 15,
   "id": "2643d27a",
   "metadata": {},
   "outputs": [],
   "source": [
    "symbols_and_probabilities = dict(zip(np.array(Xcal),empirical_dist))\n",
    "huffman_codewords = huffman_code(symbols_and_probabilities)"
   ]
  },
  {
   "cell_type": "code",
   "execution_count": 16,
   "id": "7c02d78d",
   "metadata": {},
   "outputs": [],
   "source": [
    "def check_compression(data, compressor, decompressor):\n",
    "    \"\"\"\n",
    "    Check that the compressor and decompressor work correctly and report the size of the compression and the \n",
    "    compression ratio. \n",
    "\n",
    "    Args:\n",
    "    data: a 1D numpy array of letters from the alphabet 'abcdefghijklm'.\n",
    "    compressor: a function that takes in data and returns a tuple of compressed data and a code. \n",
    "                The compressed data must be a 1D numpy array of bits (0s and 1s). \n",
    "    decompressor: a function that takes in compressed data and a code and returns the decompressed data.\n",
    "    \"\"\"\n",
    "\n",
    "    # compress the data\n",
    "    compressed_data, code = compressor(data)\n",
    "    # decompress the data\n",
    "    decompressed_data = decompressor(compressed_data, code)\n",
    "    # check that the decompressed data matches the original data\n",
    "\n",
    "    assert decompressed_data == data, f\"Decompressed data does not match original data.\"\n",
    "\n",
    "    # Reporot size of compression:\n",
    "    print(f\"Original data size in bits: {len(data) * np.ceil(np.log2(len(Xcal)))}\")\n",
    "    print(f\"Compressed data size in bits: {len(compressed_data)}\")\n",
    "    print(f\"Compressed data size in bits per symbol: {len(compressed_data) / len(data):.2f}\")\n",
    "    print(f\"Compression ratio: {len(compressed_data) / (len(data) * np.log2(len(Xcal))):.2f}\")\n"
   ]
  },
  {
   "cell_type": "code",
   "execution_count": 17,
   "id": "2be1f703",
   "metadata": {},
   "outputs": [
    {
     "name": "stdout",
     "output_type": "stream",
     "text": [
      "Original data size in bits: 400.0\n",
      "Compressed data size in bits: 400\n",
      "Compressed data size in bits per symbol: 4.00\n",
      "Compression ratio: 1.08\n"
     ]
    }
   ],
   "source": [
    "# Example of how to use the check_compression function:\n",
    "def dummy_compressor(data):\n",
    "    \"\"\"\n",
    "    This function takes in a 1D numpy array of letters from the alphabet 'abcdefghijklm' and returns a representation of every letter\n",
    "    using 4 bits accoding to the lexicographical order of the letters. (a -> 0000, b -> 0001, ..., m -> 1100)\n",
    "    \"\"\"\n",
    "    data_in_integers = letters_to_integers(data, Xcal)\n",
    "    data_in_bits = integers_to_binary(data_in_integers, k=4)\n",
    "    return data_in_bits, None\n",
    "\n",
    "def dummy_decompressor(compressed_data, code):\n",
    "    \"\"\"\n",
    "    This function inverses the simple_compressor function.\n",
    "    \"\"\"\n",
    "    compressed_data_in_integers = binary_to_integers(compressed_data, k=4)\n",
    "    return \"\".join(integers_to_letters(compressed_data_in_integers, Xcal))\n",
    "\n",
    "s = \"\".join(np.random.choice(Xcal, size=100))\n",
    "check_compression(s, dummy_compressor, dummy_decompressor)\n"
   ]
  },
  {
   "cell_type": "markdown",
   "id": "63f89b2c",
   "metadata": {},
   "source": [
    "5. \n",
    "\n",
    "(3), (4) Compress, Decompress, Verify & Report Huffman code compression results: \n"
   ]
  },
  {
   "cell_type": "code",
   "execution_count": 18,
   "id": "8deb0ccb",
   "metadata": {},
   "outputs": [],
   "source": [
    "def Huffman_compressor(data):\n",
    "    \"\"\"\n",
    "    This function takes in a 1D numpy array of letters from the alphabet 'abcdefghijklm' and returns a representation of every letter\n",
    "    using Huffman coding.\n",
    "    \"\"\"\n",
    "    uniques , state_counts = np.unique(data,return_counts=True)\n",
    "    empirical_dist = state_counts / state_counts.sum()\n",
    "    symbols_and_probabilities = dict(zip(np.array(uniques),empirical_dist))\n",
    "    huffman_codewords = huffman_code(symbols_and_probabilities)\n",
    "    return encode_Huffman(data, huffman_codewords), huffman_codewords\n",
    "\n",
    "\n",
    "def Huffman_decompressor(compressed_data, code):\n",
    "    \"\"\"\n",
    "    This function inverses the Huffman_compressor function.\n",
    "    \"\"\"\n",
    "\n",
    "    return decode_Huffman(compressed_data, code)\n",
    "\n"
   ]
  },
  {
   "cell_type": "code",
   "execution_count": 19,
   "id": "be1ef05e",
   "metadata": {},
   "outputs": [
    {
     "name": "stdout",
     "output_type": "stream",
     "text": [
      "Original data size in bits: 40000.0\n",
      "Compressed data size in bits: 34242\n",
      "Compressed data size in bits per symbol: 3.42\n",
      "Compression ratio: 0.93\n"
     ]
    }
   ],
   "source": [
    "check_compression(X.tolist(), Huffman_compressor, Huffman_decompressor)"
   ]
  },
  {
   "cell_type": "markdown",
   "id": "19d7a1a7",
   "metadata": {},
   "source": [
    "5.\n",
    "\n",
    "(5) If you repeat 5.1 - 5.4 while gradually increasing $n$, what is the limiting number of average bits per symbol?"
   ]
  },
  {
   "cell_type": "markdown",
   "id": "a2633203",
   "metadata": {},
   "source": [
    "Answer:\n",
    "\n",
    "The Expected average bits per symbol will be limited by the entropy of the stationary distribution, as $H(X)\\leq\\mathcal{\\mathbb{E}}[L]$"
   ]
  },
  {
   "cell_type": "code",
   "execution_count": 20,
   "id": "c6776134",
   "metadata": {},
   "outputs": [
    {
     "name": "stdout",
     "output_type": "stream",
     "text": [
      "The entropy of the stationary disribution: 3.49\n"
     ]
    }
   ],
   "source": [
    "print(f'The entropy of the stationary disribution: {entropy(stationary):0.2f}')"
   ]
  },
  {
   "cell_type": "markdown",
   "id": "3e1f1d59",
   "metadata": {},
   "source": [
    "### M2F Transformation"
   ]
  },
  {
   "cell_type": "markdown",
   "id": "7d7e9a47",
   "metadata": {},
   "source": [
    "6. \n",
    "\n",
    "(1), (2)  Write the transform and inverse functions + Argue that this transformation is invertible:"
   ]
  },
  {
   "cell_type": "markdown",
   "id": "3969fd1a",
   "metadata": {},
   "source": [
    "This transformation is invertible. Using the same dictionary used for encoding, use each encoded_symbol in the encoded input as index in the dictionary and replace this index with the symbol at that location in the dictionary. Move the symbol in the dictionary to the front of the dictionary and continue doing this for each encoded_symbol until the decoding is done"
   ]
  },
  {
   "cell_type": "code",
   "execution_count": 21,
   "id": "a01ba437",
   "metadata": {},
   "outputs": [],
   "source": [
    "def move_to_front_transform(input, max_int = 13):\n",
    "    \"\"\"\n",
    "    Move-to-front transform of a list of integers. The list of integers is assumed to consist of the integers 0, 1, ..., 12 in some order.\n",
    "\n",
    "    Args:\n",
    "    input: a list of integers\n",
    "    \"\"\"\n",
    "\n",
    "    dictionary = list(range(max_int))\n",
    "    encoded = []\n",
    "    for i in input:\n",
    "        idx = dictionary.index(i)\n",
    "        encoded.append(idx)\n",
    "        dictionary.pop(idx)\n",
    "        dictionary.insert(0,i)\n",
    "    \n",
    "    return encoded\n",
    "    \n",
    "    \n",
    "def inverse_move_to_front_transform(input, max_int = 13):\n",
    "    \"\"\"\n",
    "    Inverse move-to-front transform of a list of integers. The list of integers is assumed to consist of the integers 0, 1, ..., 12 in some order.\n",
    "\n",
    "    Args:\n",
    "    input: a list of integers\n",
    "    alphabet: a list of characters\n",
    "    \"\"\"\n",
    "    dictionary = list(range(max_int))\n",
    "    decoded = []\n",
    "    for i in input:\n",
    "        symbol = dictionary[i]\n",
    "        decoded.append(symbol)\n",
    "        dictionary.pop(i)\n",
    "        dictionary.insert(0,symbol) \n",
    "    return decoded"
   ]
  },
  {
   "cell_type": "markdown",
   "id": "93ab1c46",
   "metadata": {},
   "source": [
    "6.\n",
    "(3) Apply this transformation to the sample from the Markov chain you used in 5. Plot the histogram of the sequence of *integers* obtained after the transformation:"
   ]
  },
  {
   "cell_type": "code",
   "execution_count": 22,
   "id": "7b0a585b",
   "metadata": {},
   "outputs": [],
   "source": [
    "input = letters_to_integers(X, Xcal)\n",
    "encoded_M2F = move_to_front_transform(input)"
   ]
  },
  {
   "cell_type": "code",
   "execution_count": 23,
   "id": "abd4d6b8",
   "metadata": {},
   "outputs": [
    {
     "data": {
      "image/png": "[encoded data removed]",
      "text/plain": [
       "<Figure size 640x480 with 1 Axes>"
      ]
     },
     "metadata": {},
     "output_type": "display_data"
    }
   ],
   "source": [
    "unique, state_counts = np.unique(encoded_M2F,return_counts=True)\n",
    "empirical_dist = state_counts / state_counts.sum()\n",
    "plt.bar(unique, empirical_dist)\n",
    "plt.title(\"M2F Distribution\")\n",
    "plt.xlabel(\"Integers\")\n",
    "plt.xticks(unique)\n",
    "plt.ylabel('Probability');"
   ]
  },
  {
   "cell_type": "markdown",
   "id": "578bbcee",
   "metadata": {},
   "source": [
    "6.\n",
    "(4) Outline a procedure for compressing the Markov chain using the M2F transform and Huffman coding:"
   ]
  },
  {
   "cell_type": "markdown",
   "id": "480214ec",
   "metadata": {},
   "source": [
    "Outline:\n",
    "1. Convert data to integers\n",
    "2. Apply M2F transformation on the integers\n",
    "3. Create dictionary mapping integers to their Huffman codes\n",
    "4. Apply Huffman coding on the transformation using the dictionary\n",
    "5. Encoding - decode the encoded data using Huffman mapping dictionary\n",
    "6. Apply inverse M2F transformation on the decoded data\n",
    "7. Convert inverted data to alphabet "
   ]
  },
  {
   "cell_type": "markdown",
   "id": "c1fdb3d6",
   "metadata": {},
   "source": [
    "6. \n",
    "(5) Intuitively explain why your compression procedure is better than Huffman coding:"
   ]
  },
  {
   "cell_type": "markdown",
   "id": "14ce080a",
   "metadata": {},
   "source": [
    "the rationale of M2F transformation is that it a symbol  is replaced by its index in the stack of “recently used symbols”. As a result, long sequences of identical symbols are replaced by as many zeroes, whereas when a symbol that has not been used in a long time appears, it is replaced with a large number. if there is correlation between some symbols then these symbols tend to be converted to have smaller integers.\n",
    "\n",
    "Thus, MTF transformation takes advantage of local correlation of frequencies to reduce the entropy of a message. if the sequence exhibits local correlations, the transformation will result in a large number of small numbers such as \"0\"'s and \"1\"'s in the output.\n",
    "\n",
    "Huffman coding, on the other hand, takes into account the distribution of the data, awarding smaller codewords for more frequent symbols/sequence, but it does not address the local correlations as MTF transformation.\n",
    "As such, combining MTF and Huffman coding together utilizes advantages of each of the algorithms, creating a better two-tier compression scheme.  "
   ]
  },
  {
   "cell_type": "markdown",
   "id": "f92849a3",
   "metadata": {},
   "source": [
    "6. \n",
    "(6), (7) Implement the compressor and decompressor, compress the sample and report the average number of bits per symbol using the function `check_compression`:"
   ]
  },
  {
   "cell_type": "code",
   "execution_count": 24,
   "id": "34b83edf",
   "metadata": {},
   "outputs": [],
   "source": [
    "def compress_M2F_Huffman(data, Xcal= Xcal):\n",
    "    \"\"\"\n",
    "    Compress a string using the move-to-front and Huffman coding algorithms.\n",
    "\n",
    "    Args:\n",
    "    data: a string from the alphabet Xcal\n",
    "    Xcal: a list of characters\n",
    "\n",
    "    Returns:\n",
    "    encoded_data: a string of bits\n",
    "    huffman_code: a dictionary mapping integers to their Huffman codes or a Huffman tree\n",
    "    \"\"\"\n",
    "    input = letters_to_integers(data, Xcal)\n",
    "    encoded = move_to_front_transform(input)\n",
    "    unique, state_counts = np.unique(encoded,return_counts=True)\n",
    "    empirical_dist = state_counts / state_counts.sum()\n",
    "    symbols_and_probabilities = dict(zip(np.array(unique),empirical_dist))\n",
    "    huffman_codewords = huffman_code(symbols_and_probabilities)\n",
    "    encoded_data = encode_Huffman(encoded, huffman_codewords)\n",
    "    return encoded_data, huffman_codewords\n",
    "    \n",
    "\n",
    "\n",
    "def decompress_M2F_Huffman(encoded_data, huffman_code):\n",
    "    \"\"\"\n",
    "    Decompress a string using the move-to-front and Huffman coding algorithms.\n",
    "\n",
    "    Args:\n",
    "    encoded_data: a string of bits\n",
    "    huffman_code: a dictionary mapping integers to their Huffman codes or a Huffman tree\n",
    "    Xcal: a list of characters representing the original alphabet\n",
    "\n",
    "    Returns:\n",
    "    decoded_data: a string from the alphabet Xcal\n",
    "    \"\"\"\n",
    "\n",
    "    decoded_data = decode_Huffman(encoded_data, huffman_code)\n",
    "    decoded_input = inverse_move_to_front_transform(decoded_data)\n",
    "    return integers_to_letters(decoded_input, Xcal)\n",
    "    \n",
    "    \n"
   ]
  },
  {
   "cell_type": "code",
   "execution_count": 25,
   "id": "669c8f6f",
   "metadata": {},
   "outputs": [
    {
     "name": "stdout",
     "output_type": "stream",
     "text": [
      "Original data size in bits: 40000.0\n",
      "Compressed data size in bits: 20474\n",
      "Compressed data size in bits per symbol: 2.05\n",
      "Compression ratio: 0.55\n"
     ]
    }
   ],
   "source": [
    "check_compression(X.tolist(), compress_M2F_Huffman, decompress_M2F_Huffman)"
   ]
  },
  {
   "cell_type": "markdown",
   "id": "8dc377c3",
   "metadata": {},
   "source": [
    "6.\n",
    "(8) Did the compression ratio improve compared to vanilla Huffman coding? What is the gap from the optimal asymptotic compression ratio? "
   ]
  },
  {
   "cell_type": "markdown",
   "id": "75da762d",
   "metadata": {},
   "source": [
    "Yes, we can observe that the hybrid compression algorithm preforms better that the vanilla Huffman coding,  as the compression ratio is smaller.\n",
    "\n",
    "The optimal asymptotic compression ratio is the entropy rate divided by $\\log(M)$ which equals to $ \\log(13)$ in our case.\n",
    "\n",
    "In our case this value is equal to:"
   ]
  },
  {
   "cell_type": "code",
   "execution_count": 26,
   "id": "f7b35823",
   "metadata": {},
   "outputs": [
    {
     "name": "stdout",
     "output_type": "stream",
     "text": [
      "The optimal asymptotic compression ratio is: 0.402\n",
      "The gap from the optimal asymptotic compression ratio is: 0.138\n"
     ]
    }
   ],
   "source": [
    "optimal = entropy_rate / np.log2(len(Xcal))\n",
    "print(f'The optimal asymptotic compression ratio is: {optimal:0.3f}')\n",
    "print(f\"The gap from the optimal asymptotic compression ratio is: {0.54 - optimal:0.3f}\")"
   ]
  },
  {
   "cell_type": "markdown",
   "id": "77ef22e0",
   "metadata": {},
   "source": [
    "## Problem 3: Joint Typicality and Channel Coding\n",
    "(Based on problem 7.15 in Thomas \\& Cover)\n",
    "\n",
    "Consider a binary symmetric channel (BSC) with bit-flip probability $p=0.1$. Namely,\n",
    "$$\n",
    "P_{Y|X} = \\begin{bmatrix} 0.9 & 0.1 \\\\\n",
    "0.1 & 0.9 \n",
    "\\end{bmatrix}\n",
    "$$\n",
    "1. What is the input distribution $P_X^*$ that achieves the capacity?\n",
    "2. Write the joint distribution $P_{X,Y}$ (as a $2 \\times 2$ matrix) when $P_X = P_X^*$ is the distribution in (1).\n",
    "3. Find $H(X)$, $X(Y)$, $H(X,Y)$, and $I(X,Y)$ when $P_X = P_X^*$.\n",
    "4. Let $X_1,X_2,\\ldots,X_n$ be drawn IID according to $\\mathrm{Bernoulli}(1/2)$ distribution. Of the $2^n$ possible input sequence of length $n$, which of them are typical (i.e., members of $A_{\\epsilon}^{(n)}(X)$)? Which $Y$ sequences are typical? \n",
    "5. Let $Z^n$ the sequence indicating bit-flips, so that we have $Y^n = X^n \\oplus Z^n$ and $Z^n$ is independent of $Y^n$. Argue that\n",
    "$$\n",
    " p(x^n,y^n) = p(x^n)p(z^n) = \\left(\\frac{1}{2} \\right)^n (1 - p)^{n -k} p^k,\n",
    "$$\n",
    "where $k$ is the number of bit-flips (non-zeros of $z^n$).\n",
    "\n",
    "6. Recall the jointly typical set $A_{\\epsilon}^{(n)}(X,Y)$ defined in class. Based on (5), show that the condition $(x^n,y^n) \\in A_{\\epsilon}^{(n)}(X,Y)$ if and only if $z^n \\in A_{\\epsilon}^{(n)}(Z)$.  \n",
    "7. Write a program that checks if a sequence is in the set $A_{\\epsilon}^{(n)}(Z)$ for $\\epsilon=0.2$ and $n=25$ (you may reuse code from previous assignments). What is the size of $A_{\\epsilon}^{(n)}(Z)$ for these numbers?\n",
    "8. Now consider random coding for the channel $P_{Y|X}$ as in the proof of the achievability of the channel coding theorem. Assume that a codebook is generated by drawing $2^{nR}$ length-$n$ codewords independently from $\\mathrm{Bernoulli}(1/2)$. In order to send a message $w \\in \\{1,\\ldots,2^{nR}\\}$, send the $w$-th row in the codebook over the channel. The receiver looks at the received sequence and tries to find a codeword $\\hat{w}$ that is mapped to some $x^n(\\hat{w})$ that is jointly typical with $y^n$.\n",
    " - Implement the decoder in `decode_message` for an arbitrary codeword and $\\epsilon$ (see code prototype below). \n",
    " - Set your seed to your ID number. For $R=0.1, 0.2, 0.3$ and $n=50$, generate a random codebook using the function ``build_random_codebook`` (once for every $n$ and $R$). Send a total of $N = 100$ independent messages through the channel. Report on the following quantities for every $R$:\n",
    "    - Number of error events of the kind: 'no jointly typical pair was found'\n",
    "    - Number of error events of the kind: 'more than one jointly typical pair was found'\n",
    "    - Average number of events over the $N$ messages (this is an estimate to the average probability of error)\n",
    "\n",
    "    You can achieve this part using the function `check_transmission`, once you complete the code in the indicated places.\n"
   ]
  },
  {
   "cell_type": "markdown",
   "id": "cdcd5c24",
   "metadata": {},
   "source": [
    "Answers:\n",
    "\n",
    "1.\n",
    "\n",
    "$C=\\max_{P_X}I(X;Y)$\n",
    "\n",
    "$I(X;Y) = H(Y) - H(Y|X)$\n",
    "\n",
    "$H(Y|X) = P(x=0)H(Y|x=0) + P(x=1)H(Y|x=1)$\n",
    "\n",
    "$ \\Rightarrow H(Y|X) = P(x=0) * h_2(0.1) + P(x=1) * h_2(0.1)  =  h_2(0.1) \\approx  0.469 $\n",
    "\n",
    "Let's calculate $P_Y$:\n",
    "\n",
    "For convenience let's denote $P(x=0)=P_{x0}$ and $P(x=1)=P_{x1}$\n",
    "\n",
    "$P(y=1) =  P_{x1}*P(1|1) + (1-P_{x1})*P(1|0) = 0.9P_{x1}+0.1(1-P_{x1})=0.8P_{x1}+0.1$\n",
    "\n",
    "$I(X;Y) = H(0.8P_{x1}+0.1) - h_2(0.1)$\n",
    "\n",
    "$\\frac{d}{dt}I(X;Y)= \\log_2(\\frac{0.9-0.8P_{x1}}{0.8P_{x1}+0.1})*0.8 = 0$\n",
    "\n",
    "$\\frac{0.9-0.8P_{x1}}{0.8P_{x1}+0.1} = 1$\n",
    "\n",
    "$ P_{x1} = \\frac{1}{2}$\n",
    "\n",
    "$ \\Rightarrow P_X =  \\left\\{\\frac{1}{2}, \\frac{1}{2}\\right\\} $"
   ]
  },
  {
   "cell_type": "markdown",
   "id": "7e051528",
   "metadata": {},
   "source": [
    "2.\n",
    "\n",
    "$ P_X =  \\left\\{\\frac{1}{2}, \\frac{1}{2}\\right\\}$\n",
    "\n",
    "$P(y=1) =  P_{x1}*P(1|1) + (1-P_{x1})*P(1|0) = 0.9P_{x1}+0.1(1-P_{x1})=0.8P_{x1}+0.1 = \\frac{1}{2}$\n",
    "\n",
    "$\\Rightarrow P_Y =  \\left\\{\\frac{1}{2}, \\frac{1}{2}\\right\\}$ \n",
    "\n",
    "As $P(X,Y) =  P_{X}*P(Y|X),\\space$ We can divide the conditional probabilty matrix by $\\frac{1}{2}$ and get the joint probability.\n",
    "\n",
    "\n",
    "$\\Rightarrow\n",
    "P_{X,Y} = \\begin{bmatrix} 0.45 & 0.05 \\\\\n",
    "0.05 & 0.45 \n",
    "\\end{bmatrix}\n",
    "$"
   ]
  },
  {
   "cell_type": "markdown",
   "id": "8e393061",
   "metadata": {},
   "source": [
    "3. \n",
    "\n",
    "$H(X) = H(Y) = h_2(0.5) =  1 $,\n",
    "\n",
    "$H(X,Y) = H(P_{X,Y}) = 1.469$\n",
    "\n",
    "$I(X,Y) = H(Y) - H(Y|X) = 1 - h_2(0.1) \\approx 0.531 $"
   ]
  },
  {
   "cell_type": "markdown",
   "id": "5071fc85",
   "metadata": {},
   "source": [
    "4. \n",
    "\n",
    "As $ \\Rightarrow P_X = P_Y =   \\left\\{\\frac{1}{2}, \\frac{1}{2}\\right\\} $ and $H(X) = H(Y) =  1 $\n",
    "\n",
    "$A_{\\varepsilon}^{(n)}:=\\{x^{n}\\in\\mathcal{X}^{n}:|-\\frac{1}{n}\\sum_{i=1}^{n}\\log P(x_{i}) - 1|\\leq\\varepsilon$\n",
    "\n",
    "$-\\frac{1}{n}\\sum_{i=1}^{n}\\log P(x_{i})=-\\frac{1}{n}\\sum_{i=1}^{n}-1=1 $\n",
    "\n",
    "$ \\Rightarrow x^{n}\\in A_{\\varepsilon}^{(n)} \\space\\space \\forall x^{n}\\in\\mathcal{X}^{n} $  - same as for $Y$.\n",
    "\n",
    "Thus, all $2^n$ sequences are in the typical set both for X and Y."
   ]
  },
  {
   "cell_type": "markdown",
   "id": "3f9646f5",
   "metadata": {},
   "source": [
    "5.\n",
    "\n",
    "$p(X,Y,Z)=p(Y|X,Z)p(X,Z)$\n",
    "\n",
    "$p(Y|X,Z)=1$ - This is because if we know the outcome of two of the RV's, the third one's outcome is deterministic \n",
    "\n",
    "$\\Rightarrow p(X,Y,Z)=p(X,Z)$\n",
    "\n",
    "$p(X,Y,Z)=p(Z|X,Y)p(X,Y)$\n",
    "\n",
    "$p(Z|X,Y)=1$\n",
    "\n",
    "$\\Rightarrow p(X,Y,Z)=p(X,Y)$\n",
    "\n",
    "$\\Rightarrow p(X,Y)=p(X,Z)$\n",
    "\n",
    "$\\Rightarrow p(x^n,y^n)=p(x^n,z^n) $\n",
    "\n",
    "$p(x^n,z^n)=p(x^n)p(z^n)$ as $X\\bot Z $\n",
    "\n",
    "$p(x^n)=(\\frac{1}{2})^n$ as it is drawn IID according to $\\mathrm{Bern}(\\frac{1}{2})$.\n",
    "\n",
    "$p(z^n)=$ the probability of having k ones and n-k zeros. Thus, as it is drawn IID:\n",
    "\n",
    "$p(z^n)= (1 - p)^{n -k} p^k$\n",
    "\n",
    "$\\Rightarrow p(x^n,z^n) =  \\left(\\frac{1}{2} \\right)^n (1 - p)^{n -k} p^k$"
   ]
  },
  {
   "cell_type": "markdown",
   "id": "dc97495f",
   "metadata": {},
   "source": [
    "6.\n",
    "\n",
    "Assume $(x^n,y^n) \\in A_{\\epsilon}^{(n)}(X,Y)$\n",
    "\n",
    "$ \\Rightarrow |-\\frac{1}{n}\\sum_{i=1}^{n}\\log P(x_{i},y_{i})-H(X,Y)|\\leq\\varepsilon$\n",
    "\n",
    "based on question 5: \n",
    "\n",
    "$-\\frac{1}{n}\\sum_{i=1}^{n}\\log P(x_{i},y_{i})=-\\frac{1}{n}\\sum_{i=1}^{n}\\log P(x_{i},z_{i})=-\\frac{1}{n}\\sum_{i=1}^{n}\\log P(x_{i})P(z_{i})=-\\frac{1}{n}\\sum_{i=1}^{n}\\log P(x_{i})-\\frac{1}{n}\\sum_{i=1}^{n}\\log P(z_{i})$\n",
    "\n",
    "$H(X,Y)=H(X,Z)=H(X)+H(Z)$ as $X\\bot Z$ and we showed that $p(X,Y)=p(X,Z)$\n",
    "\n",
    "$\\Rightarrow|-\\frac{1}{n}\\sum_{i=1}^{n}\\log P(x_{i})-H(X)-\\frac{1}{n}\\sum_{i=1}^{n}\\log P(z_{i})-H(Z)|\\leq\\varepsilon$\n",
    "\n",
    "$-\\frac{1}{n}\\sum_{i=1}^{n}\\log P(x_{i})-H(X)=0$ as $X\\sim B(\\frac{1}{2})$\n",
    "\n",
    "$\\Rightarrow|-\\frac{1}{n}\\sum_{i=1}^{n}\\log P(z_{i})-H(Z)|\\leq\\varepsilon$\n",
    "\n",
    "$\\Rightarrow z^{n}\\in A_{\\epsilon}^{(n)}(Z)$\n",
    "\n",
    "Now the other way around:\n",
    "\n",
    "assume $\\Rightarrow z^{n}\\in A_{\\epsilon}^{(n)}(Z)$\n",
    "\n",
    "$\\Rightarrow|-\\frac{1}{n}\\sum_{i=1}^{n}\\log P(z_{i})-H(Z)|\\leq\\varepsilon$\n",
    "\n",
    "$X\\sim B(\\frac{1}{2}) \\Rightarrow x^{n}\\in A_{\\varepsilon}^{(n)} \\space\\space \\forall x^{n}\\in\\mathcal{X}^{n} $, and same for $Y$ as shown in question 4.\n",
    "\n",
    "$|-\\frac{1}{n}\\sum_{i=1}^{n}\\log P(x_{i})-H(X)|=0$\n",
    "\n",
    "$\\Rightarrow|-\\frac{1}{n}\\sum_{i=1}^{n}\\log P(z_{i})-H(Z)|=|-\\frac{1}{n}\\sum_{i=1}^{n}\\log P(x_{i})-H(X)-\\frac{1}{n}\\sum_{i=1}^{n}\\log P(z_{i})-H(Z)|\\leq\\varepsilon=$\n",
    "\n",
    "$|-\\frac{1}{n}\\sum_{i=1}^{n}\\log P(x_{i})P(z_{i})-H(X)-H(Z)|=|-\\frac{1}{n}\\sum_{i=1}^{n}\\log P(x_{i},z_{i})-H(X,Z)|\\leq\\varepsilon=$\n",
    "\n",
    "$|-\\frac{1}{n}\\sum_{i=1}^{n}\\log P(x_{i},y_{i})-H(X,Y)|\\leq\\varepsilon$\n",
    "\n",
    "And as $x^{n}\\in A_{\\varepsilon}^{(n)}(X) \\space\\space \\forall x^{n}\\in\\mathcal{X}^{n}$ and $y^{n}\\in A_{\\varepsilon}^{(n)}(Y) \\space\\space \\forall y^{n}\\in\\mathcal{Y}^{n}$\n",
    "\n",
    "All three terms are met:\n",
    "\n",
    "$\\Rightarrow(x^n,y^n) \\in A_{\\epsilon}^{(n)}(X,Y)$\n"
   ]
  },
  {
   "cell_type": "markdown",
   "id": "80dae088",
   "metadata": {},
   "source": [
    "7. \n",
    "\n",
    "A program that checks if a sequence is in the set $A_{\\epsilon}^{(n)}(Z)$ for $\\epsilon=0.2$ and $n=25$:"
   ]
  },
  {
   "cell_type": "code",
   "execution_count": 27,
   "id": "4b0375e4",
   "metadata": {},
   "outputs": [],
   "source": [
    "def istypical(sequence : np.array ,p: float=0.1, epsilon:float=0.2 , n:int=25):\n",
    "    k = sequence.sum(axis=1)\n",
    "    P = p**k*(1-p)**(n-k)\n",
    "    return np.abs((-np.log2(P) / n - entropy(np.array([1-p,p])))) < epsilon"
   ]
  },
  {
   "cell_type": "markdown",
   "id": "b8a67a34",
   "metadata": {},
   "source": [
    "The size of $A_{\\epsilon}^{(n)}(Z)$ for these numbers is between $(1-0.2)2^{25*H(0.1)-0.2}\\leq|A_{\\epsilon}^{(n)}(Z)|\\leq2^{25*H(0.1)+0.2}$\n",
    "\n",
    "Calculating the actual number :"
   ]
  },
  {
   "cell_type": "code",
   "execution_count": 28,
   "id": "28c59c82",
   "metadata": {},
   "outputs": [],
   "source": [
    "n = 25\n",
    "p = 0.1\n",
    "epsilon = 0.2\n",
    "typical_count = 0\n",
    "H = entropy(np.array([1-p,p]))\n",
    "for i in range(n+1):\n",
    "    P = p**i*(1-p)**(n-i)\n",
    "    if np.abs(-np.log2(P) / n - H) <= epsilon:\n",
    "         typical_count += comb(n, i)\n"
   ]
  },
  {
   "cell_type": "code",
   "execution_count": 29,
   "id": "1378a628",
   "metadata": {},
   "outputs": [
    {
     "name": "stdout",
     "output_type": "stream",
     "text": [
      "The size of the typical set for epsilon=0.2 and n=25 is: 15275\n"
     ]
    }
   ],
   "source": [
    "print(f'The size of the typical set for epsilon={epsilon} and n={n} is: {typical_count}')"
   ]
  },
  {
   "cell_type": "code",
   "execution_count": 30,
   "id": "01137620",
   "metadata": {},
   "outputs": [],
   "source": [
    "np.random.seed(YOUR_ID_NUMBER)\n",
    "\n",
    "def send_through_channel(x, p):\n",
    "    \"\"\"\n",
    "    Simulate a binary symmetric channel with crossover probability p\n",
    "    \"\"\"\n",
    "    z = np.random.rand() < p\n",
    "    return x ^ z # XOR\n",
    "\n",
    "def sample_message(n, R):\n",
    "    \"\"\"\n",
    "    Draw a random message out of ceil(2^(nR)) possible messages\n",
    "    \"\"\"\n",
    "    return np.random.randint(np.ceil(2**(R*n)))\n",
    "\n",
    "def build_random_codebook(n, R):\n",
    "    \"\"\"\n",
    "    Generate a random codebook of 2^(nR) codewords\n",
    "    \"\"\"\n",
    "    return np.random.randint(2, size=(int(np.ceil(2**(R*n))), n))\n",
    "\n",
    "def encode_message(W, codebook):\n",
    "    \"\"\"\n",
    "    Encode a message W using a codebook\n",
    "    \"\"\"\n",
    "    return codebook[W]\n",
    "\n",
    "\n",
    "def decode_message(y, codebook, epsilon, p):\n",
    "    \"\"\"\n",
    "    Decode a received message y using the codebook using joint typicality\n",
    "    In this version, if we find more than one typical codeword we return \n",
    "    the first one we find. We return None if no typical codeword is found.\n",
    "    \n",
    "    Args:\n",
    "    y: received message\n",
    "    codebook: the codebook (2D array of size 2^(nR) x n)\n",
    "    epsilon: joint typicality threshold\n",
    "    \"\"\"\n",
    "    # calculate Z vectors (Z = X^(X^Z))\n",
    "    Zs = codebook ^ y\n",
    "\n",
    "    # finds which Z's are in the typical set\n",
    "    potential_messages  = istypical(sequence=Zs, p=p, epsilon=epsilon, n=codebook.shape[1])\n",
    "\n",
    "    # return the index of the first typical we find\n",
    "    if potential_messages.any():\n",
    "        return np.argwhere(potential_messages)[0][0]\n",
    "        \n",
    "    # return none if no typical codeword was found\n",
    "    return None\n",
    "\n",
    "\n",
    "def simulate_transmission(w, codebook, epsilon, p, verbose=False):\n",
    "    \"\"\"\n",
    "    Simulate the transmission of a message through the channel\n",
    "\n",
    "    w: message index\n",
    "    codebook: the codebook (2D array of size 2^(nR) x n)\n",
    "    epsilon: joint typicality threshold\n",
    "    p: channel crossover probability\n",
    "\n",
    "    Returns the decoded message\n",
    "    \"\"\"\n",
    "    x = encode_message(w, codebook)\n",
    "    y = np.zeros_like(x)    \n",
    "    n = len(x)\n",
    "    for i in range(n):  # sending n transmissions through the channel\n",
    "        y[i] = send_through_channel(x[i], p)\n",
    "    w_hat = decode_message(y, codebook, epsilon, p)\n",
    "\n",
    "    if verbose:\n",
    "        print(\"Message: \", w)\n",
    "        print(\"Encoded message:  \", x)\n",
    "        print(\"Received message: \", y)\n",
    "        print(\"Decoded message: \", w_hat)\n",
    "    return w_hat\n",
    "\n",
    "\n",
    "def check_transmission(N, n, R, epsilon, p):\n",
    "    \"\"\"\n",
    "    Check the transmission of N random messages through the channel.\n",
    "\n",
    "    N: number of messages to simulate\n",
    "    n: number of channel uses\n",
    "    R: code rate\n",
    "    p: channel crossover probability\n",
    "    epsilon: joint typicality threshold\n",
    "\n",
    "    Returns a dictionary with the number of non-typical errors, the number of more than one typical errors.\n",
    "    \"\"\"\n",
    "\n",
    "    codebook = build_random_codebook(n, R)  # generate a random codebook\n",
    "    \n",
    "    num_of_non_typical = 0            # update this number in the loop\n",
    "    num_of_more_than_one_typical = 0  # update this number in the loop\n",
    "\n",
    "    for _ in range(N):\n",
    "        w = sample_message(n, R)\n",
    "        w_hat = simulate_transmission(w, codebook, epsilon, p)\n",
    "                \n",
    "        if w_hat is None:\n",
    "            num_of_non_typical +=1 \n",
    "        elif w != w_hat:\n",
    "            num_of_more_than_one_typical +=1\n",
    "\n",
    "\n",
    "                \n",
    "    return dict(num_of_non_typical_errors=num_of_non_typical,\n",
    "            num_of_more_than_one_typical_errors=num_of_more_than_one_typical)\n"
   ]
  },
  {
   "cell_type": "code",
   "execution_count": 31,
   "id": "1e57cab1",
   "metadata": {},
   "outputs": [
    {
     "name": "stdout",
     "output_type": "stream",
     "text": [
      "For R=0.1 these are the results:\n",
      "-------------------------------\n",
      "Number of error events of the kind: \"no jointly typical pair was found\": 4\n",
      "Number of error events of the kind: \"more than one jointly typical pair was found\": 0\n",
      "Average number of events over the N messages:  0.04\n",
      "\n",
      "For R=0.2 these are the results:\n",
      "-------------------------------\n",
      "Number of error events of the kind: \"no jointly typical pair was found\": 11\n",
      "Number of error events of the kind: \"more than one jointly typical pair was found\": 0\n",
      "Average number of events over the N messages:  0.11\n",
      "\n",
      "For R=0.3 these are the results:\n",
      "-------------------------------\n",
      "Number of error events of the kind: \"no jointly typical pair was found\": 11\n",
      "Number of error events of the kind: \"more than one jointly typical pair was found\": 0\n",
      "Average number of events over the N messages:  0.11\n",
      "\n"
     ]
    }
   ],
   "source": [
    "np.random.seed(YOUR_ID_NUMBER)\n",
    "Rs = [0.1, 0.2, 0.3]\n",
    "N=100\n",
    "for R in Rs:\n",
    "    errors = check_transmission(N=N, n=50, R=R, epsilon=0.2, p=0.1)\n",
    "    non_typical_errors = errors['num_of_non_typical_errors']\n",
    "    mismatch_errors = errors['num_of_more_than_one_typical_errors']\n",
    "    print(f'For R={R} these are the results:')\n",
    "    print('-------------------------------')\n",
    "    print(f'Number of error events of the kind: \"no jointly typical pair was found\": {non_typical_errors}')\n",
    "    print(f'Number of error events of the kind: \"more than one jointly typical pair was found\": {mismatch_errors}')\n",
    "    print(f'Average number of events over the N messages: {(non_typical_errors + mismatch_errors)/ N: 0.2f}\\n')\n",
    "   "
   ]
  }
 ],
 "metadata": {
  "kernelspec": {
   "display_name": "Python 3",
   "language": "python",
   "name": "python3"
  },
  "language_info": {
   "codemirror_mode": {
    "name": "ipython",
    "version": 3
   },
   "file_extension": ".py",
   "mimetype": "text/x-python",
   "name": "python",
   "nbconvert_exporter": "python",
   "pygments_lexer": "ipython3",
   "version": "3.11.3"
  }
 },
 "nbformat": 4,
 "nbformat_minor": 5
}
